{
 "cells": [
  {
   "cell_type": "markdown",
   "id": "756ff99f",
   "metadata": {
    "papermill": {
     "duration": 0.027026,
     "end_time": "2022-06-02T13:28:05.568749",
     "exception": false,
     "start_time": "2022-06-02T13:28:05.541723",
     "status": "completed"
    },
    "tags": []
   },
   "source": [
    "# Veri Bilimi Dönem Projesi\n"
   ]
  },
  {
   "cell_type": "markdown",
   "id": "e76088ba",
   "metadata": {
    "papermill": {
     "duration": 0.025324,
     "end_time": "2022-06-02T13:28:05.621424",
     "exception": false,
     "start_time": "2022-06-02T13:28:05.596100",
     "status": "completed"
    },
    "tags": []
   },
   "source": [
    ""
   ]
  },
  {
   "cell_type": "code",
   "execution_count": 1,
   "id": "f5ea6735",
   "metadata": {
    "execution": {
     "iopub.execute_input": "2022-06-02T13:28:05.674479Z",
     "iopub.status.busy": "2022-06-02T13:28:05.673859Z",
     "iopub.status.idle": "2022-06-02T13:28:07.301476Z",
     "shell.execute_reply": "2022-06-02T13:28:07.300667Z"
    },
    "papermill": {
     "duration": 1.65726,
     "end_time": "2022-06-02T13:28:07.303953",
     "exception": false,
     "start_time": "2022-06-02T13:28:05.646693",
     "status": "completed"
    },
    "tags": []
   },
   "outputs": [],
   "source": [
    "import numpy as np\n",
    "import pandas as pd\n",
    "import seaborn as sns\n",
    "import matplotlib.pyplot as plt\n",
    "from sklearn import preprocessing\n",
    "from sklearn.model_selection import train_test_split,GridSearchCV,cross_val_score\n",
    "from sklearn.metrics import roc_auc_score, roc_curve,recall_score,f1_score,precision_score\n",
    "from sklearn.metrics import confusion_matrix,accuracy_score,classification_report\n",
    "from sklearn.neighbors import KNeighborsClassifier\n",
    "from sklearn.naive_bayes import GaussianNB\n",
    "from sklearn.tree import DecisionTreeClassifier\n",
    "from warnings import filterwarnings\n",
    "filterwarnings('ignore')"
   ]
  },
  {
   "cell_type": "markdown",
   "id": "0ba2d566",
   "metadata": {
    "papermill": {
     "duration": 0.026395,
     "end_time": "2022-06-02T13:28:07.357108",
     "exception": false,
     "start_time": "2022-06-02T13:28:07.330713",
     "status": "completed"
    },
    "tags": []
   },
   "source": [
    "# Keşifçi Veri Analizi"
   ]
  },
  {
   "cell_type": "markdown",
   "id": "58731323",
   "metadata": {
    "papermill": {
     "duration": 0.025631,
     "end_time": "2022-06-02T13:28:07.408385",
     "exception": false,
     "start_time": "2022-06-02T13:28:07.382754",
     "status": "completed"
    },
    "tags": []
   },
   "source": [
    "Veri setimizi yükleyelim ve df değişkenimize atayalım."
   ]
  },
  {
   "cell_type": "code",
   "execution_count": 2,
   "id": "e69cee28",
   "metadata": {
    "execution": {
     "iopub.execute_input": "2022-06-02T13:28:07.466745Z",
     "iopub.status.busy": "2022-06-02T13:28:07.466027Z",
     "iopub.status.idle": "2022-06-02T13:28:07.495907Z",
     "shell.execute_reply": "2022-06-02T13:28:07.495056Z"
    },
    "papermill": {
     "duration": 0.060101,
     "end_time": "2022-06-02T13:28:07.498242",
     "exception": false,
     "start_time": "2022-06-02T13:28:07.438141",
     "status": "completed"
    },
    "tags": []
   },
   "outputs": [],
   "source": [
    "df=pd.read_csv(\"../input/tablett/tablet.csv\")"
   ]
  },
  {
   "cell_type": "markdown",
   "id": "49a5606f",
   "metadata": {
    "papermill": {
     "duration": 0.025401,
     "end_time": "2022-06-02T13:28:07.550790",
     "exception": false,
     "start_time": "2022-06-02T13:28:07.525389",
     "status": "completed"
    },
    "tags": []
   },
   "source": [
    "İlk beş gözlem."
   ]
  },
  {
   "cell_type": "code",
   "execution_count": 3,
   "id": "bcfd6ad8",
   "metadata": {
    "execution": {
     "iopub.execute_input": "2022-06-02T13:28:07.606277Z",
     "iopub.status.busy": "2022-06-02T13:28:07.605830Z",
     "iopub.status.idle": "2022-06-02T13:28:07.637363Z",
     "shell.execute_reply": "2022-06-02T13:28:07.636569Z"
    },
    "papermill": {
     "duration": 0.063437,
     "end_time": "2022-06-02T13:28:07.640120",
     "exception": false,
     "start_time": "2022-06-02T13:28:07.576683",
     "status": "completed"
    },
    "tags": []
   },
   "outputs": [
    {
     "data": {
      "text/html": [
       "<div>\n",
       "<style scoped>\n",
       "    .dataframe tbody tr th:only-of-type {\n",
       "        vertical-align: middle;\n",
       "    }\n",
       "\n",
       "    .dataframe tbody tr th {\n",
       "        vertical-align: top;\n",
       "    }\n",
       "\n",
       "    .dataframe thead th {\n",
       "        text-align: right;\n",
       "    }\n",
       "</style>\n",
       "<table border=\"1\" class=\"dataframe\">\n",
       "  <thead>\n",
       "    <tr style=\"text-align: right;\">\n",
       "      <th></th>\n",
       "      <th>BataryaGucu</th>\n",
       "      <th>Bluetooth</th>\n",
       "      <th>MikroislemciHizi</th>\n",
       "      <th>CiftHat</th>\n",
       "      <th>OnKameraMP</th>\n",
       "      <th>4G</th>\n",
       "      <th>DahiliBellek</th>\n",
       "      <th>Kalinlik</th>\n",
       "      <th>Agirlik</th>\n",
       "      <th>CekirdekSayisi</th>\n",
       "      <th>ArkaKameraMP</th>\n",
       "      <th>CozunurlukYükseklik</th>\n",
       "      <th>CozunurlukGenislik</th>\n",
       "      <th>RAM</th>\n",
       "      <th>BataryaOmru</th>\n",
       "      <th>3G</th>\n",
       "      <th>Dokunmatik</th>\n",
       "      <th>WiFi</th>\n",
       "      <th>FiyatAraligi</th>\n",
       "      <th>Renk</th>\n",
       "    </tr>\n",
       "  </thead>\n",
       "  <tbody>\n",
       "    <tr>\n",
       "      <th>0</th>\n",
       "      <td>1325</td>\n",
       "      <td>Yok</td>\n",
       "      <td>1.9</td>\n",
       "      <td>Yok</td>\n",
       "      <td>2.0</td>\n",
       "      <td>Yok</td>\n",
       "      <td>50</td>\n",
       "      <td>0.1</td>\n",
       "      <td>146</td>\n",
       "      <td>1</td>\n",
       "      <td>10</td>\n",
       "      <td>499</td>\n",
       "      <td>695</td>\n",
       "      <td>2328.0</td>\n",
       "      <td>2</td>\n",
       "      <td>Var</td>\n",
       "      <td>Yok</td>\n",
       "      <td>Yok</td>\n",
       "      <td>Normal</td>\n",
       "      <td>Beyaz</td>\n",
       "    </tr>\n",
       "    <tr>\n",
       "      <th>1</th>\n",
       "      <td>1046</td>\n",
       "      <td>Var</td>\n",
       "      <td>2.8</td>\n",
       "      <td>Var</td>\n",
       "      <td>0.0</td>\n",
       "      <td>Var</td>\n",
       "      <td>58</td>\n",
       "      <td>0.2</td>\n",
       "      <td>100</td>\n",
       "      <td>8</td>\n",
       "      <td>0</td>\n",
       "      <td>259</td>\n",
       "      <td>1040</td>\n",
       "      <td>3863.0</td>\n",
       "      <td>9</td>\n",
       "      <td>Var</td>\n",
       "      <td>Var</td>\n",
       "      <td>Var</td>\n",
       "      <td>Pahalı</td>\n",
       "      <td>Pembe</td>\n",
       "    </tr>\n",
       "    <tr>\n",
       "      <th>2</th>\n",
       "      <td>843</td>\n",
       "      <td>Yok</td>\n",
       "      <td>1.3</td>\n",
       "      <td>Var</td>\n",
       "      <td>1.0</td>\n",
       "      <td>Yok</td>\n",
       "      <td>16</td>\n",
       "      <td>0.9</td>\n",
       "      <td>119</td>\n",
       "      <td>7</td>\n",
       "      <td>4</td>\n",
       "      <td>593</td>\n",
       "      <td>732</td>\n",
       "      <td>1734.0</td>\n",
       "      <td>14</td>\n",
       "      <td>Yok</td>\n",
       "      <td>Yok</td>\n",
       "      <td>Var</td>\n",
       "      <td>Ucuz</td>\n",
       "      <td>Mor</td>\n",
       "    </tr>\n",
       "    <tr>\n",
       "      <th>3</th>\n",
       "      <td>894</td>\n",
       "      <td>Yok</td>\n",
       "      <td>0.5</td>\n",
       "      <td>Var</td>\n",
       "      <td>1.0</td>\n",
       "      <td>Var</td>\n",
       "      <td>50</td>\n",
       "      <td>0.5</td>\n",
       "      <td>199</td>\n",
       "      <td>3</td>\n",
       "      <td>14</td>\n",
       "      <td>1285</td>\n",
       "      <td>1462</td>\n",
       "      <td>3615.0</td>\n",
       "      <td>6</td>\n",
       "      <td>Var</td>\n",
       "      <td>Yok</td>\n",
       "      <td>Var</td>\n",
       "      <td>Pahalı</td>\n",
       "      <td>Turuncu</td>\n",
       "    </tr>\n",
       "    <tr>\n",
       "      <th>4</th>\n",
       "      <td>936</td>\n",
       "      <td>Yok</td>\n",
       "      <td>1.0</td>\n",
       "      <td>Yok</td>\n",
       "      <td>1.0</td>\n",
       "      <td>Yok</td>\n",
       "      <td>18</td>\n",
       "      <td>0.2</td>\n",
       "      <td>153</td>\n",
       "      <td>3</td>\n",
       "      <td>18</td>\n",
       "      <td>1330</td>\n",
       "      <td>1686</td>\n",
       "      <td>2391.0</td>\n",
       "      <td>3</td>\n",
       "      <td>Var</td>\n",
       "      <td>Var</td>\n",
       "      <td>Var</td>\n",
       "      <td>Normal</td>\n",
       "      <td>Beyaz</td>\n",
       "    </tr>\n",
       "  </tbody>\n",
       "</table>\n",
       "</div>"
      ],
      "text/plain": [
       "   BataryaGucu Bluetooth  MikroislemciHizi CiftHat  OnKameraMP   4G  \\\n",
       "0         1325       Yok               1.9     Yok         2.0  Yok   \n",
       "1         1046       Var               2.8     Var         0.0  Var   \n",
       "2          843       Yok               1.3     Var         1.0  Yok   \n",
       "3          894       Yok               0.5     Var         1.0  Var   \n",
       "4          936       Yok               1.0     Yok         1.0  Yok   \n",
       "\n",
       "   DahiliBellek  Kalinlik  Agirlik  CekirdekSayisi  ArkaKameraMP  \\\n",
       "0            50       0.1      146               1            10   \n",
       "1            58       0.2      100               8             0   \n",
       "2            16       0.9      119               7             4   \n",
       "3            50       0.5      199               3            14   \n",
       "4            18       0.2      153               3            18   \n",
       "\n",
       "   CozunurlukYükseklik  CozunurlukGenislik     RAM  BataryaOmru   3G  \\\n",
       "0                  499                 695  2328.0            2  Var   \n",
       "1                  259                1040  3863.0            9  Var   \n",
       "2                  593                 732  1734.0           14  Yok   \n",
       "3                 1285                1462  3615.0            6  Var   \n",
       "4                 1330                1686  2391.0            3  Var   \n",
       "\n",
       "  Dokunmatik WiFi FiyatAraligi     Renk  \n",
       "0        Yok  Yok       Normal    Beyaz  \n",
       "1        Var  Var       Pahalı    Pembe  \n",
       "2        Yok  Var         Ucuz      Mor  \n",
       "3        Yok  Var       Pahalı  Turuncu  \n",
       "4        Var  Var       Normal    Beyaz  "
      ]
     },
     "execution_count": 3,
     "metadata": {},
     "output_type": "execute_result"
    }
   ],
   "source": [
    "df.head(5)"
   ]
  },
  {
   "cell_type": "markdown",
   "id": "cd8c2bfa",
   "metadata": {
    "papermill": {
     "duration": 0.026033,
     "end_time": "2022-06-02T13:28:07.693787",
     "exception": false,
     "start_time": "2022-06-02T13:28:07.667754",
     "status": "completed"
    },
    "tags": []
   },
   "source": [
    "Veri setimizin kaç gözlem ve öznitelikten oluştuğu."
   ]
  },
  {
   "cell_type": "code",
   "execution_count": 4,
   "id": "f6192688",
   "metadata": {
    "execution": {
     "iopub.execute_input": "2022-06-02T13:28:07.748250Z",
     "iopub.status.busy": "2022-06-02T13:28:07.747803Z",
     "iopub.status.idle": "2022-06-02T13:28:07.755120Z",
     "shell.execute_reply": "2022-06-02T13:28:07.753825Z"
    },
    "papermill": {
     "duration": 0.037257,
     "end_time": "2022-06-02T13:28:07.757444",
     "exception": false,
     "start_time": "2022-06-02T13:28:07.720187",
     "status": "completed"
    },
    "tags": []
   },
   "outputs": [
    {
     "data": {
      "text/plain": [
       "(2000, 20)"
      ]
     },
     "execution_count": 4,
     "metadata": {},
     "output_type": "execute_result"
    }
   ],
   "source": [
    "df.shape"
   ]
  },
  {
   "cell_type": "markdown",
   "id": "9abea3fc",
   "metadata": {
    "papermill": {
     "duration": 0.026191,
     "end_time": "2022-06-02T13:28:07.810222",
     "exception": false,
     "start_time": "2022-06-02T13:28:07.784031",
     "status": "completed"
    },
    "tags": []
   },
   "source": [
    "Veri setindeki değişkenlerin hangi tipte olduğunu ve bellek kullanımı."
   ]
  },
  {
   "cell_type": "code",
   "execution_count": 5,
   "id": "a2da8b1f",
   "metadata": {
    "execution": {
     "iopub.execute_input": "2022-06-02T13:28:07.865608Z",
     "iopub.status.busy": "2022-06-02T13:28:07.865063Z",
     "iopub.status.idle": "2022-06-02T13:28:07.896050Z",
     "shell.execute_reply": "2022-06-02T13:28:07.895159Z"
    },
    "papermill": {
     "duration": 0.062087,
     "end_time": "2022-06-02T13:28:07.898815",
     "exception": false,
     "start_time": "2022-06-02T13:28:07.836728",
     "status": "completed"
    },
    "tags": []
   },
   "outputs": [
    {
     "name": "stdout",
     "output_type": "stream",
     "text": [
      "<class 'pandas.core.frame.DataFrame'>\n",
      "RangeIndex: 2000 entries, 0 to 1999\n",
      "Data columns (total 20 columns):\n",
      " #   Column               Non-Null Count  Dtype  \n",
      "---  ------               --------------  -----  \n",
      " 0   BataryaGucu          2000 non-null   int64  \n",
      " 1   Bluetooth            2000 non-null   object \n",
      " 2   MikroislemciHizi     2000 non-null   float64\n",
      " 3   CiftHat              2000 non-null   object \n",
      " 4   OnKameraMP           1995 non-null   float64\n",
      " 5   4G                   2000 non-null   object \n",
      " 6   DahiliBellek         2000 non-null   int64  \n",
      " 7   Kalinlik             2000 non-null   float64\n",
      " 8   Agirlik              2000 non-null   int64  \n",
      " 9   CekirdekSayisi       2000 non-null   int64  \n",
      " 10  ArkaKameraMP         2000 non-null   int64  \n",
      " 11  CozunurlukYükseklik  2000 non-null   int64  \n",
      " 12  CozunurlukGenislik   2000 non-null   int64  \n",
      " 13  RAM                  1988 non-null   float64\n",
      " 14  BataryaOmru          2000 non-null   int64  \n",
      " 15  3G                   2000 non-null   object \n",
      " 16  Dokunmatik           2000 non-null   object \n",
      " 17  WiFi                 2000 non-null   object \n",
      " 18  FiyatAraligi         2000 non-null   object \n",
      " 19  Renk                 2000 non-null   object \n",
      "dtypes: float64(4), int64(8), object(8)\n",
      "memory usage: 312.6+ KB\n"
     ]
    }
   ],
   "source": [
    "df.info()"
   ]
  },
  {
   "cell_type": "markdown",
   "id": "eabf73ed",
   "metadata": {
    "papermill": {
     "duration": 0.025934,
     "end_time": "2022-06-02T13:28:07.951337",
     "exception": false,
     "start_time": "2022-06-02T13:28:07.925403",
     "status": "completed"
    },
    "tags": []
   },
   "source": [
    ""
   ]
  },
  {
   "cell_type": "code",
   "execution_count": 6,
   "id": "06a8504e",
   "metadata": {
    "execution": {
     "iopub.execute_input": "2022-06-02T13:28:08.006941Z",
     "iopub.status.busy": "2022-06-02T13:28:08.005811Z",
     "iopub.status.idle": "2022-06-02T13:28:08.014673Z",
     "shell.execute_reply": "2022-06-02T13:28:08.013552Z"
    },
    "papermill": {
     "duration": 0.038857,
     "end_time": "2022-06-02T13:28:08.016880",
     "exception": false,
     "start_time": "2022-06-02T13:28:07.978023",
     "status": "completed"
    },
    "tags": []
   },
   "outputs": [
    {
     "data": {
      "text/plain": [
       "Normal      500\n",
       "Pahalı      500\n",
       "Ucuz        500\n",
       "Çok Ucuz    500\n",
       "Name: FiyatAraligi, dtype: int64"
      ]
     },
     "execution_count": 6,
     "metadata": {},
     "output_type": "execute_result"
    }
   ],
   "source": [
    "df[\"FiyatAraligi\"].value_counts()"
   ]
  },
  {
   "cell_type": "markdown",
   "id": "8ffba2cb",
   "metadata": {
    "papermill": {
     "duration": 0.026662,
     "end_time": "2022-06-02T13:28:08.071978",
     "exception": false,
     "start_time": "2022-06-02T13:28:08.045316",
     "status": "completed"
    },
    "tags": []
   },
   "source": [
    "countplot grafiğiyle FiyatAraligi parametresini görselleştirme"
   ]
  },
  {
   "cell_type": "code",
   "execution_count": 7,
   "id": "44c0665d",
   "metadata": {
    "execution": {
     "iopub.execute_input": "2022-06-02T13:28:08.129483Z",
     "iopub.status.busy": "2022-06-02T13:28:08.129053Z",
     "iopub.status.idle": "2022-06-02T13:28:08.307237Z",
     "shell.execute_reply": "2022-06-02T13:28:08.306453Z"
    },
    "papermill": {
     "duration": 0.209812,
     "end_time": "2022-06-02T13:28:08.309537",
     "exception": false,
     "start_time": "2022-06-02T13:28:08.099725",
     "status": "completed"
    },
    "tags": []
   },
   "outputs": [
    {
     "data": {
      "image/png": "[encoded data removed]",
      "text/plain": [
       "<Figure size 432x288 with 1 Axes>"
      ]
     },
     "metadata": {
      "needs_background": "light"
     },
     "output_type": "display_data"
    }
   ],
   "source": [
    "sns.countplot(x=\"FiyatAraligi\", data=df);"
   ]
  },
  {
   "cell_type": "markdown",
   "id": "f77dd73f",
   "metadata": {
    "papermill": {
     "duration": 0.026551,
     "end_time": "2022-06-02T13:28:08.363101",
     "exception": false,
     "start_time": "2022-06-02T13:28:08.336550",
     "status": "completed"
    },
    "tags": []
   },
   "source": [
    "Korelasyon matrisi"
   ]
  },
  {
   "cell_type": "code",
   "execution_count": 8,
   "id": "0480c14c",
   "metadata": {
    "execution": {
     "iopub.execute_input": "2022-06-02T13:28:08.419905Z",
     "iopub.status.busy": "2022-06-02T13:28:08.419060Z",
     "iopub.status.idle": "2022-06-02T13:28:08.444070Z",
     "shell.execute_reply": "2022-06-02T13:28:08.443064Z"
    },
    "papermill": {
     "duration": 0.056062,
     "end_time": "2022-06-02T13:28:08.446363",
     "exception": false,
     "start_time": "2022-06-02T13:28:08.390301",
     "status": "completed"
    },
    "tags": []
   },
   "outputs": [
    {
     "data": {
      "text/html": [
       "<div>\n",
       "<style scoped>\n",
       "    .dataframe tbody tr th:only-of-type {\n",
       "        vertical-align: middle;\n",
       "    }\n",
       "\n",
       "    .dataframe tbody tr th {\n",
       "        vertical-align: top;\n",
       "    }\n",
       "\n",
       "    .dataframe thead th {\n",
       "        text-align: right;\n",
       "    }\n",
       "</style>\n",
       "<table border=\"1\" class=\"dataframe\">\n",
       "  <thead>\n",
       "    <tr style=\"text-align: right;\">\n",
       "      <th></th>\n",
       "      <th>BataryaGucu</th>\n",
       "      <th>MikroislemciHizi</th>\n",
       "      <th>OnKameraMP</th>\n",
       "      <th>DahiliBellek</th>\n",
       "      <th>Kalinlik</th>\n",
       "      <th>Agirlik</th>\n",
       "      <th>CekirdekSayisi</th>\n",
       "      <th>ArkaKameraMP</th>\n",
       "      <th>CozunurlukYükseklik</th>\n",
       "      <th>CozunurlukGenislik</th>\n",
       "      <th>RAM</th>\n",
       "      <th>BataryaOmru</th>\n",
       "    </tr>\n",
       "  </thead>\n",
       "  <tbody>\n",
       "    <tr>\n",
       "      <th>BataryaGucu</th>\n",
       "      <td>1.000000</td>\n",
       "      <td>0.011482</td>\n",
       "      <td>0.032167</td>\n",
       "      <td>-0.004004</td>\n",
       "      <td>0.034085</td>\n",
       "      <td>0.001844</td>\n",
       "      <td>-0.029727</td>\n",
       "      <td>0.031441</td>\n",
       "      <td>0.014901</td>\n",
       "      <td>-0.008402</td>\n",
       "      <td>-0.000883</td>\n",
       "      <td>0.052510</td>\n",
       "    </tr>\n",
       "    <tr>\n",
       "      <th>MikroislemciHizi</th>\n",
       "      <td>0.011482</td>\n",
       "      <td>1.000000</td>\n",
       "      <td>-0.000172</td>\n",
       "      <td>0.006545</td>\n",
       "      <td>-0.014364</td>\n",
       "      <td>0.012350</td>\n",
       "      <td>-0.005724</td>\n",
       "      <td>-0.005245</td>\n",
       "      <td>-0.014523</td>\n",
       "      <td>-0.009476</td>\n",
       "      <td>0.003969</td>\n",
       "      <td>-0.011432</td>\n",
       "    </tr>\n",
       "    <tr>\n",
       "      <th>OnKameraMP</th>\n",
       "      <td>0.032167</td>\n",
       "      <td>-0.000172</td>\n",
       "      <td>1.000000</td>\n",
       "      <td>-0.028642</td>\n",
       "      <td>-0.001723</td>\n",
       "      <td>0.024585</td>\n",
       "      <td>-0.013721</td>\n",
       "      <td>0.645697</td>\n",
       "      <td>-0.010662</td>\n",
       "      <td>-0.005646</td>\n",
       "      <td>0.012528</td>\n",
       "      <td>-0.007121</td>\n",
       "    </tr>\n",
       "    <tr>\n",
       "      <th>DahiliBellek</th>\n",
       "      <td>-0.004004</td>\n",
       "      <td>0.006545</td>\n",
       "      <td>-0.028642</td>\n",
       "      <td>1.000000</td>\n",
       "      <td>0.006886</td>\n",
       "      <td>-0.034214</td>\n",
       "      <td>-0.028310</td>\n",
       "      <td>-0.033273</td>\n",
       "      <td>0.010441</td>\n",
       "      <td>-0.008335</td>\n",
       "      <td>0.032883</td>\n",
       "      <td>-0.002790</td>\n",
       "    </tr>\n",
       "    <tr>\n",
       "      <th>Kalinlik</th>\n",
       "      <td>0.034085</td>\n",
       "      <td>-0.014364</td>\n",
       "      <td>-0.001723</td>\n",
       "      <td>0.006886</td>\n",
       "      <td>1.000000</td>\n",
       "      <td>0.021756</td>\n",
       "      <td>-0.003504</td>\n",
       "      <td>0.026282</td>\n",
       "      <td>0.025263</td>\n",
       "      <td>0.023566</td>\n",
       "      <td>-0.007293</td>\n",
       "      <td>0.017003</td>\n",
       "    </tr>\n",
       "    <tr>\n",
       "      <th>Agirlik</th>\n",
       "      <td>0.001844</td>\n",
       "      <td>0.012350</td>\n",
       "      <td>0.024585</td>\n",
       "      <td>-0.034214</td>\n",
       "      <td>0.021756</td>\n",
       "      <td>1.000000</td>\n",
       "      <td>-0.018989</td>\n",
       "      <td>0.018844</td>\n",
       "      <td>0.000939</td>\n",
       "      <td>0.000090</td>\n",
       "      <td>-0.002536</td>\n",
       "      <td>0.006209</td>\n",
       "    </tr>\n",
       "    <tr>\n",
       "      <th>CekirdekSayisi</th>\n",
       "      <td>-0.029727</td>\n",
       "      <td>-0.005724</td>\n",
       "      <td>-0.013721</td>\n",
       "      <td>-0.028310</td>\n",
       "      <td>-0.003504</td>\n",
       "      <td>-0.018989</td>\n",
       "      <td>1.000000</td>\n",
       "      <td>-0.001193</td>\n",
       "      <td>-0.006872</td>\n",
       "      <td>0.024480</td>\n",
       "      <td>0.005576</td>\n",
       "      <td>0.013148</td>\n",
       "    </tr>\n",
       "    <tr>\n",
       "      <th>ArkaKameraMP</th>\n",
       "      <td>0.031441</td>\n",
       "      <td>-0.005245</td>\n",
       "      <td>0.645697</td>\n",
       "      <td>-0.033273</td>\n",
       "      <td>0.026282</td>\n",
       "      <td>0.018844</td>\n",
       "      <td>-0.001193</td>\n",
       "      <td>1.000000</td>\n",
       "      <td>-0.018465</td>\n",
       "      <td>0.004196</td>\n",
       "      <td>0.029540</td>\n",
       "      <td>0.014657</td>\n",
       "    </tr>\n",
       "    <tr>\n",
       "      <th>CozunurlukYükseklik</th>\n",
       "      <td>0.014901</td>\n",
       "      <td>-0.014523</td>\n",
       "      <td>-0.010662</td>\n",
       "      <td>0.010441</td>\n",
       "      <td>0.025263</td>\n",
       "      <td>0.000939</td>\n",
       "      <td>-0.006872</td>\n",
       "      <td>-0.018465</td>\n",
       "      <td>1.000000</td>\n",
       "      <td>0.510664</td>\n",
       "      <td>-0.023421</td>\n",
       "      <td>-0.010645</td>\n",
       "    </tr>\n",
       "    <tr>\n",
       "      <th>CozunurlukGenislik</th>\n",
       "      <td>-0.008402</td>\n",
       "      <td>-0.009476</td>\n",
       "      <td>-0.005646</td>\n",
       "      <td>-0.008335</td>\n",
       "      <td>0.023566</td>\n",
       "      <td>0.000090</td>\n",
       "      <td>0.024480</td>\n",
       "      <td>0.004196</td>\n",
       "      <td>0.510664</td>\n",
       "      <td>1.000000</td>\n",
       "      <td>0.002101</td>\n",
       "      <td>0.006720</td>\n",
       "    </tr>\n",
       "    <tr>\n",
       "      <th>RAM</th>\n",
       "      <td>-0.000883</td>\n",
       "      <td>0.003969</td>\n",
       "      <td>0.012528</td>\n",
       "      <td>0.032883</td>\n",
       "      <td>-0.007293</td>\n",
       "      <td>-0.002536</td>\n",
       "      <td>0.005576</td>\n",
       "      <td>0.029540</td>\n",
       "      <td>-0.023421</td>\n",
       "      <td>0.002101</td>\n",
       "      <td>1.000000</td>\n",
       "      <td>0.010444</td>\n",
       "    </tr>\n",
       "    <tr>\n",
       "      <th>BataryaOmru</th>\n",
       "      <td>0.052510</td>\n",
       "      <td>-0.011432</td>\n",
       "      <td>-0.007121</td>\n",
       "      <td>-0.002790</td>\n",
       "      <td>0.017003</td>\n",
       "      <td>0.006209</td>\n",
       "      <td>0.013148</td>\n",
       "      <td>0.014657</td>\n",
       "      <td>-0.010645</td>\n",
       "      <td>0.006720</td>\n",
       "      <td>0.010444</td>\n",
       "      <td>1.000000</td>\n",
       "    </tr>\n",
       "  </tbody>\n",
       "</table>\n",
       "</div>"
      ],
      "text/plain": [
       "                     BataryaGucu  MikroislemciHizi  OnKameraMP  DahiliBellek  \\\n",
       "BataryaGucu             1.000000          0.011482    0.032167     -0.004004   \n",
       "MikroislemciHizi        0.011482          1.000000   -0.000172      0.006545   \n",
       "OnKameraMP              0.032167         -0.000172    1.000000     -0.028642   \n",
       "DahiliBellek           -0.004004          0.006545   -0.028642      1.000000   \n",
       "Kalinlik                0.034085         -0.014364   -0.001723      0.006886   \n",
       "Agirlik                 0.001844          0.012350    0.024585     -0.034214   \n",
       "CekirdekSayisi         -0.029727         -0.005724   -0.013721     -0.028310   \n",
       "ArkaKameraMP            0.031441         -0.005245    0.645697     -0.033273   \n",
       "CozunurlukYükseklik     0.014901         -0.014523   -0.010662      0.010441   \n",
       "CozunurlukGenislik     -0.008402         -0.009476   -0.005646     -0.008335   \n",
       "RAM                    -0.000883          0.003969    0.012528      0.032883   \n",
       "BataryaOmru             0.052510         -0.011432   -0.007121     -0.002790   \n",
       "\n",
       "                     Kalinlik   Agirlik  CekirdekSayisi  ArkaKameraMP  \\\n",
       "BataryaGucu          0.034085  0.001844       -0.029727      0.031441   \n",
       "MikroislemciHizi    -0.014364  0.012350       -0.005724     -0.005245   \n",
       "OnKameraMP          -0.001723  0.024585       -0.013721      0.645697   \n",
       "DahiliBellek         0.006886 -0.034214       -0.028310     -0.033273   \n",
       "Kalinlik             1.000000  0.021756       -0.003504      0.026282   \n",
       "Agirlik              0.021756  1.000000       -0.018989      0.018844   \n",
       "CekirdekSayisi      -0.003504 -0.018989        1.000000     -0.001193   \n",
       "ArkaKameraMP         0.026282  0.018844       -0.001193      1.000000   \n",
       "CozunurlukYükseklik  0.025263  0.000939       -0.006872     -0.018465   \n",
       "CozunurlukGenislik   0.023566  0.000090        0.024480      0.004196   \n",
       "RAM                 -0.007293 -0.002536        0.005576      0.029540   \n",
       "BataryaOmru          0.017003  0.006209        0.013148      0.014657   \n",
       "\n",
       "                     CozunurlukYükseklik  CozunurlukGenislik       RAM  \\\n",
       "BataryaGucu                     0.014901           -0.008402 -0.000883   \n",
       "MikroislemciHizi               -0.014523           -0.009476  0.003969   \n",
       "OnKameraMP                     -0.010662           -0.005646  0.012528   \n",
       "DahiliBellek                    0.010441           -0.008335  0.032883   \n",
       "Kalinlik                        0.025263            0.023566 -0.007293   \n",
       "Agirlik                         0.000939            0.000090 -0.002536   \n",
       "CekirdekSayisi                 -0.006872            0.024480  0.005576   \n",
       "ArkaKameraMP                   -0.018465            0.004196  0.029540   \n",
       "CozunurlukYükseklik             1.000000            0.510664 -0.023421   \n",
       "CozunurlukGenislik              0.510664            1.000000  0.002101   \n",
       "RAM                            -0.023421            0.002101  1.000000   \n",
       "BataryaOmru                    -0.010645            0.006720  0.010444   \n",
       "\n",
       "                     BataryaOmru  \n",
       "BataryaGucu             0.052510  \n",
       "MikroislemciHizi       -0.011432  \n",
       "OnKameraMP             -0.007121  \n",
       "DahiliBellek           -0.002790  \n",
       "Kalinlik                0.017003  \n",
       "Agirlik                 0.006209  \n",
       "CekirdekSayisi          0.013148  \n",
       "ArkaKameraMP            0.014657  \n",
       "CozunurlukYükseklik    -0.010645  \n",
       "CozunurlukGenislik      0.006720  \n",
       "RAM                     0.010444  \n",
       "BataryaOmru             1.000000  "
      ]
     },
     "execution_count": 8,
     "metadata": {},
     "output_type": "execute_result"
    }
   ],
   "source": [
    "corr=df.corr()\n",
    "corr\n",
    "# Korelasyon, olasılık kuramı ve istatistikte iki rassal değişken arasındaki doğrusal ilişkinin\n",
    "# yönünü ve gücünü belirtir.\n",
    "# Korelasyon katsayısı, bağımsız değişkenler arasındaki ilişkinin yönü ve büyüklüğünü belirten  katsayıdır. \n",
    "# Bu katsayı, (-1) ile (+1) arasında bir değer alır.Korelasyon katsayısının 0'a yaklaşması değişkenler\n",
    "# arasında zayıf ilişkinin olduğunu gösterir.Değişkenler birlikte artıyor ve azalıyorsa pozitif yönde\n",
    "# değişkenlerden biri artarken diğeri azalıyorsa negatif yönde bir ilişki vardır.\n",
    "# Değerlere bakıldığında en güçlü ilişki OnKameraMP ile ArkaKameraMP değişkenleri arasındadır."
   ]
  },
  {
   "cell_type": "markdown",
   "id": "be071c28",
   "metadata": {
    "papermill": {
     "duration": 0.028622,
     "end_time": "2022-06-02T13:28:08.502667",
     "exception": false,
     "start_time": "2022-06-02T13:28:08.474045",
     "status": "completed"
    },
    "tags": []
   },
   "source": [
    "Veri setimizdeki sayısal değerler için temel istatistik değerleri"
   ]
  },
  {
   "cell_type": "code",
   "execution_count": 9,
   "id": "93e8ca3f",
   "metadata": {
    "execution": {
     "iopub.execute_input": "2022-06-02T13:28:08.560879Z",
     "iopub.status.busy": "2022-06-02T13:28:08.560380Z",
     "iopub.status.idle": "2022-06-02T13:28:08.615787Z",
     "shell.execute_reply": "2022-06-02T13:28:08.614594Z"
    },
    "papermill": {
     "duration": 0.087268,
     "end_time": "2022-06-02T13:28:08.617947",
     "exception": false,
     "start_time": "2022-06-02T13:28:08.530679",
     "status": "completed"
    },
    "tags": []
   },
   "outputs": [
    {
     "data": {
      "text/html": [
       "<div>\n",
       "<style scoped>\n",
       "    .dataframe tbody tr th:only-of-type {\n",
       "        vertical-align: middle;\n",
       "    }\n",
       "\n",
       "    .dataframe tbody tr th {\n",
       "        vertical-align: top;\n",
       "    }\n",
       "\n",
       "    .dataframe thead th {\n",
       "        text-align: right;\n",
       "    }\n",
       "</style>\n",
       "<table border=\"1\" class=\"dataframe\">\n",
       "  <thead>\n",
       "    <tr style=\"text-align: right;\">\n",
       "      <th></th>\n",
       "      <th>count</th>\n",
       "      <th>mean</th>\n",
       "      <th>std</th>\n",
       "      <th>min</th>\n",
       "      <th>25%</th>\n",
       "      <th>50%</th>\n",
       "      <th>75%</th>\n",
       "      <th>max</th>\n",
       "    </tr>\n",
       "  </thead>\n",
       "  <tbody>\n",
       "    <tr>\n",
       "      <th>BataryaGucu</th>\n",
       "      <td>2000.0</td>\n",
       "      <td>1238.518500</td>\n",
       "      <td>439.418206</td>\n",
       "      <td>501.0</td>\n",
       "      <td>851.75</td>\n",
       "      <td>1226.0</td>\n",
       "      <td>1615.25</td>\n",
       "      <td>1998.0</td>\n",
       "    </tr>\n",
       "    <tr>\n",
       "      <th>MikroislemciHizi</th>\n",
       "      <td>2000.0</td>\n",
       "      <td>1.522250</td>\n",
       "      <td>0.816004</td>\n",
       "      <td>0.5</td>\n",
       "      <td>0.70</td>\n",
       "      <td>1.5</td>\n",
       "      <td>2.20</td>\n",
       "      <td>3.0</td>\n",
       "    </tr>\n",
       "    <tr>\n",
       "      <th>OnKameraMP</th>\n",
       "      <td>1995.0</td>\n",
       "      <td>4.312281</td>\n",
       "      <td>4.342095</td>\n",
       "      <td>0.0</td>\n",
       "      <td>1.00</td>\n",
       "      <td>3.0</td>\n",
       "      <td>7.00</td>\n",
       "      <td>19.0</td>\n",
       "    </tr>\n",
       "    <tr>\n",
       "      <th>DahiliBellek</th>\n",
       "      <td>2000.0</td>\n",
       "      <td>32.046500</td>\n",
       "      <td>18.145715</td>\n",
       "      <td>2.0</td>\n",
       "      <td>16.00</td>\n",
       "      <td>32.0</td>\n",
       "      <td>48.00</td>\n",
       "      <td>64.0</td>\n",
       "    </tr>\n",
       "    <tr>\n",
       "      <th>Kalinlik</th>\n",
       "      <td>2000.0</td>\n",
       "      <td>0.501750</td>\n",
       "      <td>0.288416</td>\n",
       "      <td>0.1</td>\n",
       "      <td>0.20</td>\n",
       "      <td>0.5</td>\n",
       "      <td>0.80</td>\n",
       "      <td>1.0</td>\n",
       "    </tr>\n",
       "    <tr>\n",
       "      <th>Agirlik</th>\n",
       "      <td>2000.0</td>\n",
       "      <td>140.249000</td>\n",
       "      <td>35.399655</td>\n",
       "      <td>80.0</td>\n",
       "      <td>109.00</td>\n",
       "      <td>141.0</td>\n",
       "      <td>170.00</td>\n",
       "      <td>200.0</td>\n",
       "    </tr>\n",
       "    <tr>\n",
       "      <th>CekirdekSayisi</th>\n",
       "      <td>2000.0</td>\n",
       "      <td>4.520500</td>\n",
       "      <td>2.287837</td>\n",
       "      <td>1.0</td>\n",
       "      <td>3.00</td>\n",
       "      <td>4.0</td>\n",
       "      <td>7.00</td>\n",
       "      <td>8.0</td>\n",
       "    </tr>\n",
       "    <tr>\n",
       "      <th>ArkaKameraMP</th>\n",
       "      <td>2000.0</td>\n",
       "      <td>9.916500</td>\n",
       "      <td>6.064315</td>\n",
       "      <td>0.0</td>\n",
       "      <td>5.00</td>\n",
       "      <td>10.0</td>\n",
       "      <td>15.00</td>\n",
       "      <td>20.0</td>\n",
       "    </tr>\n",
       "    <tr>\n",
       "      <th>CozunurlukYükseklik</th>\n",
       "      <td>2000.0</td>\n",
       "      <td>645.108000</td>\n",
       "      <td>443.780811</td>\n",
       "      <td>0.0</td>\n",
       "      <td>282.75</td>\n",
       "      <td>564.0</td>\n",
       "      <td>947.25</td>\n",
       "      <td>1960.0</td>\n",
       "    </tr>\n",
       "    <tr>\n",
       "      <th>CozunurlukGenislik</th>\n",
       "      <td>2000.0</td>\n",
       "      <td>1251.515500</td>\n",
       "      <td>432.199447</td>\n",
       "      <td>500.0</td>\n",
       "      <td>874.75</td>\n",
       "      <td>1247.0</td>\n",
       "      <td>1633.00</td>\n",
       "      <td>1998.0</td>\n",
       "    </tr>\n",
       "    <tr>\n",
       "      <th>RAM</th>\n",
       "      <td>1988.0</td>\n",
       "      <td>2116.243964</td>\n",
       "      <td>1082.513059</td>\n",
       "      <td>256.0</td>\n",
       "      <td>1204.75</td>\n",
       "      <td>2129.5</td>\n",
       "      <td>3049.50</td>\n",
       "      <td>3998.0</td>\n",
       "    </tr>\n",
       "    <tr>\n",
       "      <th>BataryaOmru</th>\n",
       "      <td>2000.0</td>\n",
       "      <td>11.011000</td>\n",
       "      <td>5.463955</td>\n",
       "      <td>2.0</td>\n",
       "      <td>6.00</td>\n",
       "      <td>11.0</td>\n",
       "      <td>16.00</td>\n",
       "      <td>20.0</td>\n",
       "    </tr>\n",
       "  </tbody>\n",
       "</table>\n",
       "</div>"
      ],
      "text/plain": [
       "                      count         mean          std    min      25%     50%  \\\n",
       "BataryaGucu          2000.0  1238.518500   439.418206  501.0   851.75  1226.0   \n",
       "MikroislemciHizi     2000.0     1.522250     0.816004    0.5     0.70     1.5   \n",
       "OnKameraMP           1995.0     4.312281     4.342095    0.0     1.00     3.0   \n",
       "DahiliBellek         2000.0    32.046500    18.145715    2.0    16.00    32.0   \n",
       "Kalinlik             2000.0     0.501750     0.288416    0.1     0.20     0.5   \n",
       "Agirlik              2000.0   140.249000    35.399655   80.0   109.00   141.0   \n",
       "CekirdekSayisi       2000.0     4.520500     2.287837    1.0     3.00     4.0   \n",
       "ArkaKameraMP         2000.0     9.916500     6.064315    0.0     5.00    10.0   \n",
       "CozunurlukYükseklik  2000.0   645.108000   443.780811    0.0   282.75   564.0   \n",
       "CozunurlukGenislik   2000.0  1251.515500   432.199447  500.0   874.75  1247.0   \n",
       "RAM                  1988.0  2116.243964  1082.513059  256.0  1204.75  2129.5   \n",
       "BataryaOmru          2000.0    11.011000     5.463955    2.0     6.00    11.0   \n",
       "\n",
       "                         75%     max  \n",
       "BataryaGucu          1615.25  1998.0  \n",
       "MikroislemciHizi        2.20     3.0  \n",
       "OnKameraMP              7.00    19.0  \n",
       "DahiliBellek           48.00    64.0  \n",
       "Kalinlik                0.80     1.0  \n",
       "Agirlik               170.00   200.0  \n",
       "CekirdekSayisi          7.00     8.0  \n",
       "ArkaKameraMP           15.00    20.0  \n",
       "CozunurlukYükseklik   947.25  1960.0  \n",
       "CozunurlukGenislik   1633.00  1998.0  \n",
       "RAM                  3049.50  3998.0  \n",
       "BataryaOmru            16.00    20.0  "
      ]
     },
     "execution_count": 9,
     "metadata": {},
     "output_type": "execute_result"
    }
   ],
   "source": [
    "df.describe().T"
   ]
  },
  {
   "cell_type": "markdown",
   "id": "ee501f76",
   "metadata": {
    "papermill": {
     "duration": 0.027022,
     "end_time": "2022-06-02T13:28:08.672594",
     "exception": false,
     "start_time": "2022-06-02T13:28:08.645572",
     "status": "completed"
    },
    "tags": []
   },
   "source": [
    "**Standart sapma ile verilerin ne kadar ortalamaya yakın olduğunu buluruz.Eğer standart sapma küçükse veriler ortalamaya yakın yerlerde dağılmışlardır.Standart sapma büyükse veriler ortalamadan uzak yerlere dağılmışlardır.Standart sapması en küçük olan değişkenimiz Kalinlik değişkeni verileri en düzgün dağılmış değişkenimizdir.\n",
    "Standart sapma ortalamaya göre düşükse verilerin ayırt ediciliği düşüktür ve grup homojendir.Standart sapma, ortalamaya göre yüksekse grup heterojen ve verilerin ayırt ediciliği yüksektir.OnKameraMP heterojen diğer değişkenler ise homojendir.**"
   ]
  },
  {
   "cell_type": "markdown",
   "id": "e2d00b1c",
   "metadata": {
    "papermill": {
     "duration": 0.027241,
     "end_time": "2022-06-02T13:28:08.727072",
     "exception": false,
     "start_time": "2022-06-02T13:28:08.699831",
     "status": "completed"
    },
    "tags": []
   },
   "source": [
    "Kovaryans matrisi."
   ]
  },
  {
   "cell_type": "code",
   "execution_count": 10,
   "id": "d7f9730b",
   "metadata": {
    "execution": {
     "iopub.execute_input": "2022-06-02T13:28:08.784775Z",
     "iopub.status.busy": "2022-06-02T13:28:08.784012Z",
     "iopub.status.idle": "2022-06-02T13:28:08.808392Z",
     "shell.execute_reply": "2022-06-02T13:28:08.807258Z"
    },
    "papermill": {
     "duration": 0.056566,
     "end_time": "2022-06-02T13:28:08.810783",
     "exception": false,
     "start_time": "2022-06-02T13:28:08.754217",
     "status": "completed"
    },
    "tags": []
   },
   "outputs": [
    {
     "data": {
      "text/html": [
       "<div>\n",
       "<style scoped>\n",
       "    .dataframe tbody tr th:only-of-type {\n",
       "        vertical-align: middle;\n",
       "    }\n",
       "\n",
       "    .dataframe tbody tr th {\n",
       "        vertical-align: top;\n",
       "    }\n",
       "\n",
       "    .dataframe thead th {\n",
       "        text-align: right;\n",
       "    }\n",
       "</style>\n",
       "<table border=\"1\" class=\"dataframe\">\n",
       "  <thead>\n",
       "    <tr style=\"text-align: right;\">\n",
       "      <th></th>\n",
       "      <th>BataryaGucu</th>\n",
       "      <th>MikroislemciHizi</th>\n",
       "      <th>OnKameraMP</th>\n",
       "      <th>DahiliBellek</th>\n",
       "      <th>Kalinlik</th>\n",
       "      <th>Agirlik</th>\n",
       "      <th>CekirdekSayisi</th>\n",
       "      <th>ArkaKameraMP</th>\n",
       "      <th>CozunurlukYükseklik</th>\n",
       "      <th>CozunurlukGenislik</th>\n",
       "      <th>RAM</th>\n",
       "      <th>BataryaOmru</th>\n",
       "    </tr>\n",
       "  </thead>\n",
       "  <tbody>\n",
       "    <tr>\n",
       "      <th>BataryaGucu</th>\n",
       "      <td>193088.359838</td>\n",
       "      <td>4.116922</td>\n",
       "      <td>61.358674</td>\n",
       "      <td>-31.923572</td>\n",
       "      <td>4.319702</td>\n",
       "      <td>28.689738</td>\n",
       "      <td>-29.885322</td>\n",
       "      <td>83.782186</td>\n",
       "      <td>2905.736870</td>\n",
       "      <td>-1595.644609</td>\n",
       "      <td>-4.201834e+02</td>\n",
       "      <td>126.075334</td>\n",
       "    </tr>\n",
       "    <tr>\n",
       "      <th>MikroislemciHizi</th>\n",
       "      <td>4.116922</td>\n",
       "      <td>0.665863</td>\n",
       "      <td>-0.000610</td>\n",
       "      <td>0.096914</td>\n",
       "      <td>-0.003381</td>\n",
       "      <td>0.356738</td>\n",
       "      <td>-0.010686</td>\n",
       "      <td>-0.025955</td>\n",
       "      <td>-5.259133</td>\n",
       "      <td>-3.341841</td>\n",
       "      <td>3.508705e+00</td>\n",
       "      <td>-0.050970</td>\n",
       "    </tr>\n",
       "    <tr>\n",
       "      <th>OnKameraMP</th>\n",
       "      <td>61.358674</td>\n",
       "      <td>-0.000610</td>\n",
       "      <td>18.853786</td>\n",
       "      <td>-2.257164</td>\n",
       "      <td>-0.002159</td>\n",
       "      <td>3.776743</td>\n",
       "      <td>-0.136295</td>\n",
       "      <td>16.992930</td>\n",
       "      <td>-20.563638</td>\n",
       "      <td>-10.606717</td>\n",
       "      <td>5.881467e+01</td>\n",
       "      <td>-0.168940</td>\n",
       "    </tr>\n",
       "    <tr>\n",
       "      <th>DahiliBellek</th>\n",
       "      <td>-31.923572</td>\n",
       "      <td>0.096914</td>\n",
       "      <td>-2.257164</td>\n",
       "      <td>329.266971</td>\n",
       "      <td>0.036037</td>\n",
       "      <td>-21.977567</td>\n",
       "      <td>-1.175291</td>\n",
       "      <td>-3.661448</td>\n",
       "      <td>84.080518</td>\n",
       "      <td>-65.366654</td>\n",
       "      <td>6.464887e+02</td>\n",
       "      <td>-0.276650</td>\n",
       "    </tr>\n",
       "    <tr>\n",
       "      <th>Kalinlik</th>\n",
       "      <td>4.319702</td>\n",
       "      <td>-0.003381</td>\n",
       "      <td>-0.002159</td>\n",
       "      <td>0.036037</td>\n",
       "      <td>0.083184</td>\n",
       "      <td>0.222125</td>\n",
       "      <td>-0.002312</td>\n",
       "      <td>0.045969</td>\n",
       "      <td>3.233478</td>\n",
       "      <td>2.937617</td>\n",
       "      <td>-2.275414e+00</td>\n",
       "      <td>0.026794</td>\n",
       "    </tr>\n",
       "    <tr>\n",
       "      <th>Agirlik</th>\n",
       "      <td>28.689738</td>\n",
       "      <td>0.356738</td>\n",
       "      <td>3.776743</td>\n",
       "      <td>-21.977567</td>\n",
       "      <td>0.222125</td>\n",
       "      <td>1253.135567</td>\n",
       "      <td>-1.537873</td>\n",
       "      <td>4.045314</td>\n",
       "      <td>14.756486</td>\n",
       "      <td>1.373327</td>\n",
       "      <td>-9.730043e+01</td>\n",
       "      <td>1.200861</td>\n",
       "    </tr>\n",
       "    <tr>\n",
       "      <th>CekirdekSayisi</th>\n",
       "      <td>-29.885322</td>\n",
       "      <td>-0.010686</td>\n",
       "      <td>-0.136295</td>\n",
       "      <td>-1.175291</td>\n",
       "      <td>-0.002312</td>\n",
       "      <td>-1.537873</td>\n",
       "      <td>5.234197</td>\n",
       "      <td>-0.016547</td>\n",
       "      <td>-6.977203</td>\n",
       "      <td>24.205785</td>\n",
       "      <td>1.380876e+01</td>\n",
       "      <td>0.164357</td>\n",
       "    </tr>\n",
       "    <tr>\n",
       "      <th>ArkaKameraMP</th>\n",
       "      <td>83.782186</td>\n",
       "      <td>-0.025955</td>\n",
       "      <td>16.992930</td>\n",
       "      <td>-3.661448</td>\n",
       "      <td>0.045969</td>\n",
       "      <td>4.045314</td>\n",
       "      <td>-0.016547</td>\n",
       "      <td>36.775916</td>\n",
       "      <td>-49.694829</td>\n",
       "      <td>10.997543</td>\n",
       "      <td>1.939416e+02</td>\n",
       "      <td>0.485661</td>\n",
       "    </tr>\n",
       "    <tr>\n",
       "      <th>CozunurlukYükseklik</th>\n",
       "      <td>2905.736870</td>\n",
       "      <td>-5.259133</td>\n",
       "      <td>-20.563638</td>\n",
       "      <td>84.080518</td>\n",
       "      <td>3.233478</td>\n",
       "      <td>14.756486</td>\n",
       "      <td>-6.977203</td>\n",
       "      <td>-49.694829</td>\n",
       "      <td>196941.408040</td>\n",
       "      <td>97946.365509</td>\n",
       "      <td>-1.123601e+04</td>\n",
       "      <td>-25.812594</td>\n",
       "    </tr>\n",
       "    <tr>\n",
       "      <th>CozunurlukGenislik</th>\n",
       "      <td>-1595.644609</td>\n",
       "      <td>-3.341841</td>\n",
       "      <td>-10.606717</td>\n",
       "      <td>-65.366654</td>\n",
       "      <td>2.937617</td>\n",
       "      <td>1.373327</td>\n",
       "      <td>24.205785</td>\n",
       "      <td>10.997543</td>\n",
       "      <td>97946.365509</td>\n",
       "      <td>186796.361941</td>\n",
       "      <td>9.821991e+02</td>\n",
       "      <td>15.869264</td>\n",
       "    </tr>\n",
       "    <tr>\n",
       "      <th>RAM</th>\n",
       "      <td>-420.183414</td>\n",
       "      <td>3.508705</td>\n",
       "      <td>58.814673</td>\n",
       "      <td>646.488662</td>\n",
       "      <td>-2.275414</td>\n",
       "      <td>-97.300434</td>\n",
       "      <td>13.808762</td>\n",
       "      <td>193.941638</td>\n",
       "      <td>-11236.011282</td>\n",
       "      <td>982.199140</td>\n",
       "      <td>1.171835e+06</td>\n",
       "      <td>61.786772</td>\n",
       "    </tr>\n",
       "    <tr>\n",
       "      <th>BataryaOmru</th>\n",
       "      <td>126.075334</td>\n",
       "      <td>-0.050970</td>\n",
       "      <td>-0.168940</td>\n",
       "      <td>-0.276650</td>\n",
       "      <td>0.026794</td>\n",
       "      <td>1.200861</td>\n",
       "      <td>0.164357</td>\n",
       "      <td>0.485661</td>\n",
       "      <td>-25.812594</td>\n",
       "      <td>15.869264</td>\n",
       "      <td>6.178677e+01</td>\n",
       "      <td>29.854806</td>\n",
       "    </tr>\n",
       "  </tbody>\n",
       "</table>\n",
       "</div>"
      ],
      "text/plain": [
       "                       BataryaGucu  MikroislemciHizi  OnKameraMP  \\\n",
       "BataryaGucu          193088.359838          4.116922   61.358674   \n",
       "MikroislemciHizi          4.116922          0.665863   -0.000610   \n",
       "OnKameraMP               61.358674         -0.000610   18.853786   \n",
       "DahiliBellek            -31.923572          0.096914   -2.257164   \n",
       "Kalinlik                  4.319702         -0.003381   -0.002159   \n",
       "Agirlik                  28.689738          0.356738    3.776743   \n",
       "CekirdekSayisi          -29.885322         -0.010686   -0.136295   \n",
       "ArkaKameraMP             83.782186         -0.025955   16.992930   \n",
       "CozunurlukYükseklik    2905.736870         -5.259133  -20.563638   \n",
       "CozunurlukGenislik    -1595.644609         -3.341841  -10.606717   \n",
       "RAM                    -420.183414          3.508705   58.814673   \n",
       "BataryaOmru             126.075334         -0.050970   -0.168940   \n",
       "\n",
       "                     DahiliBellek  Kalinlik      Agirlik  CekirdekSayisi  \\\n",
       "BataryaGucu            -31.923572  4.319702    28.689738      -29.885322   \n",
       "MikroislemciHizi         0.096914 -0.003381     0.356738       -0.010686   \n",
       "OnKameraMP              -2.257164 -0.002159     3.776743       -0.136295   \n",
       "DahiliBellek           329.266971  0.036037   -21.977567       -1.175291   \n",
       "Kalinlik                 0.036037  0.083184     0.222125       -0.002312   \n",
       "Agirlik                -21.977567  0.222125  1253.135567       -1.537873   \n",
       "CekirdekSayisi          -1.175291 -0.002312    -1.537873        5.234197   \n",
       "ArkaKameraMP            -3.661448  0.045969     4.045314       -0.016547   \n",
       "CozunurlukYükseklik     84.080518  3.233478    14.756486       -6.977203   \n",
       "CozunurlukGenislik     -65.366654  2.937617     1.373327       24.205785   \n",
       "RAM                    646.488662 -2.275414   -97.300434       13.808762   \n",
       "BataryaOmru             -0.276650  0.026794     1.200861        0.164357   \n",
       "\n",
       "                     ArkaKameraMP  CozunurlukYükseklik  CozunurlukGenislik  \\\n",
       "BataryaGucu             83.782186          2905.736870        -1595.644609   \n",
       "MikroislemciHizi        -0.025955            -5.259133           -3.341841   \n",
       "OnKameraMP              16.992930           -20.563638          -10.606717   \n",
       "DahiliBellek            -3.661448            84.080518          -65.366654   \n",
       "Kalinlik                 0.045969             3.233478            2.937617   \n",
       "Agirlik                  4.045314            14.756486            1.373327   \n",
       "CekirdekSayisi          -0.016547            -6.977203           24.205785   \n",
       "ArkaKameraMP            36.775916           -49.694829           10.997543   \n",
       "CozunurlukYükseklik    -49.694829        196941.408040        97946.365509   \n",
       "CozunurlukGenislik      10.997543         97946.365509       186796.361941   \n",
       "RAM                    193.941638        -11236.011282          982.199140   \n",
       "BataryaOmru              0.485661           -25.812594           15.869264   \n",
       "\n",
       "                              RAM  BataryaOmru  \n",
       "BataryaGucu         -4.201834e+02   126.075334  \n",
       "MikroislemciHizi     3.508705e+00    -0.050970  \n",
       "OnKameraMP           5.881467e+01    -0.168940  \n",
       "DahiliBellek         6.464887e+02    -0.276650  \n",
       "Kalinlik            -2.275414e+00     0.026794  \n",
       "Agirlik             -9.730043e+01     1.200861  \n",
       "CekirdekSayisi       1.380876e+01     0.164357  \n",
       "ArkaKameraMP         1.939416e+02     0.485661  \n",
       "CozunurlukYükseklik -1.123601e+04   -25.812594  \n",
       "CozunurlukGenislik   9.821991e+02    15.869264  \n",
       "RAM                  1.171835e+06    61.786772  \n",
       "BataryaOmru          6.178677e+01    29.854806  "
      ]
     },
     "execution_count": 10,
     "metadata": {},
     "output_type": "execute_result"
    }
   ],
   "source": [
    "df.cov()"
   ]
  },
  {
   "cell_type": "markdown",
   "id": "d8e87727",
   "metadata": {
    "papermill": {
     "duration": 0.027124,
     "end_time": "2022-06-02T13:28:08.865792",
     "exception": false,
     "start_time": "2022-06-02T13:28:08.838668",
     "status": "completed"
    },
    "tags": []
   },
   "source": []
  },
  {
   "cell_type": "markdown",
   "id": "1b7383b9",
   "metadata": {
    "papermill": {
     "duration": 0.027457,
     "end_time": "2022-06-02T13:28:08.920674",
     "exception": false,
     "start_time": "2022-06-02T13:28:08.893217",
     "status": "completed"
    },
    "tags": []
   },
   "source": [
    "Sayısal değişkenlerin dağılımı."
   ]
  },
  {
   "cell_type": "code",
   "execution_count": 11,
   "id": "d024e376",
   "metadata": {
    "execution": {
     "iopub.execute_input": "2022-06-02T13:28:08.978427Z",
     "iopub.status.busy": "2022-06-02T13:28:08.977996Z",
     "iopub.status.idle": "2022-06-02T13:28:10.633545Z",
     "shell.execute_reply": "2022-06-02T13:28:10.632373Z"
    },
    "papermill": {
     "duration": 1.687316,
     "end_time": "2022-06-02T13:28:10.635977",
     "exception": false,
     "start_time": "2022-06-02T13:28:08.948661",
     "status": "completed"
    },
    "tags": []
   },
   "outputs": [
    {
     "data": {
      "image/png": "[encoded data removed]",
      "text/plain": [
       "<Figure size 1080x1080 with 12 Axes>"
      ]
     },
     "metadata": {
      "needs_background": "light"
     },
     "output_type": "display_data"
    }
   ],
   "source": [
    "df.hist(figsize=(15,15));\n",
    "plt.show()"
   ]
  },
  {
   "cell_type": "markdown",
   "id": "d02871bb",
   "metadata": {
    "papermill": {
     "duration": 0.029111,
     "end_time": "2022-06-02T13:28:10.695310",
     "exception": false,
     "start_time": "2022-06-02T13:28:10.666199",
     "status": "completed"
    },
    "tags": []
   },
   "source": [
    ""
   ]
  },
  {
   "cell_type": "code",
   "execution_count": 12,
   "id": "4b81ae0d",
   "metadata": {
    "execution": {
     "iopub.execute_input": "2022-06-02T13:28:10.756468Z",
     "iopub.status.busy": "2022-06-02T13:28:10.755921Z",
     "iopub.status.idle": "2022-06-02T13:28:10.864210Z",
     "shell.execute_reply": "2022-06-02T13:28:10.863062Z"
    },
    "papermill": {
     "duration": 0.142602,
     "end_time": "2022-06-02T13:28:10.867543",
     "exception": false,
     "start_time": "2022-06-02T13:28:10.724941",
     "status": "completed"
    },
    "tags": []
   },
   "outputs": [
    {
     "data": {
      "image/png": "[encoded data removed]",
      "text/plain": [
       "<Figure size 360x360 with 1 Axes>"
      ]
     },
     "metadata": {},
     "output_type": "display_data"
    }
   ],
   "source": [
    "plt.figure(figsize=(5,5))\n",
    "colors=[\"blue\",\"orange\"]\n",
    "df.Bluetooth.value_counts().plot.pie(autopct='%1.1f%%', colors=colors)\n",
    "plt.show()"
   ]
  },
  {
   "cell_type": "code",
   "execution_count": 13,
   "id": "7e4ab7a7",
   "metadata": {
    "execution": {
     "iopub.execute_input": "2022-06-02T13:28:10.968767Z",
     "iopub.status.busy": "2022-06-02T13:28:10.967980Z",
     "iopub.status.idle": "2022-06-02T13:28:11.277580Z",
     "shell.execute_reply": "2022-06-02T13:28:11.276576Z"
    },
    "papermill": {
     "duration": 0.355659,
     "end_time": "2022-06-02T13:28:11.279683",
     "exception": false,
     "start_time": "2022-06-02T13:28:10.924024",
     "status": "completed"
    },
    "tags": []
   },
   "outputs": [
    {
     "data": {
      "image/png": "[encoded data removed]",
      "text/plain": [
       "<Figure size 288x288 with 1 Axes>"
      ]
     },
     "metadata": {
      "needs_background": "light"
     },
     "output_type": "display_data"
    }
   ],
   "source": [
    "plt.figure (figsize=(4,4))\n",
    "df.CiftHat.value_counts().plot.bar()\n",
    "plt.show()"
   ]
  },
  {
   "cell_type": "code",
   "execution_count": 14,
   "id": "1a322f54",
   "metadata": {
    "execution": {
     "iopub.execute_input": "2022-06-02T13:28:11.345100Z",
     "iopub.status.busy": "2022-06-02T13:28:11.344245Z",
     "iopub.status.idle": "2022-06-02T13:28:11.489753Z",
     "shell.execute_reply": "2022-06-02T13:28:11.488584Z"
    },
    "papermill": {
     "duration": 0.183275,
     "end_time": "2022-06-02T13:28:11.492822",
     "exception": false,
     "start_time": "2022-06-02T13:28:11.309547",
     "status": "completed"
    },
    "tags": []
   },
   "outputs": [
    {
     "data": {
      "image/png": "[encoded data removed]",
      "text/plain": [
       "<Figure size 216x216 with 1 Axes>"
      ]
     },
     "metadata": {
      "needs_background": "light"
     },
     "output_type": "display_data"
    }
   ],
   "source": [
    "plt.figure (figsize=(3,3))\n",
    "sns.countplot(x=\"4G\",data=df);\n",
    "plt.show()"
   ]
  },
  {
   "cell_type": "code",
   "execution_count": 15,
   "id": "3a1683a1",
   "metadata": {
    "execution": {
     "iopub.execute_input": "2022-06-02T13:28:11.556763Z",
     "iopub.status.busy": "2022-06-02T13:28:11.555883Z",
     "iopub.status.idle": "2022-06-02T13:28:11.712514Z",
     "shell.execute_reply": "2022-06-02T13:28:11.711701Z"
    },
    "papermill": {
     "duration": 0.191085,
     "end_time": "2022-06-02T13:28:11.714636",
     "exception": false,
     "start_time": "2022-06-02T13:28:11.523551",
     "status": "completed"
    },
    "tags": []
   },
   "outputs": [
    {
     "data": {
      "image/png": "[encoded data removed]",
      "text/plain": [
       "<Figure size 216x216 with 1 Axes>"
      ]
     },
     "metadata": {
      "needs_background": "light"
     },
     "output_type": "display_data"
    }
   ],
   "source": [
    "plt.figure (figsize=(3,3))\n",
    "sns.countplot(x=\"3G\",data=df);\n",
    "plt.show()"
   ]
  },
  {
   "cell_type": "code",
   "execution_count": 16,
   "id": "4bbd5569",
   "metadata": {
    "execution": {
     "iopub.execute_input": "2022-06-02T13:28:11.777355Z",
     "iopub.status.busy": "2022-06-02T13:28:11.776097Z",
     "iopub.status.idle": "2022-06-02T13:28:11.868616Z",
     "shell.execute_reply": "2022-06-02T13:28:11.867376Z"
    },
    "papermill": {
     "duration": 0.127063,
     "end_time": "2022-06-02T13:28:11.871744",
     "exception": false,
     "start_time": "2022-06-02T13:28:11.744681",
     "status": "completed"
    },
    "tags": []
   },
   "outputs": [
    {
     "data": {
      "image/png": "[encoded data removed]",
      "text/plain": [
       "<Figure size 288x288 with 1 Axes>"
      ]
     },
     "metadata": {},
     "output_type": "display_data"
    }
   ],
   "source": [
    "plt.figure (figsize=(4,4))\n",
    "df.WiFi.value_counts().plot.pie(autopct='%1.1f%%')\n",
    "plt.show()"
   ]
  },
  {
   "cell_type": "code",
   "execution_count": 17,
   "id": "7fd674db",
   "metadata": {
    "execution": {
     "iopub.execute_input": "2022-06-02T13:28:11.976816Z",
     "iopub.status.busy": "2022-06-02T13:28:11.976045Z",
     "iopub.status.idle": "2022-06-02T13:28:12.219033Z",
     "shell.execute_reply": "2022-06-02T13:28:12.217741Z"
    },
    "papermill": {
     "duration": 0.294145,
     "end_time": "2022-06-02T13:28:12.221782",
     "exception": false,
     "start_time": "2022-06-02T13:28:11.927637",
     "status": "completed"
    },
    "tags": []
   },
   "outputs": [
    {
     "data": {
      "image/png": "[encoded data removed]",
      "text/plain": [
       "<Figure size 864x360 with 1 Axes>"
      ]
     },
     "metadata": {
      "needs_background": "light"
     },
     "output_type": "display_data"
    }
   ],
   "source": [
    "plt.figure (figsize=(12,5))\n",
    "sns.countplot(x=\"Renk\",data=df);\n",
    "plt.show()"
   ]
  },
  {
   "cell_type": "code",
   "execution_count": 18,
   "id": "4309cf1c",
   "metadata": {
    "execution": {
     "iopub.execute_input": "2022-06-02T13:28:12.287555Z",
     "iopub.status.busy": "2022-06-02T13:28:12.287135Z",
     "iopub.status.idle": "2022-06-02T13:28:12.394404Z",
     "shell.execute_reply": "2022-06-02T13:28:12.393664Z"
    },
    "papermill": {
     "duration": 0.143522,
     "end_time": "2022-06-02T13:28:12.396851",
     "exception": false,
     "start_time": "2022-06-02T13:28:12.253329",
     "status": "completed"
    },
    "tags": []
   },
   "outputs": [
    {
     "data": {
      "image/png": "[encoded data removed]",
      "text/plain": [
       "<Figure size 288x288 with 1 Axes>"
      ]
     },
     "metadata": {},
     "output_type": "display_data"
    }
   ],
   "source": [
    "plt.figure(figsize=(4,4))\n",
    "colors=[\"yellow\",\"pink\",\"orange\",\"green\"]\n",
    "df.FiyatAraligi.value_counts().plot.pie(autopct='%1.1f%%',colors=colors)\n",
    "plt.show()"
   ]
  },
  {
   "cell_type": "markdown",
   "id": "ebf740e3",
   "metadata": {
    "papermill": {
     "duration": 0.041725,
     "end_time": "2022-06-02T13:28:12.496449",
     "exception": false,
     "start_time": "2022-06-02T13:28:12.454724",
     "status": "completed"
    },
    "tags": []
   },
   "source": [
    "# Veri Ön İşleme"
   ]
  },
  {
   "cell_type": "markdown",
   "id": "92ef1cec",
   "metadata": {
    "papermill": {
     "duration": 0.036123,
     "end_time": "2022-06-02T13:28:12.563778",
     "exception": false,
     "start_time": "2022-06-02T13:28:12.527655",
     "status": "completed"
    },
    "tags": []
   },
   "source": [
    "Kaç adet eksik değer olduğunu gözlemleyelim."
   ]
  },
  {
   "cell_type": "code",
   "execution_count": 19,
   "id": "cc019978",
   "metadata": {
    "execution": {
     "iopub.execute_input": "2022-06-02T13:28:12.627725Z",
     "iopub.status.busy": "2022-06-02T13:28:12.627261Z",
     "iopub.status.idle": "2022-06-02T13:28:12.640693Z",
     "shell.execute_reply": "2022-06-02T13:28:12.639392Z"
    },
    "papermill": {
     "duration": 0.048071,
     "end_time": "2022-06-02T13:28:12.642910",
     "exception": false,
     "start_time": "2022-06-02T13:28:12.594839",
     "status": "completed"
    },
    "tags": []
   },
   "outputs": [
    {
     "data": {
      "text/plain": [
       "BataryaGucu             0\n",
       "Bluetooth               0\n",
       "MikroislemciHizi        0\n",
       "CiftHat                 0\n",
       "OnKameraMP              5\n",
       "4G                      0\n",
       "DahiliBellek            0\n",
       "Kalinlik                0\n",
       "Agirlik                 0\n",
       "CekirdekSayisi          0\n",
       "ArkaKameraMP            0\n",
       "CozunurlukYükseklik     0\n",
       "CozunurlukGenislik      0\n",
       "RAM                    12\n",
       "BataryaOmru             0\n",
       "3G                      0\n",
       "Dokunmatik              0\n",
       "WiFi                    0\n",
       "FiyatAraligi            0\n",
       "Renk                    0\n",
       "dtype: int64"
      ]
     },
     "execution_count": 19,
     "metadata": {},
     "output_type": "execute_result"
    }
   ],
   "source": [
    "df.isna().sum()"
   ]
  },
  {
   "cell_type": "markdown",
   "id": "5725cf1a",
   "metadata": {
    "papermill": {
     "duration": 0.031566,
     "end_time": "2022-06-02T13:28:12.706309",
     "exception": false,
     "start_time": "2022-06-02T13:28:12.674743",
     "status": "completed"
    },
    "tags": []
   },
   "source": [
    "Değişkenlerdeki Null değerler yerine ortalama değerler yazdıralım.Daha sonra Null değerler kalmış mı\n",
    "kontrol edelim."
   ]
  },
  {
   "cell_type": "code",
   "execution_count": 20,
   "id": "c0f4c77e",
   "metadata": {
    "execution": {
     "iopub.execute_input": "2022-06-02T13:28:12.771673Z",
     "iopub.status.busy": "2022-06-02T13:28:12.771233Z",
     "iopub.status.idle": "2022-06-02T13:28:12.780911Z",
     "shell.execute_reply": "2022-06-02T13:28:12.779573Z"
    },
    "papermill": {
     "duration": 0.044751,
     "end_time": "2022-06-02T13:28:12.783108",
     "exception": false,
     "start_time": "2022-06-02T13:28:12.738357",
     "status": "completed"
    },
    "tags": []
   },
   "outputs": [
    {
     "data": {
      "text/plain": [
       "Int64Index([351, 726, 792, 1416, 1641], dtype='int64')"
      ]
     },
     "execution_count": 20,
     "metadata": {},
     "output_type": "execute_result"
    }
   ],
   "source": [
    "eksik_OnKameraMP=df[df[\"OnKameraMP\"].isnull()].index\n",
    "eksik_OnKameraMP"
   ]
  },
  {
   "cell_type": "code",
   "execution_count": 21,
   "id": "9ea28617",
   "metadata": {
    "execution": {
     "iopub.execute_input": "2022-06-02T13:28:12.849044Z",
     "iopub.status.busy": "2022-06-02T13:28:12.848579Z",
     "iopub.status.idle": "2022-06-02T13:28:12.855748Z",
     "shell.execute_reply": "2022-06-02T13:28:12.854359Z"
    },
    "papermill": {
     "duration": 0.042582,
     "end_time": "2022-06-02T13:28:12.858191",
     "exception": false,
     "start_time": "2022-06-02T13:28:12.815609",
     "status": "completed"
    },
    "tags": []
   },
   "outputs": [],
   "source": [
    "df.loc[eksik_OnKameraMP,\"OnKameraMP\"]=4.312281"
   ]
  },
  {
   "cell_type": "code",
   "execution_count": 22,
   "id": "f9155e01",
   "metadata": {
    "execution": {
     "iopub.execute_input": "2022-06-02T13:28:12.924385Z",
     "iopub.status.busy": "2022-06-02T13:28:12.923356Z",
     "iopub.status.idle": "2022-06-02T13:28:12.930515Z",
     "shell.execute_reply": "2022-06-02T13:28:12.929856Z"
    },
    "papermill": {
     "duration": 0.041758,
     "end_time": "2022-06-02T13:28:12.932539",
     "exception": false,
     "start_time": "2022-06-02T13:28:12.890781",
     "status": "completed"
    },
    "tags": []
   },
   "outputs": [
    {
     "data": {
      "text/plain": [
       "Int64Index([87, 169, 310, 329, 658, 777, 871, 961, 965, 1180, 1779, 1804], dtype='int64')"
      ]
     },
     "execution_count": 22,
     "metadata": {},
     "output_type": "execute_result"
    }
   ],
   "source": [
    "eksik_RAM = df[df[\"RAM\"].isnull()].index\n",
    "eksik_RAM"
   ]
  },
  {
   "cell_type": "code",
   "execution_count": 23,
   "id": "478efbf7",
   "metadata": {
    "execution": {
     "iopub.execute_input": "2022-06-02T13:28:12.998022Z",
     "iopub.status.busy": "2022-06-02T13:28:12.997449Z",
     "iopub.status.idle": "2022-06-02T13:28:13.004110Z",
     "shell.execute_reply": "2022-06-02T13:28:13.003066Z"
    },
    "papermill": {
     "duration": 0.042982,
     "end_time": "2022-06-02T13:28:13.007342",
     "exception": false,
     "start_time": "2022-06-02T13:28:12.964360",
     "status": "completed"
    },
    "tags": []
   },
   "outputs": [],
   "source": [
    "df.loc[eksik_RAM,\"RAM\"]=2116.243964"
   ]
  },
  {
   "cell_type": "code",
   "execution_count": 24,
   "id": "da22f3f8",
   "metadata": {
    "execution": {
     "iopub.execute_input": "2022-06-02T13:28:13.072443Z",
     "iopub.status.busy": "2022-06-02T13:28:13.072044Z",
     "iopub.status.idle": "2022-06-02T13:28:13.083239Z",
     "shell.execute_reply": "2022-06-02T13:28:13.082376Z"
    },
    "papermill": {
     "duration": 0.046157,
     "end_time": "2022-06-02T13:28:13.085292",
     "exception": false,
     "start_time": "2022-06-02T13:28:13.039135",
     "status": "completed"
    },
    "tags": []
   },
   "outputs": [
    {
     "data": {
      "text/plain": [
       "BataryaGucu            0\n",
       "Bluetooth              0\n",
       "MikroislemciHizi       0\n",
       "CiftHat                0\n",
       "OnKameraMP             0\n",
       "4G                     0\n",
       "DahiliBellek           0\n",
       "Kalinlik               0\n",
       "Agirlik                0\n",
       "CekirdekSayisi         0\n",
       "ArkaKameraMP           0\n",
       "CozunurlukYükseklik    0\n",
       "CozunurlukGenislik     0\n",
       "RAM                    0\n",
       "BataryaOmru            0\n",
       "3G                     0\n",
       "Dokunmatik             0\n",
       "WiFi                   0\n",
       "FiyatAraligi           0\n",
       "Renk                   0\n",
       "dtype: int64"
      ]
     },
     "execution_count": 24,
     "metadata": {},
     "output_type": "execute_result"
    }
   ],
   "source": [
    "df.isna().sum()"
   ]
  },
  {
   "cell_type": "markdown",
   "id": "36a610ff",
   "metadata": {
    "papermill": {
     "duration": 0.031113,
     "end_time": "2022-06-02T13:28:13.147459",
     "exception": false,
     "start_time": "2022-06-02T13:28:13.116346",
     "status": "completed"
    },
    "tags": []
   },
   "source": [
    " \"var\" ve \"yok\" ibarelerini bilgisayarın anlayabileceği şekilde 0 ve 1'lere dönüştürme."
   ]
  },
  {
   "cell_type": "code",
   "execution_count": 25,
   "id": "7f34b8c8",
   "metadata": {
    "execution": {
     "iopub.execute_input": "2022-06-02T13:28:13.213299Z",
     "iopub.status.busy": "2022-06-02T13:28:13.212067Z",
     "iopub.status.idle": "2022-06-02T13:28:13.217225Z",
     "shell.execute_reply": "2022-06-02T13:28:13.216464Z"
    },
    "papermill": {
     "duration": 0.040183,
     "end_time": "2022-06-02T13:28:13.219572",
     "exception": false,
     "start_time": "2022-06-02T13:28:13.179389",
     "status": "completed"
    },
    "tags": []
   },
   "outputs": [],
   "source": [
    "label_encoder = preprocessing.LabelEncoder()\n",
    "# Öncelikle kütüphanemizi çağırıyoruz."
   ]
  },
  {
   "cell_type": "code",
   "execution_count": 26,
   "id": "43b2218a",
   "metadata": {
    "execution": {
     "iopub.execute_input": "2022-06-02T13:28:13.284902Z",
     "iopub.status.busy": "2022-06-02T13:28:13.284489Z",
     "iopub.status.idle": "2022-06-02T13:28:13.308109Z",
     "shell.execute_reply": "2022-06-02T13:28:13.307385Z"
    },
    "papermill": {
     "duration": 0.058769,
     "end_time": "2022-06-02T13:28:13.310296",
     "exception": false,
     "start_time": "2022-06-02T13:28:13.251527",
     "status": "completed"
    },
    "tags": []
   },
   "outputs": [
    {
     "data": {
      "text/html": [
       "<div>\n",
       "<style scoped>\n",
       "    .dataframe tbody tr th:only-of-type {\n",
       "        vertical-align: middle;\n",
       "    }\n",
       "\n",
       "    .dataframe tbody tr th {\n",
       "        vertical-align: top;\n",
       "    }\n",
       "\n",
       "    .dataframe thead th {\n",
       "        text-align: right;\n",
       "    }\n",
       "</style>\n",
       "<table border=\"1\" class=\"dataframe\">\n",
       "  <thead>\n",
       "    <tr style=\"text-align: right;\">\n",
       "      <th></th>\n",
       "      <th>BataryaGucu</th>\n",
       "      <th>Bluetooth</th>\n",
       "      <th>MikroislemciHizi</th>\n",
       "      <th>CiftHat</th>\n",
       "      <th>OnKameraMP</th>\n",
       "      <th>4G</th>\n",
       "      <th>DahiliBellek</th>\n",
       "      <th>Kalinlik</th>\n",
       "      <th>Agirlik</th>\n",
       "      <th>CekirdekSayisi</th>\n",
       "      <th>ArkaKameraMP</th>\n",
       "      <th>CozunurlukYükseklik</th>\n",
       "      <th>CozunurlukGenislik</th>\n",
       "      <th>RAM</th>\n",
       "      <th>BataryaOmru</th>\n",
       "      <th>3G</th>\n",
       "      <th>Dokunmatik</th>\n",
       "      <th>WiFi</th>\n",
       "      <th>FiyatAraligi</th>\n",
       "      <th>Renk</th>\n",
       "    </tr>\n",
       "  </thead>\n",
       "  <tbody>\n",
       "    <tr>\n",
       "      <th>0</th>\n",
       "      <td>1325</td>\n",
       "      <td>1</td>\n",
       "      <td>1.9</td>\n",
       "      <td>Yok</td>\n",
       "      <td>2.0</td>\n",
       "      <td>Yok</td>\n",
       "      <td>50</td>\n",
       "      <td>0.1</td>\n",
       "      <td>146</td>\n",
       "      <td>1</td>\n",
       "      <td>10</td>\n",
       "      <td>499</td>\n",
       "      <td>695</td>\n",
       "      <td>2328.0</td>\n",
       "      <td>2</td>\n",
       "      <td>Var</td>\n",
       "      <td>Yok</td>\n",
       "      <td>Yok</td>\n",
       "      <td>Normal</td>\n",
       "      <td>Beyaz</td>\n",
       "    </tr>\n",
       "    <tr>\n",
       "      <th>1</th>\n",
       "      <td>1046</td>\n",
       "      <td>0</td>\n",
       "      <td>2.8</td>\n",
       "      <td>Var</td>\n",
       "      <td>0.0</td>\n",
       "      <td>Var</td>\n",
       "      <td>58</td>\n",
       "      <td>0.2</td>\n",
       "      <td>100</td>\n",
       "      <td>8</td>\n",
       "      <td>0</td>\n",
       "      <td>259</td>\n",
       "      <td>1040</td>\n",
       "      <td>3863.0</td>\n",
       "      <td>9</td>\n",
       "      <td>Var</td>\n",
       "      <td>Var</td>\n",
       "      <td>Var</td>\n",
       "      <td>Pahalı</td>\n",
       "      <td>Pembe</td>\n",
       "    </tr>\n",
       "    <tr>\n",
       "      <th>2</th>\n",
       "      <td>843</td>\n",
       "      <td>1</td>\n",
       "      <td>1.3</td>\n",
       "      <td>Var</td>\n",
       "      <td>1.0</td>\n",
       "      <td>Yok</td>\n",
       "      <td>16</td>\n",
       "      <td>0.9</td>\n",
       "      <td>119</td>\n",
       "      <td>7</td>\n",
       "      <td>4</td>\n",
       "      <td>593</td>\n",
       "      <td>732</td>\n",
       "      <td>1734.0</td>\n",
       "      <td>14</td>\n",
       "      <td>Yok</td>\n",
       "      <td>Yok</td>\n",
       "      <td>Var</td>\n",
       "      <td>Ucuz</td>\n",
       "      <td>Mor</td>\n",
       "    </tr>\n",
       "    <tr>\n",
       "      <th>3</th>\n",
       "      <td>894</td>\n",
       "      <td>1</td>\n",
       "      <td>0.5</td>\n",
       "      <td>Var</td>\n",
       "      <td>1.0</td>\n",
       "      <td>Var</td>\n",
       "      <td>50</td>\n",
       "      <td>0.5</td>\n",
       "      <td>199</td>\n",
       "      <td>3</td>\n",
       "      <td>14</td>\n",
       "      <td>1285</td>\n",
       "      <td>1462</td>\n",
       "      <td>3615.0</td>\n",
       "      <td>6</td>\n",
       "      <td>Var</td>\n",
       "      <td>Yok</td>\n",
       "      <td>Var</td>\n",
       "      <td>Pahalı</td>\n",
       "      <td>Turuncu</td>\n",
       "    </tr>\n",
       "    <tr>\n",
       "      <th>4</th>\n",
       "      <td>936</td>\n",
       "      <td>1</td>\n",
       "      <td>1.0</td>\n",
       "      <td>Yok</td>\n",
       "      <td>1.0</td>\n",
       "      <td>Yok</td>\n",
       "      <td>18</td>\n",
       "      <td>0.2</td>\n",
       "      <td>153</td>\n",
       "      <td>3</td>\n",
       "      <td>18</td>\n",
       "      <td>1330</td>\n",
       "      <td>1686</td>\n",
       "      <td>2391.0</td>\n",
       "      <td>3</td>\n",
       "      <td>Var</td>\n",
       "      <td>Var</td>\n",
       "      <td>Var</td>\n",
       "      <td>Normal</td>\n",
       "      <td>Beyaz</td>\n",
       "    </tr>\n",
       "  </tbody>\n",
       "</table>\n",
       "</div>"
      ],
      "text/plain": [
       "   BataryaGucu  Bluetooth  MikroislemciHizi CiftHat  OnKameraMP   4G  \\\n",
       "0         1325          1               1.9     Yok         2.0  Yok   \n",
       "1         1046          0               2.8     Var         0.0  Var   \n",
       "2          843          1               1.3     Var         1.0  Yok   \n",
       "3          894          1               0.5     Var         1.0  Var   \n",
       "4          936          1               1.0     Yok         1.0  Yok   \n",
       "\n",
       "   DahiliBellek  Kalinlik  Agirlik  CekirdekSayisi  ArkaKameraMP  \\\n",
       "0            50       0.1      146               1            10   \n",
       "1            58       0.2      100               8             0   \n",
       "2            16       0.9      119               7             4   \n",
       "3            50       0.5      199               3            14   \n",
       "4            18       0.2      153               3            18   \n",
       "\n",
       "   CozunurlukYükseklik  CozunurlukGenislik     RAM  BataryaOmru   3G  \\\n",
       "0                  499                 695  2328.0            2  Var   \n",
       "1                  259                1040  3863.0            9  Var   \n",
       "2                  593                 732  1734.0           14  Yok   \n",
       "3                 1285                1462  3615.0            6  Var   \n",
       "4                 1330                1686  2391.0            3  Var   \n",
       "\n",
       "  Dokunmatik WiFi FiyatAraligi     Renk  \n",
       "0        Yok  Yok       Normal    Beyaz  \n",
       "1        Var  Var       Pahalı    Pembe  \n",
       "2        Yok  Var         Ucuz      Mor  \n",
       "3        Yok  Var       Pahalı  Turuncu  \n",
       "4        Var  Var       Normal    Beyaz  "
      ]
     },
     "execution_count": 26,
     "metadata": {},
     "output_type": "execute_result"
    }
   ],
   "source": [
    "df['Bluetooth'] = label_encoder.fit_transform(df['Bluetooth'])\n",
    "df.head() #yok=1 var=0"
   ]
  },
  {
   "cell_type": "code",
   "execution_count": 27,
   "id": "5742ed8b",
   "metadata": {
    "execution": {
     "iopub.execute_input": "2022-06-02T13:28:13.377553Z",
     "iopub.status.busy": "2022-06-02T13:28:13.376865Z",
     "iopub.status.idle": "2022-06-02T13:28:13.399011Z",
     "shell.execute_reply": "2022-06-02T13:28:13.398039Z"
    },
    "papermill": {
     "duration": 0.058452,
     "end_time": "2022-06-02T13:28:13.401171",
     "exception": false,
     "start_time": "2022-06-02T13:28:13.342719",
     "status": "completed"
    },
    "tags": []
   },
   "outputs": [
    {
     "data": {
      "text/html": [
       "<div>\n",
       "<style scoped>\n",
       "    .dataframe tbody tr th:only-of-type {\n",
       "        vertical-align: middle;\n",
       "    }\n",
       "\n",
       "    .dataframe tbody tr th {\n",
       "        vertical-align: top;\n",
       "    }\n",
       "\n",
       "    .dataframe thead th {\n",
       "        text-align: right;\n",
       "    }\n",
       "</style>\n",
       "<table border=\"1\" class=\"dataframe\">\n",
       "  <thead>\n",
       "    <tr style=\"text-align: right;\">\n",
       "      <th></th>\n",
       "      <th>BataryaGucu</th>\n",
       "      <th>Bluetooth</th>\n",
       "      <th>MikroislemciHizi</th>\n",
       "      <th>CiftHat</th>\n",
       "      <th>OnKameraMP</th>\n",
       "      <th>4G</th>\n",
       "      <th>DahiliBellek</th>\n",
       "      <th>Kalinlik</th>\n",
       "      <th>Agirlik</th>\n",
       "      <th>CekirdekSayisi</th>\n",
       "      <th>ArkaKameraMP</th>\n",
       "      <th>CozunurlukYükseklik</th>\n",
       "      <th>CozunurlukGenislik</th>\n",
       "      <th>RAM</th>\n",
       "      <th>BataryaOmru</th>\n",
       "      <th>3G</th>\n",
       "      <th>Dokunmatik</th>\n",
       "      <th>WiFi</th>\n",
       "      <th>FiyatAraligi</th>\n",
       "      <th>Renk</th>\n",
       "    </tr>\n",
       "  </thead>\n",
       "  <tbody>\n",
       "    <tr>\n",
       "      <th>0</th>\n",
       "      <td>1325</td>\n",
       "      <td>1</td>\n",
       "      <td>1.9</td>\n",
       "      <td>1</td>\n",
       "      <td>2.0</td>\n",
       "      <td>Yok</td>\n",
       "      <td>50</td>\n",
       "      <td>0.1</td>\n",
       "      <td>146</td>\n",
       "      <td>1</td>\n",
       "      <td>10</td>\n",
       "      <td>499</td>\n",
       "      <td>695</td>\n",
       "      <td>2328.0</td>\n",
       "      <td>2</td>\n",
       "      <td>Var</td>\n",
       "      <td>Yok</td>\n",
       "      <td>Yok</td>\n",
       "      <td>Normal</td>\n",
       "      <td>Beyaz</td>\n",
       "    </tr>\n",
       "    <tr>\n",
       "      <th>1</th>\n",
       "      <td>1046</td>\n",
       "      <td>0</td>\n",
       "      <td>2.8</td>\n",
       "      <td>0</td>\n",
       "      <td>0.0</td>\n",
       "      <td>Var</td>\n",
       "      <td>58</td>\n",
       "      <td>0.2</td>\n",
       "      <td>100</td>\n",
       "      <td>8</td>\n",
       "      <td>0</td>\n",
       "      <td>259</td>\n",
       "      <td>1040</td>\n",
       "      <td>3863.0</td>\n",
       "      <td>9</td>\n",
       "      <td>Var</td>\n",
       "      <td>Var</td>\n",
       "      <td>Var</td>\n",
       "      <td>Pahalı</td>\n",
       "      <td>Pembe</td>\n",
       "    </tr>\n",
       "    <tr>\n",
       "      <th>2</th>\n",
       "      <td>843</td>\n",
       "      <td>1</td>\n",
       "      <td>1.3</td>\n",
       "      <td>0</td>\n",
       "      <td>1.0</td>\n",
       "      <td>Yok</td>\n",
       "      <td>16</td>\n",
       "      <td>0.9</td>\n",
       "      <td>119</td>\n",
       "      <td>7</td>\n",
       "      <td>4</td>\n",
       "      <td>593</td>\n",
       "      <td>732</td>\n",
       "      <td>1734.0</td>\n",
       "      <td>14</td>\n",
       "      <td>Yok</td>\n",
       "      <td>Yok</td>\n",
       "      <td>Var</td>\n",
       "      <td>Ucuz</td>\n",
       "      <td>Mor</td>\n",
       "    </tr>\n",
       "    <tr>\n",
       "      <th>3</th>\n",
       "      <td>894</td>\n",
       "      <td>1</td>\n",
       "      <td>0.5</td>\n",
       "      <td>0</td>\n",
       "      <td>1.0</td>\n",
       "      <td>Var</td>\n",
       "      <td>50</td>\n",
       "      <td>0.5</td>\n",
       "      <td>199</td>\n",
       "      <td>3</td>\n",
       "      <td>14</td>\n",
       "      <td>1285</td>\n",
       "      <td>1462</td>\n",
       "      <td>3615.0</td>\n",
       "      <td>6</td>\n",
       "      <td>Var</td>\n",
       "      <td>Yok</td>\n",
       "      <td>Var</td>\n",
       "      <td>Pahalı</td>\n",
       "      <td>Turuncu</td>\n",
       "    </tr>\n",
       "    <tr>\n",
       "      <th>4</th>\n",
       "      <td>936</td>\n",
       "      <td>1</td>\n",
       "      <td>1.0</td>\n",
       "      <td>1</td>\n",
       "      <td>1.0</td>\n",
       "      <td>Yok</td>\n",
       "      <td>18</td>\n",
       "      <td>0.2</td>\n",
       "      <td>153</td>\n",
       "      <td>3</td>\n",
       "      <td>18</td>\n",
       "      <td>1330</td>\n",
       "      <td>1686</td>\n",
       "      <td>2391.0</td>\n",
       "      <td>3</td>\n",
       "      <td>Var</td>\n",
       "      <td>Var</td>\n",
       "      <td>Var</td>\n",
       "      <td>Normal</td>\n",
       "      <td>Beyaz</td>\n",
       "    </tr>\n",
       "  </tbody>\n",
       "</table>\n",
       "</div>"
      ],
      "text/plain": [
       "   BataryaGucu  Bluetooth  MikroislemciHizi  CiftHat  OnKameraMP   4G  \\\n",
       "0         1325          1               1.9        1         2.0  Yok   \n",
       "1         1046          0               2.8        0         0.0  Var   \n",
       "2          843          1               1.3        0         1.0  Yok   \n",
       "3          894          1               0.5        0         1.0  Var   \n",
       "4          936          1               1.0        1         1.0  Yok   \n",
       "\n",
       "   DahiliBellek  Kalinlik  Agirlik  CekirdekSayisi  ArkaKameraMP  \\\n",
       "0            50       0.1      146               1            10   \n",
       "1            58       0.2      100               8             0   \n",
       "2            16       0.9      119               7             4   \n",
       "3            50       0.5      199               3            14   \n",
       "4            18       0.2      153               3            18   \n",
       "\n",
       "   CozunurlukYükseklik  CozunurlukGenislik     RAM  BataryaOmru   3G  \\\n",
       "0                  499                 695  2328.0            2  Var   \n",
       "1                  259                1040  3863.0            9  Var   \n",
       "2                  593                 732  1734.0           14  Yok   \n",
       "3                 1285                1462  3615.0            6  Var   \n",
       "4                 1330                1686  2391.0            3  Var   \n",
       "\n",
       "  Dokunmatik WiFi FiyatAraligi     Renk  \n",
       "0        Yok  Yok       Normal    Beyaz  \n",
       "1        Var  Var       Pahalı    Pembe  \n",
       "2        Yok  Var         Ucuz      Mor  \n",
       "3        Yok  Var       Pahalı  Turuncu  \n",
       "4        Var  Var       Normal    Beyaz  "
      ]
     },
     "execution_count": 27,
     "metadata": {},
     "output_type": "execute_result"
    }
   ],
   "source": [
    "df['CiftHat'] = label_encoder.fit_transform(df['CiftHat'])\n",
    "df.head()  #yok=1,var=0"
   ]
  },
  {
   "cell_type": "code",
   "execution_count": 28,
   "id": "c39a0430",
   "metadata": {
    "execution": {
     "iopub.execute_input": "2022-06-02T13:28:13.467967Z",
     "iopub.status.busy": "2022-06-02T13:28:13.467524Z",
     "iopub.status.idle": "2022-06-02T13:28:13.492581Z",
     "shell.execute_reply": "2022-06-02T13:28:13.491480Z"
    },
    "papermill": {
     "duration": 0.061072,
     "end_time": "2022-06-02T13:28:13.494954",
     "exception": false,
     "start_time": "2022-06-02T13:28:13.433882",
     "status": "completed"
    },
    "tags": []
   },
   "outputs": [
    {
     "data": {
      "text/html": [
       "<div>\n",
       "<style scoped>\n",
       "    .dataframe tbody tr th:only-of-type {\n",
       "        vertical-align: middle;\n",
       "    }\n",
       "\n",
       "    .dataframe tbody tr th {\n",
       "        vertical-align: top;\n",
       "    }\n",
       "\n",
       "    .dataframe thead th {\n",
       "        text-align: right;\n",
       "    }\n",
       "</style>\n",
       "<table border=\"1\" class=\"dataframe\">\n",
       "  <thead>\n",
       "    <tr style=\"text-align: right;\">\n",
       "      <th></th>\n",
       "      <th>BataryaGucu</th>\n",
       "      <th>Bluetooth</th>\n",
       "      <th>MikroislemciHizi</th>\n",
       "      <th>CiftHat</th>\n",
       "      <th>OnKameraMP</th>\n",
       "      <th>4G</th>\n",
       "      <th>DahiliBellek</th>\n",
       "      <th>Kalinlik</th>\n",
       "      <th>Agirlik</th>\n",
       "      <th>CekirdekSayisi</th>\n",
       "      <th>ArkaKameraMP</th>\n",
       "      <th>CozunurlukYükseklik</th>\n",
       "      <th>CozunurlukGenislik</th>\n",
       "      <th>RAM</th>\n",
       "      <th>BataryaOmru</th>\n",
       "      <th>3G</th>\n",
       "      <th>Dokunmatik</th>\n",
       "      <th>WiFi</th>\n",
       "      <th>FiyatAraligi</th>\n",
       "      <th>Renk</th>\n",
       "    </tr>\n",
       "  </thead>\n",
       "  <tbody>\n",
       "    <tr>\n",
       "      <th>0</th>\n",
       "      <td>1325</td>\n",
       "      <td>1</td>\n",
       "      <td>1.9</td>\n",
       "      <td>1</td>\n",
       "      <td>2.0</td>\n",
       "      <td>Yok</td>\n",
       "      <td>50</td>\n",
       "      <td>0.1</td>\n",
       "      <td>146</td>\n",
       "      <td>1</td>\n",
       "      <td>10</td>\n",
       "      <td>499</td>\n",
       "      <td>695</td>\n",
       "      <td>2328.0</td>\n",
       "      <td>2</td>\n",
       "      <td>0</td>\n",
       "      <td>Yok</td>\n",
       "      <td>Yok</td>\n",
       "      <td>Normal</td>\n",
       "      <td>Beyaz</td>\n",
       "    </tr>\n",
       "    <tr>\n",
       "      <th>1</th>\n",
       "      <td>1046</td>\n",
       "      <td>0</td>\n",
       "      <td>2.8</td>\n",
       "      <td>0</td>\n",
       "      <td>0.0</td>\n",
       "      <td>Var</td>\n",
       "      <td>58</td>\n",
       "      <td>0.2</td>\n",
       "      <td>100</td>\n",
       "      <td>8</td>\n",
       "      <td>0</td>\n",
       "      <td>259</td>\n",
       "      <td>1040</td>\n",
       "      <td>3863.0</td>\n",
       "      <td>9</td>\n",
       "      <td>0</td>\n",
       "      <td>Var</td>\n",
       "      <td>Var</td>\n",
       "      <td>Pahalı</td>\n",
       "      <td>Pembe</td>\n",
       "    </tr>\n",
       "    <tr>\n",
       "      <th>2</th>\n",
       "      <td>843</td>\n",
       "      <td>1</td>\n",
       "      <td>1.3</td>\n",
       "      <td>0</td>\n",
       "      <td>1.0</td>\n",
       "      <td>Yok</td>\n",
       "      <td>16</td>\n",
       "      <td>0.9</td>\n",
       "      <td>119</td>\n",
       "      <td>7</td>\n",
       "      <td>4</td>\n",
       "      <td>593</td>\n",
       "      <td>732</td>\n",
       "      <td>1734.0</td>\n",
       "      <td>14</td>\n",
       "      <td>1</td>\n",
       "      <td>Yok</td>\n",
       "      <td>Var</td>\n",
       "      <td>Ucuz</td>\n",
       "      <td>Mor</td>\n",
       "    </tr>\n",
       "    <tr>\n",
       "      <th>3</th>\n",
       "      <td>894</td>\n",
       "      <td>1</td>\n",
       "      <td>0.5</td>\n",
       "      <td>0</td>\n",
       "      <td>1.0</td>\n",
       "      <td>Var</td>\n",
       "      <td>50</td>\n",
       "      <td>0.5</td>\n",
       "      <td>199</td>\n",
       "      <td>3</td>\n",
       "      <td>14</td>\n",
       "      <td>1285</td>\n",
       "      <td>1462</td>\n",
       "      <td>3615.0</td>\n",
       "      <td>6</td>\n",
       "      <td>0</td>\n",
       "      <td>Yok</td>\n",
       "      <td>Var</td>\n",
       "      <td>Pahalı</td>\n",
       "      <td>Turuncu</td>\n",
       "    </tr>\n",
       "    <tr>\n",
       "      <th>4</th>\n",
       "      <td>936</td>\n",
       "      <td>1</td>\n",
       "      <td>1.0</td>\n",
       "      <td>1</td>\n",
       "      <td>1.0</td>\n",
       "      <td>Yok</td>\n",
       "      <td>18</td>\n",
       "      <td>0.2</td>\n",
       "      <td>153</td>\n",
       "      <td>3</td>\n",
       "      <td>18</td>\n",
       "      <td>1330</td>\n",
       "      <td>1686</td>\n",
       "      <td>2391.0</td>\n",
       "      <td>3</td>\n",
       "      <td>0</td>\n",
       "      <td>Var</td>\n",
       "      <td>Var</td>\n",
       "      <td>Normal</td>\n",
       "      <td>Beyaz</td>\n",
       "    </tr>\n",
       "  </tbody>\n",
       "</table>\n",
       "</div>"
      ],
      "text/plain": [
       "   BataryaGucu  Bluetooth  MikroislemciHizi  CiftHat  OnKameraMP   4G  \\\n",
       "0         1325          1               1.9        1         2.0  Yok   \n",
       "1         1046          0               2.8        0         0.0  Var   \n",
       "2          843          1               1.3        0         1.0  Yok   \n",
       "3          894          1               0.5        0         1.0  Var   \n",
       "4          936          1               1.0        1         1.0  Yok   \n",
       "\n",
       "   DahiliBellek  Kalinlik  Agirlik  CekirdekSayisi  ArkaKameraMP  \\\n",
       "0            50       0.1      146               1            10   \n",
       "1            58       0.2      100               8             0   \n",
       "2            16       0.9      119               7             4   \n",
       "3            50       0.5      199               3            14   \n",
       "4            18       0.2      153               3            18   \n",
       "\n",
       "   CozunurlukYükseklik  CozunurlukGenislik     RAM  BataryaOmru  3G  \\\n",
       "0                  499                 695  2328.0            2   0   \n",
       "1                  259                1040  3863.0            9   0   \n",
       "2                  593                 732  1734.0           14   1   \n",
       "3                 1285                1462  3615.0            6   0   \n",
       "4                 1330                1686  2391.0            3   0   \n",
       "\n",
       "  Dokunmatik WiFi FiyatAraligi     Renk  \n",
       "0        Yok  Yok       Normal    Beyaz  \n",
       "1        Var  Var       Pahalı    Pembe  \n",
       "2        Yok  Var         Ucuz      Mor  \n",
       "3        Yok  Var       Pahalı  Turuncu  \n",
       "4        Var  Var       Normal    Beyaz  "
      ]
     },
     "execution_count": 28,
     "metadata": {},
     "output_type": "execute_result"
    }
   ],
   "source": [
    "df['3G'] = label_encoder.fit_transform(df['3G'])\n",
    "df.head() #yok=1 , var=0"
   ]
  },
  {
   "cell_type": "code",
   "execution_count": 29,
   "id": "b428d994",
   "metadata": {
    "execution": {
     "iopub.execute_input": "2022-06-02T13:28:13.562827Z",
     "iopub.status.busy": "2022-06-02T13:28:13.562408Z",
     "iopub.status.idle": "2022-06-02T13:28:13.585976Z",
     "shell.execute_reply": "2022-06-02T13:28:13.584796Z"
    },
    "papermill": {
     "duration": 0.061093,
     "end_time": "2022-06-02T13:28:13.588883",
     "exception": false,
     "start_time": "2022-06-02T13:28:13.527790",
     "status": "completed"
    },
    "tags": []
   },
   "outputs": [
    {
     "data": {
      "text/html": [
       "<div>\n",
       "<style scoped>\n",
       "    .dataframe tbody tr th:only-of-type {\n",
       "        vertical-align: middle;\n",
       "    }\n",
       "\n",
       "    .dataframe tbody tr th {\n",
       "        vertical-align: top;\n",
       "    }\n",
       "\n",
       "    .dataframe thead th {\n",
       "        text-align: right;\n",
       "    }\n",
       "</style>\n",
       "<table border=\"1\" class=\"dataframe\">\n",
       "  <thead>\n",
       "    <tr style=\"text-align: right;\">\n",
       "      <th></th>\n",
       "      <th>BataryaGucu</th>\n",
       "      <th>Bluetooth</th>\n",
       "      <th>MikroislemciHizi</th>\n",
       "      <th>CiftHat</th>\n",
       "      <th>OnKameraMP</th>\n",
       "      <th>4G</th>\n",
       "      <th>DahiliBellek</th>\n",
       "      <th>Kalinlik</th>\n",
       "      <th>Agirlik</th>\n",
       "      <th>CekirdekSayisi</th>\n",
       "      <th>ArkaKameraMP</th>\n",
       "      <th>CozunurlukYükseklik</th>\n",
       "      <th>CozunurlukGenislik</th>\n",
       "      <th>RAM</th>\n",
       "      <th>BataryaOmru</th>\n",
       "      <th>3G</th>\n",
       "      <th>Dokunmatik</th>\n",
       "      <th>WiFi</th>\n",
       "      <th>FiyatAraligi</th>\n",
       "      <th>Renk</th>\n",
       "    </tr>\n",
       "  </thead>\n",
       "  <tbody>\n",
       "    <tr>\n",
       "      <th>0</th>\n",
       "      <td>1325</td>\n",
       "      <td>1</td>\n",
       "      <td>1.9</td>\n",
       "      <td>1</td>\n",
       "      <td>2.0</td>\n",
       "      <td>Yok</td>\n",
       "      <td>50</td>\n",
       "      <td>0.1</td>\n",
       "      <td>146</td>\n",
       "      <td>1</td>\n",
       "      <td>10</td>\n",
       "      <td>499</td>\n",
       "      <td>695</td>\n",
       "      <td>2328.0</td>\n",
       "      <td>2</td>\n",
       "      <td>0</td>\n",
       "      <td>1</td>\n",
       "      <td>Yok</td>\n",
       "      <td>Normal</td>\n",
       "      <td>Beyaz</td>\n",
       "    </tr>\n",
       "    <tr>\n",
       "      <th>1</th>\n",
       "      <td>1046</td>\n",
       "      <td>0</td>\n",
       "      <td>2.8</td>\n",
       "      <td>0</td>\n",
       "      <td>0.0</td>\n",
       "      <td>Var</td>\n",
       "      <td>58</td>\n",
       "      <td>0.2</td>\n",
       "      <td>100</td>\n",
       "      <td>8</td>\n",
       "      <td>0</td>\n",
       "      <td>259</td>\n",
       "      <td>1040</td>\n",
       "      <td>3863.0</td>\n",
       "      <td>9</td>\n",
       "      <td>0</td>\n",
       "      <td>0</td>\n",
       "      <td>Var</td>\n",
       "      <td>Pahalı</td>\n",
       "      <td>Pembe</td>\n",
       "    </tr>\n",
       "    <tr>\n",
       "      <th>2</th>\n",
       "      <td>843</td>\n",
       "      <td>1</td>\n",
       "      <td>1.3</td>\n",
       "      <td>0</td>\n",
       "      <td>1.0</td>\n",
       "      <td>Yok</td>\n",
       "      <td>16</td>\n",
       "      <td>0.9</td>\n",
       "      <td>119</td>\n",
       "      <td>7</td>\n",
       "      <td>4</td>\n",
       "      <td>593</td>\n",
       "      <td>732</td>\n",
       "      <td>1734.0</td>\n",
       "      <td>14</td>\n",
       "      <td>1</td>\n",
       "      <td>1</td>\n",
       "      <td>Var</td>\n",
       "      <td>Ucuz</td>\n",
       "      <td>Mor</td>\n",
       "    </tr>\n",
       "    <tr>\n",
       "      <th>3</th>\n",
       "      <td>894</td>\n",
       "      <td>1</td>\n",
       "      <td>0.5</td>\n",
       "      <td>0</td>\n",
       "      <td>1.0</td>\n",
       "      <td>Var</td>\n",
       "      <td>50</td>\n",
       "      <td>0.5</td>\n",
       "      <td>199</td>\n",
       "      <td>3</td>\n",
       "      <td>14</td>\n",
       "      <td>1285</td>\n",
       "      <td>1462</td>\n",
       "      <td>3615.0</td>\n",
       "      <td>6</td>\n",
       "      <td>0</td>\n",
       "      <td>1</td>\n",
       "      <td>Var</td>\n",
       "      <td>Pahalı</td>\n",
       "      <td>Turuncu</td>\n",
       "    </tr>\n",
       "    <tr>\n",
       "      <th>4</th>\n",
       "      <td>936</td>\n",
       "      <td>1</td>\n",
       "      <td>1.0</td>\n",
       "      <td>1</td>\n",
       "      <td>1.0</td>\n",
       "      <td>Yok</td>\n",
       "      <td>18</td>\n",
       "      <td>0.2</td>\n",
       "      <td>153</td>\n",
       "      <td>3</td>\n",
       "      <td>18</td>\n",
       "      <td>1330</td>\n",
       "      <td>1686</td>\n",
       "      <td>2391.0</td>\n",
       "      <td>3</td>\n",
       "      <td>0</td>\n",
       "      <td>0</td>\n",
       "      <td>Var</td>\n",
       "      <td>Normal</td>\n",
       "      <td>Beyaz</td>\n",
       "    </tr>\n",
       "  </tbody>\n",
       "</table>\n",
       "</div>"
      ],
      "text/plain": [
       "   BataryaGucu  Bluetooth  MikroislemciHizi  CiftHat  OnKameraMP   4G  \\\n",
       "0         1325          1               1.9        1         2.0  Yok   \n",
       "1         1046          0               2.8        0         0.0  Var   \n",
       "2          843          1               1.3        0         1.0  Yok   \n",
       "3          894          1               0.5        0         1.0  Var   \n",
       "4          936          1               1.0        1         1.0  Yok   \n",
       "\n",
       "   DahiliBellek  Kalinlik  Agirlik  CekirdekSayisi  ArkaKameraMP  \\\n",
       "0            50       0.1      146               1            10   \n",
       "1            58       0.2      100               8             0   \n",
       "2            16       0.9      119               7             4   \n",
       "3            50       0.5      199               3            14   \n",
       "4            18       0.2      153               3            18   \n",
       "\n",
       "   CozunurlukYükseklik  CozunurlukGenislik     RAM  BataryaOmru  3G  \\\n",
       "0                  499                 695  2328.0            2   0   \n",
       "1                  259                1040  3863.0            9   0   \n",
       "2                  593                 732  1734.0           14   1   \n",
       "3                 1285                1462  3615.0            6   0   \n",
       "4                 1330                1686  2391.0            3   0   \n",
       "\n",
       "   Dokunmatik WiFi FiyatAraligi     Renk  \n",
       "0           1  Yok       Normal    Beyaz  \n",
       "1           0  Var       Pahalı    Pembe  \n",
       "2           1  Var         Ucuz      Mor  \n",
       "3           1  Var       Pahalı  Turuncu  \n",
       "4           0  Var       Normal    Beyaz  "
      ]
     },
     "execution_count": 29,
     "metadata": {},
     "output_type": "execute_result"
    }
   ],
   "source": [
    "df['Dokunmatik'] = label_encoder.fit_transform(df['Dokunmatik'])\n",
    "df.head() #yok=1 #var=0"
   ]
  },
  {
   "cell_type": "code",
   "execution_count": 30,
   "id": "806589cd",
   "metadata": {
    "execution": {
     "iopub.execute_input": "2022-06-02T13:28:13.659263Z",
     "iopub.status.busy": "2022-06-02T13:28:13.658187Z",
     "iopub.status.idle": "2022-06-02T13:28:13.682056Z",
     "shell.execute_reply": "2022-06-02T13:28:13.680713Z"
    },
    "papermill": {
     "duration": 0.061609,
     "end_time": "2022-06-02T13:28:13.684421",
     "exception": false,
     "start_time": "2022-06-02T13:28:13.622812",
     "status": "completed"
    },
    "tags": []
   },
   "outputs": [
    {
     "data": {
      "text/html": [
       "<div>\n",
       "<style scoped>\n",
       "    .dataframe tbody tr th:only-of-type {\n",
       "        vertical-align: middle;\n",
       "    }\n",
       "\n",
       "    .dataframe tbody tr th {\n",
       "        vertical-align: top;\n",
       "    }\n",
       "\n",
       "    .dataframe thead th {\n",
       "        text-align: right;\n",
       "    }\n",
       "</style>\n",
       "<table border=\"1\" class=\"dataframe\">\n",
       "  <thead>\n",
       "    <tr style=\"text-align: right;\">\n",
       "      <th></th>\n",
       "      <th>BataryaGucu</th>\n",
       "      <th>Bluetooth</th>\n",
       "      <th>MikroislemciHizi</th>\n",
       "      <th>CiftHat</th>\n",
       "      <th>OnKameraMP</th>\n",
       "      <th>4G</th>\n",
       "      <th>DahiliBellek</th>\n",
       "      <th>Kalinlik</th>\n",
       "      <th>Agirlik</th>\n",
       "      <th>CekirdekSayisi</th>\n",
       "      <th>ArkaKameraMP</th>\n",
       "      <th>CozunurlukYükseklik</th>\n",
       "      <th>CozunurlukGenislik</th>\n",
       "      <th>RAM</th>\n",
       "      <th>BataryaOmru</th>\n",
       "      <th>3G</th>\n",
       "      <th>Dokunmatik</th>\n",
       "      <th>WiFi</th>\n",
       "      <th>FiyatAraligi</th>\n",
       "      <th>Renk</th>\n",
       "    </tr>\n",
       "  </thead>\n",
       "  <tbody>\n",
       "    <tr>\n",
       "      <th>0</th>\n",
       "      <td>1325</td>\n",
       "      <td>1</td>\n",
       "      <td>1.9</td>\n",
       "      <td>1</td>\n",
       "      <td>2.0</td>\n",
       "      <td>Yok</td>\n",
       "      <td>50</td>\n",
       "      <td>0.1</td>\n",
       "      <td>146</td>\n",
       "      <td>1</td>\n",
       "      <td>10</td>\n",
       "      <td>499</td>\n",
       "      <td>695</td>\n",
       "      <td>2328.0</td>\n",
       "      <td>2</td>\n",
       "      <td>0</td>\n",
       "      <td>1</td>\n",
       "      <td>1</td>\n",
       "      <td>Normal</td>\n",
       "      <td>Beyaz</td>\n",
       "    </tr>\n",
       "    <tr>\n",
       "      <th>1</th>\n",
       "      <td>1046</td>\n",
       "      <td>0</td>\n",
       "      <td>2.8</td>\n",
       "      <td>0</td>\n",
       "      <td>0.0</td>\n",
       "      <td>Var</td>\n",
       "      <td>58</td>\n",
       "      <td>0.2</td>\n",
       "      <td>100</td>\n",
       "      <td>8</td>\n",
       "      <td>0</td>\n",
       "      <td>259</td>\n",
       "      <td>1040</td>\n",
       "      <td>3863.0</td>\n",
       "      <td>9</td>\n",
       "      <td>0</td>\n",
       "      <td>0</td>\n",
       "      <td>0</td>\n",
       "      <td>Pahalı</td>\n",
       "      <td>Pembe</td>\n",
       "    </tr>\n",
       "    <tr>\n",
       "      <th>2</th>\n",
       "      <td>843</td>\n",
       "      <td>1</td>\n",
       "      <td>1.3</td>\n",
       "      <td>0</td>\n",
       "      <td>1.0</td>\n",
       "      <td>Yok</td>\n",
       "      <td>16</td>\n",
       "      <td>0.9</td>\n",
       "      <td>119</td>\n",
       "      <td>7</td>\n",
       "      <td>4</td>\n",
       "      <td>593</td>\n",
       "      <td>732</td>\n",
       "      <td>1734.0</td>\n",
       "      <td>14</td>\n",
       "      <td>1</td>\n",
       "      <td>1</td>\n",
       "      <td>0</td>\n",
       "      <td>Ucuz</td>\n",
       "      <td>Mor</td>\n",
       "    </tr>\n",
       "    <tr>\n",
       "      <th>3</th>\n",
       "      <td>894</td>\n",
       "      <td>1</td>\n",
       "      <td>0.5</td>\n",
       "      <td>0</td>\n",
       "      <td>1.0</td>\n",
       "      <td>Var</td>\n",
       "      <td>50</td>\n",
       "      <td>0.5</td>\n",
       "      <td>199</td>\n",
       "      <td>3</td>\n",
       "      <td>14</td>\n",
       "      <td>1285</td>\n",
       "      <td>1462</td>\n",
       "      <td>3615.0</td>\n",
       "      <td>6</td>\n",
       "      <td>0</td>\n",
       "      <td>1</td>\n",
       "      <td>0</td>\n",
       "      <td>Pahalı</td>\n",
       "      <td>Turuncu</td>\n",
       "    </tr>\n",
       "    <tr>\n",
       "      <th>4</th>\n",
       "      <td>936</td>\n",
       "      <td>1</td>\n",
       "      <td>1.0</td>\n",
       "      <td>1</td>\n",
       "      <td>1.0</td>\n",
       "      <td>Yok</td>\n",
       "      <td>18</td>\n",
       "      <td>0.2</td>\n",
       "      <td>153</td>\n",
       "      <td>3</td>\n",
       "      <td>18</td>\n",
       "      <td>1330</td>\n",
       "      <td>1686</td>\n",
       "      <td>2391.0</td>\n",
       "      <td>3</td>\n",
       "      <td>0</td>\n",
       "      <td>0</td>\n",
       "      <td>0</td>\n",
       "      <td>Normal</td>\n",
       "      <td>Beyaz</td>\n",
       "    </tr>\n",
       "  </tbody>\n",
       "</table>\n",
       "</div>"
      ],
      "text/plain": [
       "   BataryaGucu  Bluetooth  MikroislemciHizi  CiftHat  OnKameraMP   4G  \\\n",
       "0         1325          1               1.9        1         2.0  Yok   \n",
       "1         1046          0               2.8        0         0.0  Var   \n",
       "2          843          1               1.3        0         1.0  Yok   \n",
       "3          894          1               0.5        0         1.0  Var   \n",
       "4          936          1               1.0        1         1.0  Yok   \n",
       "\n",
       "   DahiliBellek  Kalinlik  Agirlik  CekirdekSayisi  ArkaKameraMP  \\\n",
       "0            50       0.1      146               1            10   \n",
       "1            58       0.2      100               8             0   \n",
       "2            16       0.9      119               7             4   \n",
       "3            50       0.5      199               3            14   \n",
       "4            18       0.2      153               3            18   \n",
       "\n",
       "   CozunurlukYükseklik  CozunurlukGenislik     RAM  BataryaOmru  3G  \\\n",
       "0                  499                 695  2328.0            2   0   \n",
       "1                  259                1040  3863.0            9   0   \n",
       "2                  593                 732  1734.0           14   1   \n",
       "3                 1285                1462  3615.0            6   0   \n",
       "4                 1330                1686  2391.0            3   0   \n",
       "\n",
       "   Dokunmatik  WiFi FiyatAraligi     Renk  \n",
       "0           1     1       Normal    Beyaz  \n",
       "1           0     0       Pahalı    Pembe  \n",
       "2           1     0         Ucuz      Mor  \n",
       "3           1     0       Pahalı  Turuncu  \n",
       "4           0     0       Normal    Beyaz  "
      ]
     },
     "execution_count": 30,
     "metadata": {},
     "output_type": "execute_result"
    }
   ],
   "source": [
    "df['WiFi'] = label_encoder.fit_transform(df['WiFi'])\n",
    "df.head() #yok=1 , var=0"
   ]
  },
  {
   "cell_type": "code",
   "execution_count": 31,
   "id": "8b18f2f7",
   "metadata": {
    "execution": {
     "iopub.execute_input": "2022-06-02T13:28:13.754769Z",
     "iopub.status.busy": "2022-06-02T13:28:13.753692Z",
     "iopub.status.idle": "2022-06-02T13:28:13.777669Z",
     "shell.execute_reply": "2022-06-02T13:28:13.776729Z"
    },
    "papermill": {
     "duration": 0.061096,
     "end_time": "2022-06-02T13:28:13.779648",
     "exception": false,
     "start_time": "2022-06-02T13:28:13.718552",
     "status": "completed"
    },
    "tags": []
   },
   "outputs": [
    {
     "data": {
      "text/html": [
       "<div>\n",
       "<style scoped>\n",
       "    .dataframe tbody tr th:only-of-type {\n",
       "        vertical-align: middle;\n",
       "    }\n",
       "\n",
       "    .dataframe tbody tr th {\n",
       "        vertical-align: top;\n",
       "    }\n",
       "\n",
       "    .dataframe thead th {\n",
       "        text-align: right;\n",
       "    }\n",
       "</style>\n",
       "<table border=\"1\" class=\"dataframe\">\n",
       "  <thead>\n",
       "    <tr style=\"text-align: right;\">\n",
       "      <th></th>\n",
       "      <th>BataryaGucu</th>\n",
       "      <th>Bluetooth</th>\n",
       "      <th>MikroislemciHizi</th>\n",
       "      <th>CiftHat</th>\n",
       "      <th>OnKameraMP</th>\n",
       "      <th>4G</th>\n",
       "      <th>DahiliBellek</th>\n",
       "      <th>Kalinlik</th>\n",
       "      <th>Agirlik</th>\n",
       "      <th>CekirdekSayisi</th>\n",
       "      <th>ArkaKameraMP</th>\n",
       "      <th>CozunurlukYükseklik</th>\n",
       "      <th>CozunurlukGenislik</th>\n",
       "      <th>RAM</th>\n",
       "      <th>BataryaOmru</th>\n",
       "      <th>3G</th>\n",
       "      <th>Dokunmatik</th>\n",
       "      <th>WiFi</th>\n",
       "      <th>FiyatAraligi</th>\n",
       "      <th>Renk</th>\n",
       "    </tr>\n",
       "  </thead>\n",
       "  <tbody>\n",
       "    <tr>\n",
       "      <th>0</th>\n",
       "      <td>1325</td>\n",
       "      <td>1</td>\n",
       "      <td>1.9</td>\n",
       "      <td>1</td>\n",
       "      <td>2.0</td>\n",
       "      <td>1</td>\n",
       "      <td>50</td>\n",
       "      <td>0.1</td>\n",
       "      <td>146</td>\n",
       "      <td>1</td>\n",
       "      <td>10</td>\n",
       "      <td>499</td>\n",
       "      <td>695</td>\n",
       "      <td>2328.0</td>\n",
       "      <td>2</td>\n",
       "      <td>0</td>\n",
       "      <td>1</td>\n",
       "      <td>1</td>\n",
       "      <td>Normal</td>\n",
       "      <td>Beyaz</td>\n",
       "    </tr>\n",
       "    <tr>\n",
       "      <th>1</th>\n",
       "      <td>1046</td>\n",
       "      <td>0</td>\n",
       "      <td>2.8</td>\n",
       "      <td>0</td>\n",
       "      <td>0.0</td>\n",
       "      <td>0</td>\n",
       "      <td>58</td>\n",
       "      <td>0.2</td>\n",
       "      <td>100</td>\n",
       "      <td>8</td>\n",
       "      <td>0</td>\n",
       "      <td>259</td>\n",
       "      <td>1040</td>\n",
       "      <td>3863.0</td>\n",
       "      <td>9</td>\n",
       "      <td>0</td>\n",
       "      <td>0</td>\n",
       "      <td>0</td>\n",
       "      <td>Pahalı</td>\n",
       "      <td>Pembe</td>\n",
       "    </tr>\n",
       "    <tr>\n",
       "      <th>2</th>\n",
       "      <td>843</td>\n",
       "      <td>1</td>\n",
       "      <td>1.3</td>\n",
       "      <td>0</td>\n",
       "      <td>1.0</td>\n",
       "      <td>1</td>\n",
       "      <td>16</td>\n",
       "      <td>0.9</td>\n",
       "      <td>119</td>\n",
       "      <td>7</td>\n",
       "      <td>4</td>\n",
       "      <td>593</td>\n",
       "      <td>732</td>\n",
       "      <td>1734.0</td>\n",
       "      <td>14</td>\n",
       "      <td>1</td>\n",
       "      <td>1</td>\n",
       "      <td>0</td>\n",
       "      <td>Ucuz</td>\n",
       "      <td>Mor</td>\n",
       "    </tr>\n",
       "    <tr>\n",
       "      <th>3</th>\n",
       "      <td>894</td>\n",
       "      <td>1</td>\n",
       "      <td>0.5</td>\n",
       "      <td>0</td>\n",
       "      <td>1.0</td>\n",
       "      <td>0</td>\n",
       "      <td>50</td>\n",
       "      <td>0.5</td>\n",
       "      <td>199</td>\n",
       "      <td>3</td>\n",
       "      <td>14</td>\n",
       "      <td>1285</td>\n",
       "      <td>1462</td>\n",
       "      <td>3615.0</td>\n",
       "      <td>6</td>\n",
       "      <td>0</td>\n",
       "      <td>1</td>\n",
       "      <td>0</td>\n",
       "      <td>Pahalı</td>\n",
       "      <td>Turuncu</td>\n",
       "    </tr>\n",
       "    <tr>\n",
       "      <th>4</th>\n",
       "      <td>936</td>\n",
       "      <td>1</td>\n",
       "      <td>1.0</td>\n",
       "      <td>1</td>\n",
       "      <td>1.0</td>\n",
       "      <td>1</td>\n",
       "      <td>18</td>\n",
       "      <td>0.2</td>\n",
       "      <td>153</td>\n",
       "      <td>3</td>\n",
       "      <td>18</td>\n",
       "      <td>1330</td>\n",
       "      <td>1686</td>\n",
       "      <td>2391.0</td>\n",
       "      <td>3</td>\n",
       "      <td>0</td>\n",
       "      <td>0</td>\n",
       "      <td>0</td>\n",
       "      <td>Normal</td>\n",
       "      <td>Beyaz</td>\n",
       "    </tr>\n",
       "  </tbody>\n",
       "</table>\n",
       "</div>"
      ],
      "text/plain": [
       "   BataryaGucu  Bluetooth  MikroislemciHizi  CiftHat  OnKameraMP  4G  \\\n",
       "0         1325          1               1.9        1         2.0   1   \n",
       "1         1046          0               2.8        0         0.0   0   \n",
       "2          843          1               1.3        0         1.0   1   \n",
       "3          894          1               0.5        0         1.0   0   \n",
       "4          936          1               1.0        1         1.0   1   \n",
       "\n",
       "   DahiliBellek  Kalinlik  Agirlik  CekirdekSayisi  ArkaKameraMP  \\\n",
       "0            50       0.1      146               1            10   \n",
       "1            58       0.2      100               8             0   \n",
       "2            16       0.9      119               7             4   \n",
       "3            50       0.5      199               3            14   \n",
       "4            18       0.2      153               3            18   \n",
       "\n",
       "   CozunurlukYükseklik  CozunurlukGenislik     RAM  BataryaOmru  3G  \\\n",
       "0                  499                 695  2328.0            2   0   \n",
       "1                  259                1040  3863.0            9   0   \n",
       "2                  593                 732  1734.0           14   1   \n",
       "3                 1285                1462  3615.0            6   0   \n",
       "4                 1330                1686  2391.0            3   0   \n",
       "\n",
       "   Dokunmatik  WiFi FiyatAraligi     Renk  \n",
       "0           1     1       Normal    Beyaz  \n",
       "1           0     0       Pahalı    Pembe  \n",
       "2           1     0         Ucuz      Mor  \n",
       "3           1     0       Pahalı  Turuncu  \n",
       "4           0     0       Normal    Beyaz  "
      ]
     },
     "execution_count": 31,
     "metadata": {},
     "output_type": "execute_result"
    }
   ],
   "source": [
    "df['4G'] = label_encoder.fit_transform(df['4G'])\n",
    "df.head() #yok=1 , var=0"
   ]
  },
  {
   "cell_type": "markdown",
   "id": "d59ed5ab",
   "metadata": {
    "papermill": {
     "duration": 0.033623,
     "end_time": "2022-06-02T13:28:13.849060",
     "exception": false,
     "start_time": "2022-06-02T13:28:13.815437",
     "status": "completed"
    },
    "tags": []
   },
   "source": [
    "Renk değişkenimiz ordinal olmadığı için get_dummies yardımıyla kategorik öznitelik çıkarımında bulunma."
   ]
  },
  {
   "cell_type": "code",
   "execution_count": 32,
   "id": "b6dd25e9",
   "metadata": {
    "execution": {
     "iopub.execute_input": "2022-06-02T13:28:13.919082Z",
     "iopub.status.busy": "2022-06-02T13:28:13.918402Z",
     "iopub.status.idle": "2022-06-02T13:28:13.937384Z",
     "shell.execute_reply": "2022-06-02T13:28:13.936681Z"
    },
    "papermill": {
     "duration": 0.055892,
     "end_time": "2022-06-02T13:28:13.939269",
     "exception": false,
     "start_time": "2022-06-02T13:28:13.883377",
     "status": "completed"
    },
    "tags": []
   },
   "outputs": [
    {
     "data": {
      "text/html": [
       "<div>\n",
       "<style scoped>\n",
       "    .dataframe tbody tr th:only-of-type {\n",
       "        vertical-align: middle;\n",
       "    }\n",
       "\n",
       "    .dataframe tbody tr th {\n",
       "        vertical-align: top;\n",
       "    }\n",
       "\n",
       "    .dataframe thead th {\n",
       "        text-align: right;\n",
       "    }\n",
       "</style>\n",
       "<table border=\"1\" class=\"dataframe\">\n",
       "  <thead>\n",
       "    <tr style=\"text-align: right;\">\n",
       "      <th></th>\n",
       "      <th>Renk_Beyaz</th>\n",
       "      <th>Renk_Gri</th>\n",
       "      <th>Renk_Kahverengi</th>\n",
       "      <th>Renk_Kırmızı</th>\n",
       "      <th>Renk_Mavi</th>\n",
       "      <th>Renk_Mor</th>\n",
       "      <th>Renk_Pembe</th>\n",
       "      <th>Renk_Sarı</th>\n",
       "      <th>Renk_Siyah</th>\n",
       "      <th>Renk_Turkuaz</th>\n",
       "      <th>Renk_Turuncu</th>\n",
       "      <th>Renk_Yeşil</th>\n",
       "    </tr>\n",
       "  </thead>\n",
       "  <tbody>\n",
       "    <tr>\n",
       "      <th>0</th>\n",
       "      <td>1</td>\n",
       "      <td>0</td>\n",
       "      <td>0</td>\n",
       "      <td>0</td>\n",
       "      <td>0</td>\n",
       "      <td>0</td>\n",
       "      <td>0</td>\n",
       "      <td>0</td>\n",
       "      <td>0</td>\n",
       "      <td>0</td>\n",
       "      <td>0</td>\n",
       "      <td>0</td>\n",
       "    </tr>\n",
       "    <tr>\n",
       "      <th>1</th>\n",
       "      <td>0</td>\n",
       "      <td>0</td>\n",
       "      <td>0</td>\n",
       "      <td>0</td>\n",
       "      <td>0</td>\n",
       "      <td>0</td>\n",
       "      <td>1</td>\n",
       "      <td>0</td>\n",
       "      <td>0</td>\n",
       "      <td>0</td>\n",
       "      <td>0</td>\n",
       "      <td>0</td>\n",
       "    </tr>\n",
       "    <tr>\n",
       "      <th>2</th>\n",
       "      <td>0</td>\n",
       "      <td>0</td>\n",
       "      <td>0</td>\n",
       "      <td>0</td>\n",
       "      <td>0</td>\n",
       "      <td>1</td>\n",
       "      <td>0</td>\n",
       "      <td>0</td>\n",
       "      <td>0</td>\n",
       "      <td>0</td>\n",
       "      <td>0</td>\n",
       "      <td>0</td>\n",
       "    </tr>\n",
       "    <tr>\n",
       "      <th>3</th>\n",
       "      <td>0</td>\n",
       "      <td>0</td>\n",
       "      <td>0</td>\n",
       "      <td>0</td>\n",
       "      <td>0</td>\n",
       "      <td>0</td>\n",
       "      <td>0</td>\n",
       "      <td>0</td>\n",
       "      <td>0</td>\n",
       "      <td>0</td>\n",
       "      <td>1</td>\n",
       "      <td>0</td>\n",
       "    </tr>\n",
       "    <tr>\n",
       "      <th>4</th>\n",
       "      <td>1</td>\n",
       "      <td>0</td>\n",
       "      <td>0</td>\n",
       "      <td>0</td>\n",
       "      <td>0</td>\n",
       "      <td>0</td>\n",
       "      <td>0</td>\n",
       "      <td>0</td>\n",
       "      <td>0</td>\n",
       "      <td>0</td>\n",
       "      <td>0</td>\n",
       "      <td>0</td>\n",
       "    </tr>\n",
       "    <tr>\n",
       "      <th>...</th>\n",
       "      <td>...</td>\n",
       "      <td>...</td>\n",
       "      <td>...</td>\n",
       "      <td>...</td>\n",
       "      <td>...</td>\n",
       "      <td>...</td>\n",
       "      <td>...</td>\n",
       "      <td>...</td>\n",
       "      <td>...</td>\n",
       "      <td>...</td>\n",
       "      <td>...</td>\n",
       "      <td>...</td>\n",
       "    </tr>\n",
       "    <tr>\n",
       "      <th>1995</th>\n",
       "      <td>0</td>\n",
       "      <td>0</td>\n",
       "      <td>0</td>\n",
       "      <td>0</td>\n",
       "      <td>0</td>\n",
       "      <td>0</td>\n",
       "      <td>0</td>\n",
       "      <td>0</td>\n",
       "      <td>1</td>\n",
       "      <td>0</td>\n",
       "      <td>0</td>\n",
       "      <td>0</td>\n",
       "    </tr>\n",
       "    <tr>\n",
       "      <th>1996</th>\n",
       "      <td>0</td>\n",
       "      <td>0</td>\n",
       "      <td>0</td>\n",
       "      <td>0</td>\n",
       "      <td>0</td>\n",
       "      <td>0</td>\n",
       "      <td>0</td>\n",
       "      <td>1</td>\n",
       "      <td>0</td>\n",
       "      <td>0</td>\n",
       "      <td>0</td>\n",
       "      <td>0</td>\n",
       "    </tr>\n",
       "    <tr>\n",
       "      <th>1997</th>\n",
       "      <td>0</td>\n",
       "      <td>0</td>\n",
       "      <td>0</td>\n",
       "      <td>0</td>\n",
       "      <td>0</td>\n",
       "      <td>0</td>\n",
       "      <td>0</td>\n",
       "      <td>0</td>\n",
       "      <td>0</td>\n",
       "      <td>0</td>\n",
       "      <td>1</td>\n",
       "      <td>0</td>\n",
       "    </tr>\n",
       "    <tr>\n",
       "      <th>1998</th>\n",
       "      <td>0</td>\n",
       "      <td>0</td>\n",
       "      <td>0</td>\n",
       "      <td>0</td>\n",
       "      <td>0</td>\n",
       "      <td>0</td>\n",
       "      <td>0</td>\n",
       "      <td>0</td>\n",
       "      <td>0</td>\n",
       "      <td>1</td>\n",
       "      <td>0</td>\n",
       "      <td>0</td>\n",
       "    </tr>\n",
       "    <tr>\n",
       "      <th>1999</th>\n",
       "      <td>0</td>\n",
       "      <td>0</td>\n",
       "      <td>0</td>\n",
       "      <td>0</td>\n",
       "      <td>0</td>\n",
       "      <td>0</td>\n",
       "      <td>0</td>\n",
       "      <td>0</td>\n",
       "      <td>1</td>\n",
       "      <td>0</td>\n",
       "      <td>0</td>\n",
       "      <td>0</td>\n",
       "    </tr>\n",
       "  </tbody>\n",
       "</table>\n",
       "<p>2000 rows × 12 columns</p>\n",
       "</div>"
      ],
      "text/plain": [
       "      Renk_Beyaz  Renk_Gri  Renk_Kahverengi  Renk_Kırmızı  Renk_Mavi  \\\n",
       "0              1         0                0             0          0   \n",
       "1              0         0                0             0          0   \n",
       "2              0         0                0             0          0   \n",
       "3              0         0                0             0          0   \n",
       "4              1         0                0             0          0   \n",
       "...          ...       ...              ...           ...        ...   \n",
       "1995           0         0                0             0          0   \n",
       "1996           0         0                0             0          0   \n",
       "1997           0         0                0             0          0   \n",
       "1998           0         0                0             0          0   \n",
       "1999           0         0                0             0          0   \n",
       "\n",
       "      Renk_Mor  Renk_Pembe  Renk_Sarı  Renk_Siyah  Renk_Turkuaz  Renk_Turuncu  \\\n",
       "0            0           0          0           0             0             0   \n",
       "1            0           1          0           0             0             0   \n",
       "2            1           0          0           0             0             0   \n",
       "3            0           0          0           0             0             1   \n",
       "4            0           0          0           0             0             0   \n",
       "...        ...         ...        ...         ...           ...           ...   \n",
       "1995         0           0          0           1             0             0   \n",
       "1996         0           0          1           0             0             0   \n",
       "1997         0           0          0           0             0             1   \n",
       "1998         0           0          0           0             1             0   \n",
       "1999         0           0          0           1             0             0   \n",
       "\n",
       "      Renk_Yeşil  \n",
       "0              0  \n",
       "1              0  \n",
       "2              0  \n",
       "3              0  \n",
       "4              0  \n",
       "...          ...  \n",
       "1995           0  \n",
       "1996           0  \n",
       "1997           0  \n",
       "1998           0  \n",
       "1999           0  \n",
       "\n",
       "[2000 rows x 12 columns]"
      ]
     },
     "execution_count": 32,
     "metadata": {},
     "output_type": "execute_result"
    }
   ],
   "source": [
    "df['Renk']=pd.Categorical(df['Renk'])\n",
    "dfDummies=pd.get_dummies(df['Renk'],prefix='Renk')\n",
    "dfDummies"
   ]
  },
  {
   "cell_type": "code",
   "execution_count": 33,
   "id": "0e49b04a",
   "metadata": {
    "execution": {
     "iopub.execute_input": "2022-06-02T13:28:14.010123Z",
     "iopub.status.busy": "2022-06-02T13:28:14.009469Z",
     "iopub.status.idle": "2022-06-02T13:28:14.034781Z",
     "shell.execute_reply": "2022-06-02T13:28:14.034050Z"
    },
    "papermill": {
     "duration": 0.063347,
     "end_time": "2022-06-02T13:28:14.036658",
     "exception": false,
     "start_time": "2022-06-02T13:28:13.973311",
     "status": "completed"
    },
    "tags": []
   },
   "outputs": [
    {
     "data": {
      "text/html": [
       "<div>\n",
       "<style scoped>\n",
       "    .dataframe tbody tr th:only-of-type {\n",
       "        vertical-align: middle;\n",
       "    }\n",
       "\n",
       "    .dataframe tbody tr th {\n",
       "        vertical-align: top;\n",
       "    }\n",
       "\n",
       "    .dataframe thead th {\n",
       "        text-align: right;\n",
       "    }\n",
       "</style>\n",
       "<table border=\"1\" class=\"dataframe\">\n",
       "  <thead>\n",
       "    <tr style=\"text-align: right;\">\n",
       "      <th></th>\n",
       "      <th>BataryaGucu</th>\n",
       "      <th>Bluetooth</th>\n",
       "      <th>MikroislemciHizi</th>\n",
       "      <th>CiftHat</th>\n",
       "      <th>OnKameraMP</th>\n",
       "      <th>4G</th>\n",
       "      <th>DahiliBellek</th>\n",
       "      <th>Kalinlik</th>\n",
       "      <th>Agirlik</th>\n",
       "      <th>CekirdekSayisi</th>\n",
       "      <th>...</th>\n",
       "      <th>Renk_Kahverengi</th>\n",
       "      <th>Renk_Kırmızı</th>\n",
       "      <th>Renk_Mavi</th>\n",
       "      <th>Renk_Mor</th>\n",
       "      <th>Renk_Pembe</th>\n",
       "      <th>Renk_Sarı</th>\n",
       "      <th>Renk_Siyah</th>\n",
       "      <th>Renk_Turkuaz</th>\n",
       "      <th>Renk_Turuncu</th>\n",
       "      <th>Renk_Yeşil</th>\n",
       "    </tr>\n",
       "  </thead>\n",
       "  <tbody>\n",
       "    <tr>\n",
       "      <th>0</th>\n",
       "      <td>1325</td>\n",
       "      <td>1</td>\n",
       "      <td>1.9</td>\n",
       "      <td>1</td>\n",
       "      <td>2.0</td>\n",
       "      <td>1</td>\n",
       "      <td>50</td>\n",
       "      <td>0.1</td>\n",
       "      <td>146</td>\n",
       "      <td>1</td>\n",
       "      <td>...</td>\n",
       "      <td>0</td>\n",
       "      <td>0</td>\n",
       "      <td>0</td>\n",
       "      <td>0</td>\n",
       "      <td>0</td>\n",
       "      <td>0</td>\n",
       "      <td>0</td>\n",
       "      <td>0</td>\n",
       "      <td>0</td>\n",
       "      <td>0</td>\n",
       "    </tr>\n",
       "    <tr>\n",
       "      <th>1</th>\n",
       "      <td>1046</td>\n",
       "      <td>0</td>\n",
       "      <td>2.8</td>\n",
       "      <td>0</td>\n",
       "      <td>0.0</td>\n",
       "      <td>0</td>\n",
       "      <td>58</td>\n",
       "      <td>0.2</td>\n",
       "      <td>100</td>\n",
       "      <td>8</td>\n",
       "      <td>...</td>\n",
       "      <td>0</td>\n",
       "      <td>0</td>\n",
       "      <td>0</td>\n",
       "      <td>0</td>\n",
       "      <td>1</td>\n",
       "      <td>0</td>\n",
       "      <td>0</td>\n",
       "      <td>0</td>\n",
       "      <td>0</td>\n",
       "      <td>0</td>\n",
       "    </tr>\n",
       "    <tr>\n",
       "      <th>2</th>\n",
       "      <td>843</td>\n",
       "      <td>1</td>\n",
       "      <td>1.3</td>\n",
       "      <td>0</td>\n",
       "      <td>1.0</td>\n",
       "      <td>1</td>\n",
       "      <td>16</td>\n",
       "      <td>0.9</td>\n",
       "      <td>119</td>\n",
       "      <td>7</td>\n",
       "      <td>...</td>\n",
       "      <td>0</td>\n",
       "      <td>0</td>\n",
       "      <td>0</td>\n",
       "      <td>1</td>\n",
       "      <td>0</td>\n",
       "      <td>0</td>\n",
       "      <td>0</td>\n",
       "      <td>0</td>\n",
       "      <td>0</td>\n",
       "      <td>0</td>\n",
       "    </tr>\n",
       "    <tr>\n",
       "      <th>3</th>\n",
       "      <td>894</td>\n",
       "      <td>1</td>\n",
       "      <td>0.5</td>\n",
       "      <td>0</td>\n",
       "      <td>1.0</td>\n",
       "      <td>0</td>\n",
       "      <td>50</td>\n",
       "      <td>0.5</td>\n",
       "      <td>199</td>\n",
       "      <td>3</td>\n",
       "      <td>...</td>\n",
       "      <td>0</td>\n",
       "      <td>0</td>\n",
       "      <td>0</td>\n",
       "      <td>0</td>\n",
       "      <td>0</td>\n",
       "      <td>0</td>\n",
       "      <td>0</td>\n",
       "      <td>0</td>\n",
       "      <td>1</td>\n",
       "      <td>0</td>\n",
       "    </tr>\n",
       "    <tr>\n",
       "      <th>4</th>\n",
       "      <td>936</td>\n",
       "      <td>1</td>\n",
       "      <td>1.0</td>\n",
       "      <td>1</td>\n",
       "      <td>1.0</td>\n",
       "      <td>1</td>\n",
       "      <td>18</td>\n",
       "      <td>0.2</td>\n",
       "      <td>153</td>\n",
       "      <td>3</td>\n",
       "      <td>...</td>\n",
       "      <td>0</td>\n",
       "      <td>0</td>\n",
       "      <td>0</td>\n",
       "      <td>0</td>\n",
       "      <td>0</td>\n",
       "      <td>0</td>\n",
       "      <td>0</td>\n",
       "      <td>0</td>\n",
       "      <td>0</td>\n",
       "      <td>0</td>\n",
       "    </tr>\n",
       "    <tr>\n",
       "      <th>5</th>\n",
       "      <td>1162</td>\n",
       "      <td>1</td>\n",
       "      <td>1.0</td>\n",
       "      <td>1</td>\n",
       "      <td>0.0</td>\n",
       "      <td>1</td>\n",
       "      <td>50</td>\n",
       "      <td>0.5</td>\n",
       "      <td>104</td>\n",
       "      <td>4</td>\n",
       "      <td>...</td>\n",
       "      <td>0</td>\n",
       "      <td>0</td>\n",
       "      <td>0</td>\n",
       "      <td>0</td>\n",
       "      <td>0</td>\n",
       "      <td>0</td>\n",
       "      <td>0</td>\n",
       "      <td>0</td>\n",
       "      <td>0</td>\n",
       "      <td>0</td>\n",
       "    </tr>\n",
       "    <tr>\n",
       "      <th>6</th>\n",
       "      <td>1849</td>\n",
       "      <td>0</td>\n",
       "      <td>0.5</td>\n",
       "      <td>1</td>\n",
       "      <td>1.0</td>\n",
       "      <td>1</td>\n",
       "      <td>29</td>\n",
       "      <td>0.5</td>\n",
       "      <td>181</td>\n",
       "      <td>7</td>\n",
       "      <td>...</td>\n",
       "      <td>0</td>\n",
       "      <td>0</td>\n",
       "      <td>0</td>\n",
       "      <td>0</td>\n",
       "      <td>0</td>\n",
       "      <td>0</td>\n",
       "      <td>0</td>\n",
       "      <td>0</td>\n",
       "      <td>0</td>\n",
       "      <td>0</td>\n",
       "    </tr>\n",
       "    <tr>\n",
       "      <th>7</th>\n",
       "      <td>1860</td>\n",
       "      <td>1</td>\n",
       "      <td>0.5</td>\n",
       "      <td>0</td>\n",
       "      <td>2.0</td>\n",
       "      <td>0</td>\n",
       "      <td>55</td>\n",
       "      <td>0.7</td>\n",
       "      <td>83</td>\n",
       "      <td>6</td>\n",
       "      <td>...</td>\n",
       "      <td>0</td>\n",
       "      <td>0</td>\n",
       "      <td>0</td>\n",
       "      <td>0</td>\n",
       "      <td>0</td>\n",
       "      <td>0</td>\n",
       "      <td>0</td>\n",
       "      <td>0</td>\n",
       "      <td>0</td>\n",
       "      <td>0</td>\n",
       "    </tr>\n",
       "    <tr>\n",
       "      <th>8</th>\n",
       "      <td>1536</td>\n",
       "      <td>1</td>\n",
       "      <td>0.8</td>\n",
       "      <td>1</td>\n",
       "      <td>12.0</td>\n",
       "      <td>1</td>\n",
       "      <td>13</td>\n",
       "      <td>0.3</td>\n",
       "      <td>105</td>\n",
       "      <td>7</td>\n",
       "      <td>...</td>\n",
       "      <td>0</td>\n",
       "      <td>0</td>\n",
       "      <td>0</td>\n",
       "      <td>0</td>\n",
       "      <td>0</td>\n",
       "      <td>1</td>\n",
       "      <td>0</td>\n",
       "      <td>0</td>\n",
       "      <td>0</td>\n",
       "      <td>0</td>\n",
       "    </tr>\n",
       "    <tr>\n",
       "      <th>9</th>\n",
       "      <td>539</td>\n",
       "      <td>0</td>\n",
       "      <td>0.6</td>\n",
       "      <td>0</td>\n",
       "      <td>9.0</td>\n",
       "      <td>1</td>\n",
       "      <td>21</td>\n",
       "      <td>0.1</td>\n",
       "      <td>145</td>\n",
       "      <td>7</td>\n",
       "      <td>...</td>\n",
       "      <td>0</td>\n",
       "      <td>0</td>\n",
       "      <td>1</td>\n",
       "      <td>0</td>\n",
       "      <td>0</td>\n",
       "      <td>0</td>\n",
       "      <td>0</td>\n",
       "      <td>0</td>\n",
       "      <td>0</td>\n",
       "      <td>0</td>\n",
       "    </tr>\n",
       "  </tbody>\n",
       "</table>\n",
       "<p>10 rows × 32 columns</p>\n",
       "</div>"
      ],
      "text/plain": [
       "   BataryaGucu  Bluetooth  MikroislemciHizi  CiftHat  OnKameraMP  4G  \\\n",
       "0         1325          1               1.9        1         2.0   1   \n",
       "1         1046          0               2.8        0         0.0   0   \n",
       "2          843          1               1.3        0         1.0   1   \n",
       "3          894          1               0.5        0         1.0   0   \n",
       "4          936          1               1.0        1         1.0   1   \n",
       "5         1162          1               1.0        1         0.0   1   \n",
       "6         1849          0               0.5        1         1.0   1   \n",
       "7         1860          1               0.5        0         2.0   0   \n",
       "8         1536          1               0.8        1        12.0   1   \n",
       "9          539          0               0.6        0         9.0   1   \n",
       "\n",
       "   DahiliBellek  Kalinlik  Agirlik  CekirdekSayisi  ...  Renk_Kahverengi  \\\n",
       "0            50       0.1      146               1  ...                0   \n",
       "1            58       0.2      100               8  ...                0   \n",
       "2            16       0.9      119               7  ...                0   \n",
       "3            50       0.5      199               3  ...                0   \n",
       "4            18       0.2      153               3  ...                0   \n",
       "5            50       0.5      104               4  ...                0   \n",
       "6            29       0.5      181               7  ...                0   \n",
       "7            55       0.7       83               6  ...                0   \n",
       "8            13       0.3      105               7  ...                0   \n",
       "9            21       0.1      145               7  ...                0   \n",
       "\n",
       "   Renk_Kırmızı  Renk_Mavi  Renk_Mor  Renk_Pembe  Renk_Sarı  Renk_Siyah  \\\n",
       "0             0          0         0           0          0           0   \n",
       "1             0          0         0           1          0           0   \n",
       "2             0          0         1           0          0           0   \n",
       "3             0          0         0           0          0           0   \n",
       "4             0          0         0           0          0           0   \n",
       "5             0          0         0           0          0           0   \n",
       "6             0          0         0           0          0           0   \n",
       "7             0          0         0           0          0           0   \n",
       "8             0          0         0           0          1           0   \n",
       "9             0          1         0           0          0           0   \n",
       "\n",
       "   Renk_Turkuaz Renk_Turuncu Renk_Yeşil  \n",
       "0             0            0          0  \n",
       "1             0            0          0  \n",
       "2             0            0          0  \n",
       "3             0            1          0  \n",
       "4             0            0          0  \n",
       "5             0            0          0  \n",
       "6             0            0          0  \n",
       "7             0            0          0  \n",
       "8             0            0          0  \n",
       "9             0            0          0  \n",
       "\n",
       "[10 rows x 32 columns]"
      ]
     },
     "execution_count": 33,
     "metadata": {},
     "output_type": "execute_result"
    }
   ],
   "source": [
    "df=pd.concat([df,dfDummies],axis=1)\n",
    "df.head(10)"
   ]
  },
  {
   "cell_type": "code",
   "execution_count": 34,
   "id": "b4700a08",
   "metadata": {
    "execution": {
     "iopub.execute_input": "2022-06-02T13:28:14.108751Z",
     "iopub.status.busy": "2022-06-02T13:28:14.108088Z",
     "iopub.status.idle": "2022-06-02T13:28:14.114365Z",
     "shell.execute_reply": "2022-06-02T13:28:14.113584Z"
    },
    "papermill": {
     "duration": 0.044145,
     "end_time": "2022-06-02T13:28:14.116333",
     "exception": false,
     "start_time": "2022-06-02T13:28:14.072188",
     "status": "completed"
    },
    "tags": []
   },
   "outputs": [],
   "source": [
    "df.drop(['Renk','Renk_Mavi'],axis=1,inplace=True)\n"
   ]
  },
  {
   "cell_type": "code",
   "execution_count": 35,
   "id": "342c5a15",
   "metadata": {
    "execution": {
     "iopub.execute_input": "2022-06-02T13:28:14.187092Z",
     "iopub.status.busy": "2022-06-02T13:28:14.186428Z",
     "iopub.status.idle": "2022-06-02T13:28:14.207346Z",
     "shell.execute_reply": "2022-06-02T13:28:14.206603Z"
    },
    "papermill": {
     "duration": 0.059017,
     "end_time": "2022-06-02T13:28:14.209683",
     "exception": false,
     "start_time": "2022-06-02T13:28:14.150666",
     "status": "completed"
    },
    "tags": []
   },
   "outputs": [
    {
     "data": {
      "text/html": [
       "<div>\n",
       "<style scoped>\n",
       "    .dataframe tbody tr th:only-of-type {\n",
       "        vertical-align: middle;\n",
       "    }\n",
       "\n",
       "    .dataframe tbody tr th {\n",
       "        vertical-align: top;\n",
       "    }\n",
       "\n",
       "    .dataframe thead th {\n",
       "        text-align: right;\n",
       "    }\n",
       "</style>\n",
       "<table border=\"1\" class=\"dataframe\">\n",
       "  <thead>\n",
       "    <tr style=\"text-align: right;\">\n",
       "      <th></th>\n",
       "      <th>BataryaGucu</th>\n",
       "      <th>Bluetooth</th>\n",
       "      <th>MikroislemciHizi</th>\n",
       "      <th>CiftHat</th>\n",
       "      <th>OnKameraMP</th>\n",
       "      <th>4G</th>\n",
       "      <th>DahiliBellek</th>\n",
       "      <th>Kalinlik</th>\n",
       "      <th>Agirlik</th>\n",
       "      <th>CekirdekSayisi</th>\n",
       "      <th>...</th>\n",
       "      <th>Renk_Gri</th>\n",
       "      <th>Renk_Kahverengi</th>\n",
       "      <th>Renk_Kırmızı</th>\n",
       "      <th>Renk_Mor</th>\n",
       "      <th>Renk_Pembe</th>\n",
       "      <th>Renk_Sarı</th>\n",
       "      <th>Renk_Siyah</th>\n",
       "      <th>Renk_Turkuaz</th>\n",
       "      <th>Renk_Turuncu</th>\n",
       "      <th>Renk_Yeşil</th>\n",
       "    </tr>\n",
       "  </thead>\n",
       "  <tbody>\n",
       "    <tr>\n",
       "      <th>0</th>\n",
       "      <td>1325</td>\n",
       "      <td>1</td>\n",
       "      <td>1.9</td>\n",
       "      <td>1</td>\n",
       "      <td>2.0</td>\n",
       "      <td>1</td>\n",
       "      <td>50</td>\n",
       "      <td>0.1</td>\n",
       "      <td>146</td>\n",
       "      <td>1</td>\n",
       "      <td>...</td>\n",
       "      <td>0</td>\n",
       "      <td>0</td>\n",
       "      <td>0</td>\n",
       "      <td>0</td>\n",
       "      <td>0</td>\n",
       "      <td>0</td>\n",
       "      <td>0</td>\n",
       "      <td>0</td>\n",
       "      <td>0</td>\n",
       "      <td>0</td>\n",
       "    </tr>\n",
       "    <tr>\n",
       "      <th>1</th>\n",
       "      <td>1046</td>\n",
       "      <td>0</td>\n",
       "      <td>2.8</td>\n",
       "      <td>0</td>\n",
       "      <td>0.0</td>\n",
       "      <td>0</td>\n",
       "      <td>58</td>\n",
       "      <td>0.2</td>\n",
       "      <td>100</td>\n",
       "      <td>8</td>\n",
       "      <td>...</td>\n",
       "      <td>0</td>\n",
       "      <td>0</td>\n",
       "      <td>0</td>\n",
       "      <td>0</td>\n",
       "      <td>1</td>\n",
       "      <td>0</td>\n",
       "      <td>0</td>\n",
       "      <td>0</td>\n",
       "      <td>0</td>\n",
       "      <td>0</td>\n",
       "    </tr>\n",
       "    <tr>\n",
       "      <th>2</th>\n",
       "      <td>843</td>\n",
       "      <td>1</td>\n",
       "      <td>1.3</td>\n",
       "      <td>0</td>\n",
       "      <td>1.0</td>\n",
       "      <td>1</td>\n",
       "      <td>16</td>\n",
       "      <td>0.9</td>\n",
       "      <td>119</td>\n",
       "      <td>7</td>\n",
       "      <td>...</td>\n",
       "      <td>0</td>\n",
       "      <td>0</td>\n",
       "      <td>0</td>\n",
       "      <td>1</td>\n",
       "      <td>0</td>\n",
       "      <td>0</td>\n",
       "      <td>0</td>\n",
       "      <td>0</td>\n",
       "      <td>0</td>\n",
       "      <td>0</td>\n",
       "    </tr>\n",
       "    <tr>\n",
       "      <th>3</th>\n",
       "      <td>894</td>\n",
       "      <td>1</td>\n",
       "      <td>0.5</td>\n",
       "      <td>0</td>\n",
       "      <td>1.0</td>\n",
       "      <td>0</td>\n",
       "      <td>50</td>\n",
       "      <td>0.5</td>\n",
       "      <td>199</td>\n",
       "      <td>3</td>\n",
       "      <td>...</td>\n",
       "      <td>0</td>\n",
       "      <td>0</td>\n",
       "      <td>0</td>\n",
       "      <td>0</td>\n",
       "      <td>0</td>\n",
       "      <td>0</td>\n",
       "      <td>0</td>\n",
       "      <td>0</td>\n",
       "      <td>1</td>\n",
       "      <td>0</td>\n",
       "    </tr>\n",
       "    <tr>\n",
       "      <th>4</th>\n",
       "      <td>936</td>\n",
       "      <td>1</td>\n",
       "      <td>1.0</td>\n",
       "      <td>1</td>\n",
       "      <td>1.0</td>\n",
       "      <td>1</td>\n",
       "      <td>18</td>\n",
       "      <td>0.2</td>\n",
       "      <td>153</td>\n",
       "      <td>3</td>\n",
       "      <td>...</td>\n",
       "      <td>0</td>\n",
       "      <td>0</td>\n",
       "      <td>0</td>\n",
       "      <td>0</td>\n",
       "      <td>0</td>\n",
       "      <td>0</td>\n",
       "      <td>0</td>\n",
       "      <td>0</td>\n",
       "      <td>0</td>\n",
       "      <td>0</td>\n",
       "    </tr>\n",
       "  </tbody>\n",
       "</table>\n",
       "<p>5 rows × 30 columns</p>\n",
       "</div>"
      ],
      "text/plain": [
       "   BataryaGucu  Bluetooth  MikroislemciHizi  CiftHat  OnKameraMP  4G  \\\n",
       "0         1325          1               1.9        1         2.0   1   \n",
       "1         1046          0               2.8        0         0.0   0   \n",
       "2          843          1               1.3        0         1.0   1   \n",
       "3          894          1               0.5        0         1.0   0   \n",
       "4          936          1               1.0        1         1.0   1   \n",
       "\n",
       "   DahiliBellek  Kalinlik  Agirlik  CekirdekSayisi  ...  Renk_Gri  \\\n",
       "0            50       0.1      146               1  ...         0   \n",
       "1            58       0.2      100               8  ...         0   \n",
       "2            16       0.9      119               7  ...         0   \n",
       "3            50       0.5      199               3  ...         0   \n",
       "4            18       0.2      153               3  ...         0   \n",
       "\n",
       "   Renk_Kahverengi  Renk_Kırmızı  Renk_Mor  Renk_Pembe  Renk_Sarı  Renk_Siyah  \\\n",
       "0                0             0         0           0          0           0   \n",
       "1                0             0         0           1          0           0   \n",
       "2                0             0         1           0          0           0   \n",
       "3                0             0         0           0          0           0   \n",
       "4                0             0         0           0          0           0   \n",
       "\n",
       "   Renk_Turkuaz Renk_Turuncu  Renk_Yeşil  \n",
       "0             0            0           0  \n",
       "1             0            0           0  \n",
       "2             0            0           0  \n",
       "3             0            1           0  \n",
       "4             0            0           0  \n",
       "\n",
       "[5 rows x 30 columns]"
      ]
     },
     "execution_count": 35,
     "metadata": {},
     "output_type": "execute_result"
    }
   ],
   "source": [
    "df.head()"
   ]
  },
  {
   "cell_type": "markdown",
   "id": "c0ca6b58",
   "metadata": {
    "papermill": {
     "duration": 0.035423,
     "end_time": "2022-06-02T13:28:14.281238",
     "exception": false,
     "start_time": "2022-06-02T13:28:14.245815",
     "status": "completed"
    },
    "tags": []
   },
   "source": [
    "# Regresyon Analizi"
   ]
  },
  {
   "cell_type": "markdown",
   "id": "b6ca933b",
   "metadata": {
    "papermill": {
     "duration": 0.039996,
     "end_time": "2022-06-02T13:28:14.356295",
     "exception": false,
     "start_time": "2022-06-02T13:28:14.316299",
     "status": "completed"
    },
    "tags": []
   },
   "source": [
    "Veri setimizi bağımlı ve bağımsız değişkenler olmak üzere bölme\n"
   ]
  },
  {
   "cell_type": "code",
   "execution_count": 36,
   "id": "8cec2c91",
   "metadata": {
    "execution": {
     "iopub.execute_input": "2022-06-02T13:28:14.442221Z",
     "iopub.status.busy": "2022-06-02T13:28:14.441823Z",
     "iopub.status.idle": "2022-06-02T13:28:14.447719Z",
     "shell.execute_reply": "2022-06-02T13:28:14.446989Z"
    },
    "papermill": {
     "duration": 0.052192,
     "end_time": "2022-06-02T13:28:14.449683",
     "exception": false,
     "start_time": "2022-06-02T13:28:14.397491",
     "status": "completed"
    },
    "tags": []
   },
   "outputs": [],
   "source": [
    "y=df[\"FiyatAraligi\"] \n",
    "x=df.drop(\"FiyatAraligi\",axis=1)\n",
    "#y bağımlı değişkenimiz\n",
    "#x bağımsız değişkenimiz"
   ]
  },
  {
   "cell_type": "code",
   "execution_count": 37,
   "id": "51064463",
   "metadata": {
    "execution": {
     "iopub.execute_input": "2022-06-02T13:28:14.521546Z",
     "iopub.status.busy": "2022-06-02T13:28:14.520853Z",
     "iopub.status.idle": "2022-06-02T13:28:14.527525Z",
     "shell.execute_reply": "2022-06-02T13:28:14.526841Z"
    },
    "papermill": {
     "duration": 0.044643,
     "end_time": "2022-06-02T13:28:14.529342",
     "exception": false,
     "start_time": "2022-06-02T13:28:14.484699",
     "status": "completed"
    },
    "tags": []
   },
   "outputs": [
    {
     "data": {
      "text/plain": [
       "0         Normal\n",
       "1         Pahalı\n",
       "2           Ucuz\n",
       "3         Pahalı\n",
       "4         Normal\n",
       "          ...   \n",
       "1995    Çok Ucuz\n",
       "1996        Ucuz\n",
       "1997      Pahalı\n",
       "1998      Normal\n",
       "1999      Normal\n",
       "Name: FiyatAraligi, Length: 2000, dtype: object"
      ]
     },
     "execution_count": 37,
     "metadata": {},
     "output_type": "execute_result"
    }
   ],
   "source": [
    "y"
   ]
  },
  {
   "cell_type": "code",
   "execution_count": 38,
   "id": "60ee404a",
   "metadata": {
    "execution": {
     "iopub.execute_input": "2022-06-02T13:28:14.601959Z",
     "iopub.status.busy": "2022-06-02T13:28:14.601298Z",
     "iopub.status.idle": "2022-06-02T13:28:14.628355Z",
     "shell.execute_reply": "2022-06-02T13:28:14.627649Z"
    },
    "papermill": {
     "duration": 0.065458,
     "end_time": "2022-06-02T13:28:14.630412",
     "exception": false,
     "start_time": "2022-06-02T13:28:14.564954",
     "status": "completed"
    },
    "tags": []
   },
   "outputs": [
    {
     "data": {
      "text/html": [
       "<div>\n",
       "<style scoped>\n",
       "    .dataframe tbody tr th:only-of-type {\n",
       "        vertical-align: middle;\n",
       "    }\n",
       "\n",
       "    .dataframe tbody tr th {\n",
       "        vertical-align: top;\n",
       "    }\n",
       "\n",
       "    .dataframe thead th {\n",
       "        text-align: right;\n",
       "    }\n",
       "</style>\n",
       "<table border=\"1\" class=\"dataframe\">\n",
       "  <thead>\n",
       "    <tr style=\"text-align: right;\">\n",
       "      <th></th>\n",
       "      <th>BataryaGucu</th>\n",
       "      <th>Bluetooth</th>\n",
       "      <th>MikroislemciHizi</th>\n",
       "      <th>CiftHat</th>\n",
       "      <th>OnKameraMP</th>\n",
       "      <th>4G</th>\n",
       "      <th>DahiliBellek</th>\n",
       "      <th>Kalinlik</th>\n",
       "      <th>Agirlik</th>\n",
       "      <th>CekirdekSayisi</th>\n",
       "      <th>...</th>\n",
       "      <th>Renk_Gri</th>\n",
       "      <th>Renk_Kahverengi</th>\n",
       "      <th>Renk_Kırmızı</th>\n",
       "      <th>Renk_Mor</th>\n",
       "      <th>Renk_Pembe</th>\n",
       "      <th>Renk_Sarı</th>\n",
       "      <th>Renk_Siyah</th>\n",
       "      <th>Renk_Turkuaz</th>\n",
       "      <th>Renk_Turuncu</th>\n",
       "      <th>Renk_Yeşil</th>\n",
       "    </tr>\n",
       "  </thead>\n",
       "  <tbody>\n",
       "    <tr>\n",
       "      <th>0</th>\n",
       "      <td>1325</td>\n",
       "      <td>1</td>\n",
       "      <td>1.9</td>\n",
       "      <td>1</td>\n",
       "      <td>2.0</td>\n",
       "      <td>1</td>\n",
       "      <td>50</td>\n",
       "      <td>0.1</td>\n",
       "      <td>146</td>\n",
       "      <td>1</td>\n",
       "      <td>...</td>\n",
       "      <td>0</td>\n",
       "      <td>0</td>\n",
       "      <td>0</td>\n",
       "      <td>0</td>\n",
       "      <td>0</td>\n",
       "      <td>0</td>\n",
       "      <td>0</td>\n",
       "      <td>0</td>\n",
       "      <td>0</td>\n",
       "      <td>0</td>\n",
       "    </tr>\n",
       "    <tr>\n",
       "      <th>1</th>\n",
       "      <td>1046</td>\n",
       "      <td>0</td>\n",
       "      <td>2.8</td>\n",
       "      <td>0</td>\n",
       "      <td>0.0</td>\n",
       "      <td>0</td>\n",
       "      <td>58</td>\n",
       "      <td>0.2</td>\n",
       "      <td>100</td>\n",
       "      <td>8</td>\n",
       "      <td>...</td>\n",
       "      <td>0</td>\n",
       "      <td>0</td>\n",
       "      <td>0</td>\n",
       "      <td>0</td>\n",
       "      <td>1</td>\n",
       "      <td>0</td>\n",
       "      <td>0</td>\n",
       "      <td>0</td>\n",
       "      <td>0</td>\n",
       "      <td>0</td>\n",
       "    </tr>\n",
       "    <tr>\n",
       "      <th>2</th>\n",
       "      <td>843</td>\n",
       "      <td>1</td>\n",
       "      <td>1.3</td>\n",
       "      <td>0</td>\n",
       "      <td>1.0</td>\n",
       "      <td>1</td>\n",
       "      <td>16</td>\n",
       "      <td>0.9</td>\n",
       "      <td>119</td>\n",
       "      <td>7</td>\n",
       "      <td>...</td>\n",
       "      <td>0</td>\n",
       "      <td>0</td>\n",
       "      <td>0</td>\n",
       "      <td>1</td>\n",
       "      <td>0</td>\n",
       "      <td>0</td>\n",
       "      <td>0</td>\n",
       "      <td>0</td>\n",
       "      <td>0</td>\n",
       "      <td>0</td>\n",
       "    </tr>\n",
       "    <tr>\n",
       "      <th>3</th>\n",
       "      <td>894</td>\n",
       "      <td>1</td>\n",
       "      <td>0.5</td>\n",
       "      <td>0</td>\n",
       "      <td>1.0</td>\n",
       "      <td>0</td>\n",
       "      <td>50</td>\n",
       "      <td>0.5</td>\n",
       "      <td>199</td>\n",
       "      <td>3</td>\n",
       "      <td>...</td>\n",
       "      <td>0</td>\n",
       "      <td>0</td>\n",
       "      <td>0</td>\n",
       "      <td>0</td>\n",
       "      <td>0</td>\n",
       "      <td>0</td>\n",
       "      <td>0</td>\n",
       "      <td>0</td>\n",
       "      <td>1</td>\n",
       "      <td>0</td>\n",
       "    </tr>\n",
       "    <tr>\n",
       "      <th>4</th>\n",
       "      <td>936</td>\n",
       "      <td>1</td>\n",
       "      <td>1.0</td>\n",
       "      <td>1</td>\n",
       "      <td>1.0</td>\n",
       "      <td>1</td>\n",
       "      <td>18</td>\n",
       "      <td>0.2</td>\n",
       "      <td>153</td>\n",
       "      <td>3</td>\n",
       "      <td>...</td>\n",
       "      <td>0</td>\n",
       "      <td>0</td>\n",
       "      <td>0</td>\n",
       "      <td>0</td>\n",
       "      <td>0</td>\n",
       "      <td>0</td>\n",
       "      <td>0</td>\n",
       "      <td>0</td>\n",
       "      <td>0</td>\n",
       "      <td>0</td>\n",
       "    </tr>\n",
       "    <tr>\n",
       "      <th>...</th>\n",
       "      <td>...</td>\n",
       "      <td>...</td>\n",
       "      <td>...</td>\n",
       "      <td>...</td>\n",
       "      <td>...</td>\n",
       "      <td>...</td>\n",
       "      <td>...</td>\n",
       "      <td>...</td>\n",
       "      <td>...</td>\n",
       "      <td>...</td>\n",
       "      <td>...</td>\n",
       "      <td>...</td>\n",
       "      <td>...</td>\n",
       "      <td>...</td>\n",
       "      <td>...</td>\n",
       "      <td>...</td>\n",
       "      <td>...</td>\n",
       "      <td>...</td>\n",
       "      <td>...</td>\n",
       "      <td>...</td>\n",
       "      <td>...</td>\n",
       "    </tr>\n",
       "    <tr>\n",
       "      <th>1995</th>\n",
       "      <td>689</td>\n",
       "      <td>1</td>\n",
       "      <td>2.9</td>\n",
       "      <td>0</td>\n",
       "      <td>3.0</td>\n",
       "      <td>0</td>\n",
       "      <td>7</td>\n",
       "      <td>0.8</td>\n",
       "      <td>147</td>\n",
       "      <td>2</td>\n",
       "      <td>...</td>\n",
       "      <td>0</td>\n",
       "      <td>0</td>\n",
       "      <td>0</td>\n",
       "      <td>0</td>\n",
       "      <td>0</td>\n",
       "      <td>0</td>\n",
       "      <td>1</td>\n",
       "      <td>0</td>\n",
       "      <td>0</td>\n",
       "      <td>0</td>\n",
       "    </tr>\n",
       "    <tr>\n",
       "      <th>1996</th>\n",
       "      <td>1654</td>\n",
       "      <td>1</td>\n",
       "      <td>1.8</td>\n",
       "      <td>1</td>\n",
       "      <td>1.0</td>\n",
       "      <td>1</td>\n",
       "      <td>11</td>\n",
       "      <td>0.3</td>\n",
       "      <td>146</td>\n",
       "      <td>7</td>\n",
       "      <td>...</td>\n",
       "      <td>0</td>\n",
       "      <td>0</td>\n",
       "      <td>0</td>\n",
       "      <td>0</td>\n",
       "      <td>0</td>\n",
       "      <td>1</td>\n",
       "      <td>0</td>\n",
       "      <td>0</td>\n",
       "      <td>0</td>\n",
       "      <td>0</td>\n",
       "    </tr>\n",
       "    <tr>\n",
       "      <th>1997</th>\n",
       "      <td>742</td>\n",
       "      <td>1</td>\n",
       "      <td>2.2</td>\n",
       "      <td>0</td>\n",
       "      <td>4.0</td>\n",
       "      <td>1</td>\n",
       "      <td>56</td>\n",
       "      <td>0.2</td>\n",
       "      <td>190</td>\n",
       "      <td>7</td>\n",
       "      <td>...</td>\n",
       "      <td>0</td>\n",
       "      <td>0</td>\n",
       "      <td>0</td>\n",
       "      <td>0</td>\n",
       "      <td>0</td>\n",
       "      <td>0</td>\n",
       "      <td>0</td>\n",
       "      <td>0</td>\n",
       "      <td>1</td>\n",
       "      <td>0</td>\n",
       "    </tr>\n",
       "    <tr>\n",
       "      <th>1998</th>\n",
       "      <td>704</td>\n",
       "      <td>1</td>\n",
       "      <td>2.2</td>\n",
       "      <td>0</td>\n",
       "      <td>4.0</td>\n",
       "      <td>1</td>\n",
       "      <td>53</td>\n",
       "      <td>0.2</td>\n",
       "      <td>186</td>\n",
       "      <td>6</td>\n",
       "      <td>...</td>\n",
       "      <td>0</td>\n",
       "      <td>0</td>\n",
       "      <td>0</td>\n",
       "      <td>0</td>\n",
       "      <td>0</td>\n",
       "      <td>0</td>\n",
       "      <td>0</td>\n",
       "      <td>1</td>\n",
       "      <td>0</td>\n",
       "      <td>0</td>\n",
       "    </tr>\n",
       "    <tr>\n",
       "      <th>1999</th>\n",
       "      <td>1872</td>\n",
       "      <td>1</td>\n",
       "      <td>0.5</td>\n",
       "      <td>1</td>\n",
       "      <td>5.0</td>\n",
       "      <td>0</td>\n",
       "      <td>26</td>\n",
       "      <td>0.5</td>\n",
       "      <td>172</td>\n",
       "      <td>4</td>\n",
       "      <td>...</td>\n",
       "      <td>0</td>\n",
       "      <td>0</td>\n",
       "      <td>0</td>\n",
       "      <td>0</td>\n",
       "      <td>0</td>\n",
       "      <td>0</td>\n",
       "      <td>1</td>\n",
       "      <td>0</td>\n",
       "      <td>0</td>\n",
       "      <td>0</td>\n",
       "    </tr>\n",
       "  </tbody>\n",
       "</table>\n",
       "<p>2000 rows × 29 columns</p>\n",
       "</div>"
      ],
      "text/plain": [
       "      BataryaGucu  Bluetooth  MikroislemciHizi  CiftHat  OnKameraMP  4G  \\\n",
       "0            1325          1               1.9        1         2.0   1   \n",
       "1            1046          0               2.8        0         0.0   0   \n",
       "2             843          1               1.3        0         1.0   1   \n",
       "3             894          1               0.5        0         1.0   0   \n",
       "4             936          1               1.0        1         1.0   1   \n",
       "...           ...        ...               ...      ...         ...  ..   \n",
       "1995          689          1               2.9        0         3.0   0   \n",
       "1996         1654          1               1.8        1         1.0   1   \n",
       "1997          742          1               2.2        0         4.0   1   \n",
       "1998          704          1               2.2        0         4.0   1   \n",
       "1999         1872          1               0.5        1         5.0   0   \n",
       "\n",
       "      DahiliBellek  Kalinlik  Agirlik  CekirdekSayisi  ...  Renk_Gri  \\\n",
       "0               50       0.1      146               1  ...         0   \n",
       "1               58       0.2      100               8  ...         0   \n",
       "2               16       0.9      119               7  ...         0   \n",
       "3               50       0.5      199               3  ...         0   \n",
       "4               18       0.2      153               3  ...         0   \n",
       "...            ...       ...      ...             ...  ...       ...   \n",
       "1995             7       0.8      147               2  ...         0   \n",
       "1996            11       0.3      146               7  ...         0   \n",
       "1997            56       0.2      190               7  ...         0   \n",
       "1998            53       0.2      186               6  ...         0   \n",
       "1999            26       0.5      172               4  ...         0   \n",
       "\n",
       "      Renk_Kahverengi  Renk_Kırmızı  Renk_Mor  Renk_Pembe  Renk_Sarı  \\\n",
       "0                   0             0         0           0          0   \n",
       "1                   0             0         0           1          0   \n",
       "2                   0             0         1           0          0   \n",
       "3                   0             0         0           0          0   \n",
       "4                   0             0         0           0          0   \n",
       "...               ...           ...       ...         ...        ...   \n",
       "1995                0             0         0           0          0   \n",
       "1996                0             0         0           0          1   \n",
       "1997                0             0         0           0          0   \n",
       "1998                0             0         0           0          0   \n",
       "1999                0             0         0           0          0   \n",
       "\n",
       "      Renk_Siyah  Renk_Turkuaz  Renk_Turuncu  Renk_Yeşil  \n",
       "0              0             0             0           0  \n",
       "1              0             0             0           0  \n",
       "2              0             0             0           0  \n",
       "3              0             0             1           0  \n",
       "4              0             0             0           0  \n",
       "...          ...           ...           ...         ...  \n",
       "1995           1             0             0           0  \n",
       "1996           0             0             0           0  \n",
       "1997           0             0             1           0  \n",
       "1998           0             1             0           0  \n",
       "1999           1             0             0           0  \n",
       "\n",
       "[2000 rows x 29 columns]"
      ]
     },
     "execution_count": 38,
     "metadata": {},
     "output_type": "execute_result"
    }
   ],
   "source": [
    "x"
   ]
  },
  {
   "cell_type": "markdown",
   "id": "5a4b074c",
   "metadata": {
    "papermill": {
     "duration": 0.035428,
     "end_time": "2022-06-02T13:28:14.701364",
     "exception": false,
     "start_time": "2022-06-02T13:28:14.665936",
     "status": "completed"
    },
    "tags": []
   },
   "source": [
    "Bağımlı ve bağımsız değişkenleri  test olmak üzere train_test_split metodunu kullanarak ayıralım."
   ]
  },
  {
   "cell_type": "code",
   "execution_count": 39,
   "id": "5db33d9c",
   "metadata": {
    "execution": {
     "iopub.execute_input": "2022-06-02T13:28:14.774929Z",
     "iopub.status.busy": "2022-06-02T13:28:14.774222Z",
     "iopub.status.idle": "2022-06-02T13:28:14.781374Z",
     "shell.execute_reply": "2022-06-02T13:28:14.780538Z"
    },
    "papermill": {
     "duration": 0.046499,
     "end_time": "2022-06-02T13:28:14.783643",
     "exception": false,
     "start_time": "2022-06-02T13:28:14.737144",
     "status": "completed"
    },
    "tags": []
   },
   "outputs": [],
   "source": [
    "x_train,x_test,y_train,y_test=train_test_split(x,y,test_size=0.25,random_state=42)"
   ]
  },
  {
   "cell_type": "markdown",
   "id": "3eb286b4",
   "metadata": {
    "papermill": {
     "duration": 0.035142,
     "end_time": "2022-06-02T13:28:14.854794",
     "exception": false,
     "start_time": "2022-06-02T13:28:14.819652",
     "status": "completed"
    },
    "tags": []
   },
   "source": [
    "4 parça değişkeni kontrol edelim."
   ]
  },
  {
   "cell_type": "code",
   "execution_count": 40,
   "id": "3f259211",
   "metadata": {
    "execution": {
     "iopub.execute_input": "2022-06-02T13:28:14.929032Z",
     "iopub.status.busy": "2022-06-02T13:28:14.928169Z",
     "iopub.status.idle": "2022-06-02T13:28:14.954591Z",
     "shell.execute_reply": "2022-06-02T13:28:14.953790Z"
    },
    "papermill": {
     "duration": 0.065366,
     "end_time": "2022-06-02T13:28:14.956552",
     "exception": false,
     "start_time": "2022-06-02T13:28:14.891186",
     "status": "completed"
    },
    "tags": []
   },
   "outputs": [
    {
     "data": {
      "text/html": [
       "<div>\n",
       "<style scoped>\n",
       "    .dataframe tbody tr th:only-of-type {\n",
       "        vertical-align: middle;\n",
       "    }\n",
       "\n",
       "    .dataframe tbody tr th {\n",
       "        vertical-align: top;\n",
       "    }\n",
       "\n",
       "    .dataframe thead th {\n",
       "        text-align: right;\n",
       "    }\n",
       "</style>\n",
       "<table border=\"1\" class=\"dataframe\">\n",
       "  <thead>\n",
       "    <tr style=\"text-align: right;\">\n",
       "      <th></th>\n",
       "      <th>BataryaGucu</th>\n",
       "      <th>Bluetooth</th>\n",
       "      <th>MikroislemciHizi</th>\n",
       "      <th>CiftHat</th>\n",
       "      <th>OnKameraMP</th>\n",
       "      <th>4G</th>\n",
       "      <th>DahiliBellek</th>\n",
       "      <th>Kalinlik</th>\n",
       "      <th>Agirlik</th>\n",
       "      <th>CekirdekSayisi</th>\n",
       "      <th>...</th>\n",
       "      <th>Renk_Gri</th>\n",
       "      <th>Renk_Kahverengi</th>\n",
       "      <th>Renk_Kırmızı</th>\n",
       "      <th>Renk_Mor</th>\n",
       "      <th>Renk_Pembe</th>\n",
       "      <th>Renk_Sarı</th>\n",
       "      <th>Renk_Siyah</th>\n",
       "      <th>Renk_Turkuaz</th>\n",
       "      <th>Renk_Turuncu</th>\n",
       "      <th>Renk_Yeşil</th>\n",
       "    </tr>\n",
       "  </thead>\n",
       "  <tbody>\n",
       "    <tr>\n",
       "      <th>1860</th>\n",
       "      <td>1433</td>\n",
       "      <td>0</td>\n",
       "      <td>2.3</td>\n",
       "      <td>1</td>\n",
       "      <td>2.0</td>\n",
       "      <td>0</td>\n",
       "      <td>5</td>\n",
       "      <td>0.1</td>\n",
       "      <td>129</td>\n",
       "      <td>5</td>\n",
       "      <td>...</td>\n",
       "      <td>0</td>\n",
       "      <td>0</td>\n",
       "      <td>0</td>\n",
       "      <td>0</td>\n",
       "      <td>0</td>\n",
       "      <td>0</td>\n",
       "      <td>0</td>\n",
       "      <td>0</td>\n",
       "      <td>0</td>\n",
       "      <td>0</td>\n",
       "    </tr>\n",
       "    <tr>\n",
       "      <th>353</th>\n",
       "      <td>1174</td>\n",
       "      <td>0</td>\n",
       "      <td>0.9</td>\n",
       "      <td>1</td>\n",
       "      <td>7.0</td>\n",
       "      <td>1</td>\n",
       "      <td>30</td>\n",
       "      <td>1.0</td>\n",
       "      <td>147</td>\n",
       "      <td>4</td>\n",
       "      <td>...</td>\n",
       "      <td>0</td>\n",
       "      <td>0</td>\n",
       "      <td>0</td>\n",
       "      <td>0</td>\n",
       "      <td>0</td>\n",
       "      <td>0</td>\n",
       "      <td>1</td>\n",
       "      <td>0</td>\n",
       "      <td>0</td>\n",
       "      <td>0</td>\n",
       "    </tr>\n",
       "    <tr>\n",
       "      <th>1333</th>\n",
       "      <td>999</td>\n",
       "      <td>1</td>\n",
       "      <td>2.6</td>\n",
       "      <td>0</td>\n",
       "      <td>11.0</td>\n",
       "      <td>0</td>\n",
       "      <td>56</td>\n",
       "      <td>1.0</td>\n",
       "      <td>165</td>\n",
       "      <td>4</td>\n",
       "      <td>...</td>\n",
       "      <td>0</td>\n",
       "      <td>0</td>\n",
       "      <td>0</td>\n",
       "      <td>0</td>\n",
       "      <td>1</td>\n",
       "      <td>0</td>\n",
       "      <td>0</td>\n",
       "      <td>0</td>\n",
       "      <td>0</td>\n",
       "      <td>0</td>\n",
       "    </tr>\n",
       "    <tr>\n",
       "      <th>905</th>\n",
       "      <td>972</td>\n",
       "      <td>0</td>\n",
       "      <td>0.5</td>\n",
       "      <td>0</td>\n",
       "      <td>5.0</td>\n",
       "      <td>1</td>\n",
       "      <td>13</td>\n",
       "      <td>0.4</td>\n",
       "      <td>193</td>\n",
       "      <td>5</td>\n",
       "      <td>...</td>\n",
       "      <td>0</td>\n",
       "      <td>0</td>\n",
       "      <td>0</td>\n",
       "      <td>0</td>\n",
       "      <td>0</td>\n",
       "      <td>0</td>\n",
       "      <td>0</td>\n",
       "      <td>1</td>\n",
       "      <td>0</td>\n",
       "      <td>0</td>\n",
       "    </tr>\n",
       "    <tr>\n",
       "      <th>1289</th>\n",
       "      <td>1811</td>\n",
       "      <td>0</td>\n",
       "      <td>2.5</td>\n",
       "      <td>1</td>\n",
       "      <td>4.0</td>\n",
       "      <td>0</td>\n",
       "      <td>5</td>\n",
       "      <td>0.6</td>\n",
       "      <td>98</td>\n",
       "      <td>4</td>\n",
       "      <td>...</td>\n",
       "      <td>0</td>\n",
       "      <td>0</td>\n",
       "      <td>0</td>\n",
       "      <td>0</td>\n",
       "      <td>0</td>\n",
       "      <td>1</td>\n",
       "      <td>0</td>\n",
       "      <td>0</td>\n",
       "      <td>0</td>\n",
       "      <td>0</td>\n",
       "    </tr>\n",
       "    <tr>\n",
       "      <th>...</th>\n",
       "      <td>...</td>\n",
       "      <td>...</td>\n",
       "      <td>...</td>\n",
       "      <td>...</td>\n",
       "      <td>...</td>\n",
       "      <td>...</td>\n",
       "      <td>...</td>\n",
       "      <td>...</td>\n",
       "      <td>...</td>\n",
       "      <td>...</td>\n",
       "      <td>...</td>\n",
       "      <td>...</td>\n",
       "      <td>...</td>\n",
       "      <td>...</td>\n",
       "      <td>...</td>\n",
       "      <td>...</td>\n",
       "      <td>...</td>\n",
       "      <td>...</td>\n",
       "      <td>...</td>\n",
       "      <td>...</td>\n",
       "      <td>...</td>\n",
       "    </tr>\n",
       "    <tr>\n",
       "      <th>765</th>\n",
       "      <td>1530</td>\n",
       "      <td>1</td>\n",
       "      <td>2.0</td>\n",
       "      <td>1</td>\n",
       "      <td>11.0</td>\n",
       "      <td>1</td>\n",
       "      <td>42</td>\n",
       "      <td>0.8</td>\n",
       "      <td>177</td>\n",
       "      <td>6</td>\n",
       "      <td>...</td>\n",
       "      <td>0</td>\n",
       "      <td>0</td>\n",
       "      <td>0</td>\n",
       "      <td>1</td>\n",
       "      <td>0</td>\n",
       "      <td>0</td>\n",
       "      <td>0</td>\n",
       "      <td>0</td>\n",
       "      <td>0</td>\n",
       "      <td>0</td>\n",
       "    </tr>\n",
       "    <tr>\n",
       "      <th>1356</th>\n",
       "      <td>668</td>\n",
       "      <td>1</td>\n",
       "      <td>2.3</td>\n",
       "      <td>1</td>\n",
       "      <td>2.0</td>\n",
       "      <td>0</td>\n",
       "      <td>48</td>\n",
       "      <td>0.3</td>\n",
       "      <td>114</td>\n",
       "      <td>1</td>\n",
       "      <td>...</td>\n",
       "      <td>0</td>\n",
       "      <td>0</td>\n",
       "      <td>0</td>\n",
       "      <td>0</td>\n",
       "      <td>0</td>\n",
       "      <td>0</td>\n",
       "      <td>0</td>\n",
       "      <td>1</td>\n",
       "      <td>0</td>\n",
       "      <td>0</td>\n",
       "    </tr>\n",
       "    <tr>\n",
       "      <th>408</th>\n",
       "      <td>1179</td>\n",
       "      <td>0</td>\n",
       "      <td>0.8</td>\n",
       "      <td>1</td>\n",
       "      <td>1.0</td>\n",
       "      <td>1</td>\n",
       "      <td>5</td>\n",
       "      <td>0.9</td>\n",
       "      <td>154</td>\n",
       "      <td>5</td>\n",
       "      <td>...</td>\n",
       "      <td>0</td>\n",
       "      <td>0</td>\n",
       "      <td>1</td>\n",
       "      <td>0</td>\n",
       "      <td>0</td>\n",
       "      <td>0</td>\n",
       "      <td>0</td>\n",
       "      <td>0</td>\n",
       "      <td>0</td>\n",
       "      <td>0</td>\n",
       "    </tr>\n",
       "    <tr>\n",
       "      <th>1614</th>\n",
       "      <td>1456</td>\n",
       "      <td>1</td>\n",
       "      <td>1.6</td>\n",
       "      <td>0</td>\n",
       "      <td>9.0</td>\n",
       "      <td>0</td>\n",
       "      <td>39</td>\n",
       "      <td>0.1</td>\n",
       "      <td>80</td>\n",
       "      <td>8</td>\n",
       "      <td>...</td>\n",
       "      <td>0</td>\n",
       "      <td>0</td>\n",
       "      <td>1</td>\n",
       "      <td>0</td>\n",
       "      <td>0</td>\n",
       "      <td>0</td>\n",
       "      <td>0</td>\n",
       "      <td>0</td>\n",
       "      <td>0</td>\n",
       "      <td>0</td>\n",
       "    </tr>\n",
       "    <tr>\n",
       "      <th>694</th>\n",
       "      <td>563</td>\n",
       "      <td>0</td>\n",
       "      <td>0.5</td>\n",
       "      <td>0</td>\n",
       "      <td>2.0</td>\n",
       "      <td>0</td>\n",
       "      <td>41</td>\n",
       "      <td>0.9</td>\n",
       "      <td>145</td>\n",
       "      <td>5</td>\n",
       "      <td>...</td>\n",
       "      <td>0</td>\n",
       "      <td>0</td>\n",
       "      <td>0</td>\n",
       "      <td>0</td>\n",
       "      <td>0</td>\n",
       "      <td>0</td>\n",
       "      <td>1</td>\n",
       "      <td>0</td>\n",
       "      <td>0</td>\n",
       "      <td>0</td>\n",
       "    </tr>\n",
       "  </tbody>\n",
       "</table>\n",
       "<p>500 rows × 29 columns</p>\n",
       "</div>"
      ],
      "text/plain": [
       "      BataryaGucu  Bluetooth  MikroislemciHizi  CiftHat  OnKameraMP  4G  \\\n",
       "1860         1433          0               2.3        1         2.0   0   \n",
       "353          1174          0               0.9        1         7.0   1   \n",
       "1333          999          1               2.6        0        11.0   0   \n",
       "905           972          0               0.5        0         5.0   1   \n",
       "1289         1811          0               2.5        1         4.0   0   \n",
       "...           ...        ...               ...      ...         ...  ..   \n",
       "765          1530          1               2.0        1        11.0   1   \n",
       "1356          668          1               2.3        1         2.0   0   \n",
       "408          1179          0               0.8        1         1.0   1   \n",
       "1614         1456          1               1.6        0         9.0   0   \n",
       "694           563          0               0.5        0         2.0   0   \n",
       "\n",
       "      DahiliBellek  Kalinlik  Agirlik  CekirdekSayisi  ...  Renk_Gri  \\\n",
       "1860             5       0.1      129               5  ...         0   \n",
       "353             30       1.0      147               4  ...         0   \n",
       "1333            56       1.0      165               4  ...         0   \n",
       "905             13       0.4      193               5  ...         0   \n",
       "1289             5       0.6       98               4  ...         0   \n",
       "...            ...       ...      ...             ...  ...       ...   \n",
       "765             42       0.8      177               6  ...         0   \n",
       "1356            48       0.3      114               1  ...         0   \n",
       "408              5       0.9      154               5  ...         0   \n",
       "1614            39       0.1       80               8  ...         0   \n",
       "694             41       0.9      145               5  ...         0   \n",
       "\n",
       "      Renk_Kahverengi  Renk_Kırmızı  Renk_Mor  Renk_Pembe  Renk_Sarı  \\\n",
       "1860                0             0         0           0          0   \n",
       "353                 0             0         0           0          0   \n",
       "1333                0             0         0           1          0   \n",
       "905                 0             0         0           0          0   \n",
       "1289                0             0         0           0          1   \n",
       "...               ...           ...       ...         ...        ...   \n",
       "765                 0             0         1           0          0   \n",
       "1356                0             0         0           0          0   \n",
       "408                 0             1         0           0          0   \n",
       "1614                0             1         0           0          0   \n",
       "694                 0             0         0           0          0   \n",
       "\n",
       "      Renk_Siyah  Renk_Turkuaz  Renk_Turuncu  Renk_Yeşil  \n",
       "1860           0             0             0           0  \n",
       "353            1             0             0           0  \n",
       "1333           0             0             0           0  \n",
       "905            0             1             0           0  \n",
       "1289           0             0             0           0  \n",
       "...          ...           ...           ...         ...  \n",
       "765            0             0             0           0  \n",
       "1356           0             1             0           0  \n",
       "408            0             0             0           0  \n",
       "1614           0             0             0           0  \n",
       "694            1             0             0           0  \n",
       "\n",
       "[500 rows x 29 columns]"
      ]
     },
     "execution_count": 40,
     "metadata": {},
     "output_type": "execute_result"
    }
   ],
   "source": [
    "x_test"
   ]
  },
  {
   "cell_type": "code",
   "execution_count": 41,
   "id": "f750c2f5",
   "metadata": {
    "execution": {
     "iopub.execute_input": "2022-06-02T13:28:15.031687Z",
     "iopub.status.busy": "2022-06-02T13:28:15.031046Z",
     "iopub.status.idle": "2022-06-02T13:28:15.037791Z",
     "shell.execute_reply": "2022-06-02T13:28:15.037159Z"
    },
    "papermill": {
     "duration": 0.046727,
     "end_time": "2022-06-02T13:28:15.039604",
     "exception": false,
     "start_time": "2022-06-02T13:28:14.992877",
     "status": "completed"
    },
    "tags": []
   },
   "outputs": [
    {
     "data": {
      "text/plain": [
       "1860        Ucuz\n",
       "353     Çok Ucuz\n",
       "1333      Normal\n",
       "905         Ucuz\n",
       "1289      Normal\n",
       "          ...   \n",
       "765     Çok Ucuz\n",
       "1356    Çok Ucuz\n",
       "408     Çok Ucuz\n",
       "1614      Pahalı\n",
       "694       Normal\n",
       "Name: FiyatAraligi, Length: 500, dtype: object"
      ]
     },
     "execution_count": 41,
     "metadata": {},
     "output_type": "execute_result"
    }
   ],
   "source": [
    "y_test"
   ]
  },
  {
   "cell_type": "code",
   "execution_count": 42,
   "id": "99be4c47",
   "metadata": {
    "execution": {
     "iopub.execute_input": "2022-06-02T13:28:15.117718Z",
     "iopub.status.busy": "2022-06-02T13:28:15.117091Z",
     "iopub.status.idle": "2022-06-02T13:28:15.144844Z",
     "shell.execute_reply": "2022-06-02T13:28:15.143950Z"
    },
    "papermill": {
     "duration": 0.069927,
     "end_time": "2022-06-02T13:28:15.147025",
     "exception": false,
     "start_time": "2022-06-02T13:28:15.077098",
     "status": "completed"
    },
    "tags": []
   },
   "outputs": [
    {
     "data": {
      "text/html": [
       "<div>\n",
       "<style scoped>\n",
       "    .dataframe tbody tr th:only-of-type {\n",
       "        vertical-align: middle;\n",
       "    }\n",
       "\n",
       "    .dataframe tbody tr th {\n",
       "        vertical-align: top;\n",
       "    }\n",
       "\n",
       "    .dataframe thead th {\n",
       "        text-align: right;\n",
       "    }\n",
       "</style>\n",
       "<table border=\"1\" class=\"dataframe\">\n",
       "  <thead>\n",
       "    <tr style=\"text-align: right;\">\n",
       "      <th></th>\n",
       "      <th>BataryaGucu</th>\n",
       "      <th>Bluetooth</th>\n",
       "      <th>MikroislemciHizi</th>\n",
       "      <th>CiftHat</th>\n",
       "      <th>OnKameraMP</th>\n",
       "      <th>4G</th>\n",
       "      <th>DahiliBellek</th>\n",
       "      <th>Kalinlik</th>\n",
       "      <th>Agirlik</th>\n",
       "      <th>CekirdekSayisi</th>\n",
       "      <th>...</th>\n",
       "      <th>Renk_Gri</th>\n",
       "      <th>Renk_Kahverengi</th>\n",
       "      <th>Renk_Kırmızı</th>\n",
       "      <th>Renk_Mor</th>\n",
       "      <th>Renk_Pembe</th>\n",
       "      <th>Renk_Sarı</th>\n",
       "      <th>Renk_Siyah</th>\n",
       "      <th>Renk_Turkuaz</th>\n",
       "      <th>Renk_Turuncu</th>\n",
       "      <th>Renk_Yeşil</th>\n",
       "    </tr>\n",
       "  </thead>\n",
       "  <tbody>\n",
       "    <tr>\n",
       "      <th>1738</th>\n",
       "      <td>867</td>\n",
       "      <td>1</td>\n",
       "      <td>1.4</td>\n",
       "      <td>0</td>\n",
       "      <td>0.0</td>\n",
       "      <td>0</td>\n",
       "      <td>4</td>\n",
       "      <td>0.7</td>\n",
       "      <td>135</td>\n",
       "      <td>6</td>\n",
       "      <td>...</td>\n",
       "      <td>0</td>\n",
       "      <td>0</td>\n",
       "      <td>0</td>\n",
       "      <td>0</td>\n",
       "      <td>0</td>\n",
       "      <td>0</td>\n",
       "      <td>1</td>\n",
       "      <td>0</td>\n",
       "      <td>0</td>\n",
       "      <td>0</td>\n",
       "    </tr>\n",
       "    <tr>\n",
       "      <th>548</th>\n",
       "      <td>1404</td>\n",
       "      <td>1</td>\n",
       "      <td>2.1</td>\n",
       "      <td>1</td>\n",
       "      <td>16.0</td>\n",
       "      <td>1</td>\n",
       "      <td>44</td>\n",
       "      <td>0.9</td>\n",
       "      <td>151</td>\n",
       "      <td>1</td>\n",
       "      <td>...</td>\n",
       "      <td>0</td>\n",
       "      <td>1</td>\n",
       "      <td>0</td>\n",
       "      <td>0</td>\n",
       "      <td>0</td>\n",
       "      <td>0</td>\n",
       "      <td>0</td>\n",
       "      <td>0</td>\n",
       "      <td>0</td>\n",
       "      <td>0</td>\n",
       "    </tr>\n",
       "    <tr>\n",
       "      <th>936</th>\n",
       "      <td>683</td>\n",
       "      <td>0</td>\n",
       "      <td>2.1</td>\n",
       "      <td>1</td>\n",
       "      <td>7.0</td>\n",
       "      <td>1</td>\n",
       "      <td>30</td>\n",
       "      <td>0.1</td>\n",
       "      <td>197</td>\n",
       "      <td>7</td>\n",
       "      <td>...</td>\n",
       "      <td>0</td>\n",
       "      <td>0</td>\n",
       "      <td>0</td>\n",
       "      <td>0</td>\n",
       "      <td>0</td>\n",
       "      <td>0</td>\n",
       "      <td>1</td>\n",
       "      <td>0</td>\n",
       "      <td>0</td>\n",
       "      <td>0</td>\n",
       "    </tr>\n",
       "    <tr>\n",
       "      <th>1389</th>\n",
       "      <td>1109</td>\n",
       "      <td>0</td>\n",
       "      <td>2.8</td>\n",
       "      <td>0</td>\n",
       "      <td>6.0</td>\n",
       "      <td>1</td>\n",
       "      <td>57</td>\n",
       "      <td>0.9</td>\n",
       "      <td>151</td>\n",
       "      <td>1</td>\n",
       "      <td>...</td>\n",
       "      <td>0</td>\n",
       "      <td>0</td>\n",
       "      <td>0</td>\n",
       "      <td>0</td>\n",
       "      <td>0</td>\n",
       "      <td>0</td>\n",
       "      <td>0</td>\n",
       "      <td>0</td>\n",
       "      <td>1</td>\n",
       "      <td>0</td>\n",
       "    </tr>\n",
       "    <tr>\n",
       "      <th>1607</th>\n",
       "      <td>1395</td>\n",
       "      <td>1</td>\n",
       "      <td>1.8</td>\n",
       "      <td>0</td>\n",
       "      <td>0.0</td>\n",
       "      <td>1</td>\n",
       "      <td>23</td>\n",
       "      <td>0.1</td>\n",
       "      <td>111</td>\n",
       "      <td>3</td>\n",
       "      <td>...</td>\n",
       "      <td>0</td>\n",
       "      <td>0</td>\n",
       "      <td>0</td>\n",
       "      <td>0</td>\n",
       "      <td>0</td>\n",
       "      <td>0</td>\n",
       "      <td>0</td>\n",
       "      <td>0</td>\n",
       "      <td>0</td>\n",
       "      <td>0</td>\n",
       "    </tr>\n",
       "    <tr>\n",
       "      <th>...</th>\n",
       "      <td>...</td>\n",
       "      <td>...</td>\n",
       "      <td>...</td>\n",
       "      <td>...</td>\n",
       "      <td>...</td>\n",
       "      <td>...</td>\n",
       "      <td>...</td>\n",
       "      <td>...</td>\n",
       "      <td>...</td>\n",
       "      <td>...</td>\n",
       "      <td>...</td>\n",
       "      <td>...</td>\n",
       "      <td>...</td>\n",
       "      <td>...</td>\n",
       "      <td>...</td>\n",
       "      <td>...</td>\n",
       "      <td>...</td>\n",
       "      <td>...</td>\n",
       "      <td>...</td>\n",
       "      <td>...</td>\n",
       "      <td>...</td>\n",
       "    </tr>\n",
       "    <tr>\n",
       "      <th>1130</th>\n",
       "      <td>605</td>\n",
       "      <td>1</td>\n",
       "      <td>1.0</td>\n",
       "      <td>1</td>\n",
       "      <td>8.0</td>\n",
       "      <td>0</td>\n",
       "      <td>9</td>\n",
       "      <td>0.1</td>\n",
       "      <td>142</td>\n",
       "      <td>3</td>\n",
       "      <td>...</td>\n",
       "      <td>0</td>\n",
       "      <td>0</td>\n",
       "      <td>1</td>\n",
       "      <td>0</td>\n",
       "      <td>0</td>\n",
       "      <td>0</td>\n",
       "      <td>0</td>\n",
       "      <td>0</td>\n",
       "      <td>0</td>\n",
       "      <td>0</td>\n",
       "    </tr>\n",
       "    <tr>\n",
       "      <th>1294</th>\n",
       "      <td>1149</td>\n",
       "      <td>0</td>\n",
       "      <td>2.2</td>\n",
       "      <td>1</td>\n",
       "      <td>4.0</td>\n",
       "      <td>1</td>\n",
       "      <td>30</td>\n",
       "      <td>0.2</td>\n",
       "      <td>106</td>\n",
       "      <td>6</td>\n",
       "      <td>...</td>\n",
       "      <td>0</td>\n",
       "      <td>1</td>\n",
       "      <td>0</td>\n",
       "      <td>0</td>\n",
       "      <td>0</td>\n",
       "      <td>0</td>\n",
       "      <td>0</td>\n",
       "      <td>0</td>\n",
       "      <td>0</td>\n",
       "      <td>0</td>\n",
       "    </tr>\n",
       "    <tr>\n",
       "      <th>860</th>\n",
       "      <td>534</td>\n",
       "      <td>1</td>\n",
       "      <td>0.5</td>\n",
       "      <td>0</td>\n",
       "      <td>4.0</td>\n",
       "      <td>1</td>\n",
       "      <td>2</td>\n",
       "      <td>0.2</td>\n",
       "      <td>85</td>\n",
       "      <td>5</td>\n",
       "      <td>...</td>\n",
       "      <td>1</td>\n",
       "      <td>0</td>\n",
       "      <td>0</td>\n",
       "      <td>0</td>\n",
       "      <td>0</td>\n",
       "      <td>0</td>\n",
       "      <td>0</td>\n",
       "      <td>0</td>\n",
       "      <td>0</td>\n",
       "      <td>0</td>\n",
       "    </tr>\n",
       "    <tr>\n",
       "      <th>1459</th>\n",
       "      <td>1720</td>\n",
       "      <td>1</td>\n",
       "      <td>1.6</td>\n",
       "      <td>1</td>\n",
       "      <td>18.0</td>\n",
       "      <td>0</td>\n",
       "      <td>2</td>\n",
       "      <td>0.8</td>\n",
       "      <td>188</td>\n",
       "      <td>5</td>\n",
       "      <td>...</td>\n",
       "      <td>0</td>\n",
       "      <td>0</td>\n",
       "      <td>0</td>\n",
       "      <td>0</td>\n",
       "      <td>0</td>\n",
       "      <td>0</td>\n",
       "      <td>0</td>\n",
       "      <td>1</td>\n",
       "      <td>0</td>\n",
       "      <td>0</td>\n",
       "    </tr>\n",
       "    <tr>\n",
       "      <th>1126</th>\n",
       "      <td>1731</td>\n",
       "      <td>0</td>\n",
       "      <td>2.3</td>\n",
       "      <td>0</td>\n",
       "      <td>18.0</td>\n",
       "      <td>1</td>\n",
       "      <td>60</td>\n",
       "      <td>0.5</td>\n",
       "      <td>171</td>\n",
       "      <td>4</td>\n",
       "      <td>...</td>\n",
       "      <td>0</td>\n",
       "      <td>0</td>\n",
       "      <td>0</td>\n",
       "      <td>0</td>\n",
       "      <td>0</td>\n",
       "      <td>0</td>\n",
       "      <td>0</td>\n",
       "      <td>1</td>\n",
       "      <td>0</td>\n",
       "      <td>0</td>\n",
       "    </tr>\n",
       "  </tbody>\n",
       "</table>\n",
       "<p>1500 rows × 29 columns</p>\n",
       "</div>"
      ],
      "text/plain": [
       "      BataryaGucu  Bluetooth  MikroislemciHizi  CiftHat  OnKameraMP  4G  \\\n",
       "1738          867          1               1.4        0         0.0   0   \n",
       "548          1404          1               2.1        1        16.0   1   \n",
       "936           683          0               2.1        1         7.0   1   \n",
       "1389         1109          0               2.8        0         6.0   1   \n",
       "1607         1395          1               1.8        0         0.0   1   \n",
       "...           ...        ...               ...      ...         ...  ..   \n",
       "1130          605          1               1.0        1         8.0   0   \n",
       "1294         1149          0               2.2        1         4.0   1   \n",
       "860           534          1               0.5        0         4.0   1   \n",
       "1459         1720          1               1.6        1        18.0   0   \n",
       "1126         1731          0               2.3        0        18.0   1   \n",
       "\n",
       "      DahiliBellek  Kalinlik  Agirlik  CekirdekSayisi  ...  Renk_Gri  \\\n",
       "1738             4       0.7      135               6  ...         0   \n",
       "548             44       0.9      151               1  ...         0   \n",
       "936             30       0.1      197               7  ...         0   \n",
       "1389            57       0.9      151               1  ...         0   \n",
       "1607            23       0.1      111               3  ...         0   \n",
       "...            ...       ...      ...             ...  ...       ...   \n",
       "1130             9       0.1      142               3  ...         0   \n",
       "1294            30       0.2      106               6  ...         0   \n",
       "860              2       0.2       85               5  ...         1   \n",
       "1459             2       0.8      188               5  ...         0   \n",
       "1126            60       0.5      171               4  ...         0   \n",
       "\n",
       "      Renk_Kahverengi  Renk_Kırmızı  Renk_Mor  Renk_Pembe  Renk_Sarı  \\\n",
       "1738                0             0         0           0          0   \n",
       "548                 1             0         0           0          0   \n",
       "936                 0             0         0           0          0   \n",
       "1389                0             0         0           0          0   \n",
       "1607                0             0         0           0          0   \n",
       "...               ...           ...       ...         ...        ...   \n",
       "1130                0             1         0           0          0   \n",
       "1294                1             0         0           0          0   \n",
       "860                 0             0         0           0          0   \n",
       "1459                0             0         0           0          0   \n",
       "1126                0             0         0           0          0   \n",
       "\n",
       "      Renk_Siyah  Renk_Turkuaz  Renk_Turuncu  Renk_Yeşil  \n",
       "1738           1             0             0           0  \n",
       "548            0             0             0           0  \n",
       "936            1             0             0           0  \n",
       "1389           0             0             1           0  \n",
       "1607           0             0             0           0  \n",
       "...          ...           ...           ...         ...  \n",
       "1130           0             0             0           0  \n",
       "1294           0             0             0           0  \n",
       "860            0             0             0           0  \n",
       "1459           0             1             0           0  \n",
       "1126           0             1             0           0  \n",
       "\n",
       "[1500 rows x 29 columns]"
      ]
     },
     "execution_count": 42,
     "metadata": {},
     "output_type": "execute_result"
    }
   ],
   "source": [
    "x_train"
   ]
  },
  {
   "cell_type": "code",
   "execution_count": 43,
   "id": "b8871475",
   "metadata": {
    "execution": {
     "iopub.execute_input": "2022-06-02T13:28:15.222296Z",
     "iopub.status.busy": "2022-06-02T13:28:15.221944Z",
     "iopub.status.idle": "2022-06-02T13:28:15.229097Z",
     "shell.execute_reply": "2022-06-02T13:28:15.228043Z"
    },
    "papermill": {
     "duration": 0.047188,
     "end_time": "2022-06-02T13:28:15.231054",
     "exception": false,
     "start_time": "2022-06-02T13:28:15.183866",
     "status": "completed"
    },
    "tags": []
   },
   "outputs": [
    {
     "data": {
      "text/plain": [
       "1738    Çok Ucuz\n",
       "548         Ucuz\n",
       "936         Ucuz\n",
       "1389      Normal\n",
       "1607      Normal\n",
       "          ...   \n",
       "1130    Çok Ucuz\n",
       "1294      Pahalı\n",
       "860       Normal\n",
       "1459      Normal\n",
       "1126        Ucuz\n",
       "Name: FiyatAraligi, Length: 1500, dtype: object"
      ]
     },
     "execution_count": 43,
     "metadata": {},
     "output_type": "execute_result"
    }
   ],
   "source": [
    "y_train"
   ]
  },
  {
   "cell_type": "markdown",
   "id": "fd1c8e5a",
   "metadata": {
    "papermill": {
     "duration": 0.037046,
     "end_time": "2022-06-02T13:28:15.305812",
     "exception": false,
     "start_time": "2022-06-02T13:28:15.268766",
     "status": "completed"
    },
    "tags": []
   },
   "source": [
    "KNN modelini parametre optimizasyonu yaparak kuralım ve eğitelim."
   ]
  },
  {
   "cell_type": "code",
   "execution_count": 44,
   "id": "42141d00",
   "metadata": {
    "execution": {
     "iopub.execute_input": "2022-06-02T13:28:15.382256Z",
     "iopub.status.busy": "2022-06-02T13:28:15.381856Z",
     "iopub.status.idle": "2022-06-02T13:28:15.386456Z",
     "shell.execute_reply": "2022-06-02T13:28:15.385735Z"
    },
    "papermill": {
     "duration": 0.045154,
     "end_time": "2022-06-02T13:28:15.388165",
     "exception": false,
     "start_time": "2022-06-02T13:28:15.343011",
     "status": "completed"
    },
    "tags": []
   },
   "outputs": [],
   "source": [
    "knn_params= {\"n_neighbors\": np.arange(2,15)}"
   ]
  },
  {
   "cell_type": "code",
   "execution_count": 45,
   "id": "d838bae8",
   "metadata": {
    "execution": {
     "iopub.execute_input": "2022-06-02T13:28:15.465081Z",
     "iopub.status.busy": "2022-06-02T13:28:15.464428Z",
     "iopub.status.idle": "2022-06-02T13:28:17.759666Z",
     "shell.execute_reply": "2022-06-02T13:28:17.758241Z"
    },
    "papermill": {
     "duration": 2.339116,
     "end_time": "2022-06-02T13:28:17.764755",
     "exception": false,
     "start_time": "2022-06-02T13:28:15.425639",
     "status": "completed"
    },
    "tags": []
   },
   "outputs": [
    {
     "data": {
      "text/plain": [
       "GridSearchCV(cv=3, estimator=KNeighborsClassifier(),\n",
       "             param_grid={'n_neighbors': array([ 2,  3,  4,  5,  6,  7,  8,  9, 10, 11, 12, 13, 14])})"
      ]
     },
     "execution_count": 45,
     "metadata": {},
     "output_type": "execute_result"
    }
   ],
   "source": [
    "knn = KNeighborsClassifier()\n",
    "knn_cv = GridSearchCV(knn, knn_params, cv=3)\n",
    "knn_cv.fit(x_train,y_train)"
   ]
  },
  {
   "cell_type": "code",
   "execution_count": 46,
   "id": "1e04ce16",
   "metadata": {
    "execution": {
     "iopub.execute_input": "2022-06-02T13:28:17.864766Z",
     "iopub.status.busy": "2022-06-02T13:28:17.864314Z",
     "iopub.status.idle": "2022-06-02T13:28:17.870131Z",
     "shell.execute_reply": "2022-06-02T13:28:17.869166Z"
    },
    "papermill": {
     "duration": 0.047524,
     "end_time": "2022-06-02T13:28:17.872783",
     "exception": false,
     "start_time": "2022-06-02T13:28:17.825259",
     "status": "completed"
    },
    "tags": []
   },
   "outputs": [
    {
     "name": "stdout",
     "output_type": "stream",
     "text": [
      "En iyi skor: 0.926\n",
      "En iyi parametreler: {'n_neighbors': 9}\n"
     ]
    }
   ],
   "source": [
    "print(\"En iyi skor: \" + str(knn_cv.best_score_))\n",
    "print(\"En iyi parametreler: \" + str(knn_cv.best_params_))"
   ]
  },
  {
   "cell_type": "code",
   "execution_count": 47,
   "id": "905613f8",
   "metadata": {
    "execution": {
     "iopub.execute_input": "2022-06-02T13:28:17.949610Z",
     "iopub.status.busy": "2022-06-02T13:28:17.949112Z",
     "iopub.status.idle": "2022-06-02T13:28:17.960069Z",
     "shell.execute_reply": "2022-06-02T13:28:17.958951Z"
    },
    "papermill": {
     "duration": 0.052074,
     "end_time": "2022-06-02T13:28:17.962403",
     "exception": false,
     "start_time": "2022-06-02T13:28:17.910329",
     "status": "completed"
    },
    "tags": []
   },
   "outputs": [],
   "source": [
    "knn = KNeighborsClassifier(9)\n",
    "knn_tuned = knn.fit(x_train,y_train) \n",
    "# Modeli eğitmek için bağımlı ve bağımsız değişkenlerden oluşturulan eğitim verilerini verelim."
   ]
  },
  {
   "cell_type": "markdown",
   "id": "8a50be7a",
   "metadata": {
    "papermill": {
     "duration": 0.036994,
     "end_time": "2022-06-02T13:28:18.037052",
     "exception": false,
     "start_time": "2022-06-02T13:28:18.000058",
     "status": "completed"
    },
    "tags": []
   },
   "source": [
    "x_test gözlemlerini tahmin ettirelim ve y_pred'e atayalım."
   ]
  },
  {
   "cell_type": "code",
   "execution_count": 48,
   "id": "1eb79063",
   "metadata": {
    "execution": {
     "iopub.execute_input": "2022-06-02T13:28:18.114456Z",
     "iopub.status.busy": "2022-06-02T13:28:18.113949Z",
     "iopub.status.idle": "2022-06-02T13:28:18.182713Z",
     "shell.execute_reply": "2022-06-02T13:28:18.181368Z"
    },
    "papermill": {
     "duration": 0.111856,
     "end_time": "2022-06-02T13:28:18.186191",
     "exception": false,
     "start_time": "2022-06-02T13:28:18.074335",
     "status": "completed"
    },
    "tags": []
   },
   "outputs": [],
   "source": [
    "y_pred=knn_tuned.predict(x_test)"
   ]
  },
  {
   "cell_type": "markdown",
   "id": "4dae9333",
   "metadata": {
    "papermill": {
     "duration": 0.037215,
     "end_time": "2022-06-02T13:28:18.288916",
     "exception": false,
     "start_time": "2022-06-02T13:28:18.251701",
     "status": "completed"
    },
    "tags": []
   },
   "source": [
    "Doğruluk skoru."
   ]
  },
  {
   "cell_type": "code",
   "execution_count": 49,
   "id": "5de5fe8d",
   "metadata": {
    "execution": {
     "iopub.execute_input": "2022-06-02T13:28:18.365166Z",
     "iopub.status.busy": "2022-06-02T13:28:18.364685Z",
     "iopub.status.idle": "2022-06-02T13:28:18.372742Z",
     "shell.execute_reply": "2022-06-02T13:28:18.372037Z"
    },
    "papermill": {
     "duration": 0.048375,
     "end_time": "2022-06-02T13:28:18.374441",
     "exception": false,
     "start_time": "2022-06-02T13:28:18.326066",
     "status": "completed"
    },
    "tags": []
   },
   "outputs": [
    {
     "data": {
      "text/plain": [
       "0.928"
      ]
     },
     "execution_count": 49,
     "metadata": {},
     "output_type": "execute_result"
    }
   ],
   "source": [
    "accuracy_score(y_test,y_pred)"
   ]
  },
  {
   "cell_type": "markdown",
   "id": "10c334d0",
   "metadata": {
    "papermill": {
     "duration": 0.037051,
     "end_time": "2022-06-02T13:28:18.448451",
     "exception": false,
     "start_time": "2022-06-02T13:28:18.411400",
     "status": "completed"
    },
    "tags": []
   },
   "source": [
    "Karmaşıklık matrisini görüntülüyelim."
   ]
  },
  {
   "cell_type": "code",
   "execution_count": 50,
   "id": "badd725d",
   "metadata": {
    "execution": {
     "iopub.execute_input": "2022-06-02T13:28:18.524294Z",
     "iopub.status.busy": "2022-06-02T13:28:18.523829Z",
     "iopub.status.idle": "2022-06-02T13:28:18.533698Z",
     "shell.execute_reply": "2022-06-02T13:28:18.531917Z"
    },
    "papermill": {
     "duration": 0.051623,
     "end_time": "2022-06-02T13:28:18.536947",
     "exception": false,
     "start_time": "2022-06-02T13:28:18.485324",
     "status": "completed"
    },
    "tags": []
   },
   "outputs": [
    {
     "name": "stdout",
     "output_type": "stream",
     "text": [
      "[[115   8   8   0]\n",
      " [  4 108   1   0]\n",
      " [  4   0 116   7]\n",
      " [  0   0   4 125]]\n"
     ]
    }
   ],
   "source": [
    "karmasiklik_matrisi=confusion_matrix(y_test,y_pred)\n",
    "print(karmasiklik_matrisi)"
   ]
  },
  {
   "cell_type": "markdown",
   "id": "14c962bd",
   "metadata": {
    "papermill": {
     "duration": 0.037308,
     "end_time": "2022-06-02T13:28:18.612614",
     "exception": false,
     "start_time": "2022-06-02T13:28:18.575306",
     "status": "completed"
    },
    "tags": []
   },
   "source": [
    "Modelin k değerini nasıl seçtiğini görüntülemek için 13 adet k değeri için doğruluk skorlarını görüntülüyelim."
   ]
  },
  {
   "cell_type": "code",
   "execution_count": 51,
   "id": "831d1031",
   "metadata": {
    "execution": {
     "iopub.execute_input": "2022-06-02T13:28:18.689629Z",
     "iopub.status.busy": "2022-06-02T13:28:18.688883Z",
     "iopub.status.idle": "2022-06-02T13:28:19.756771Z",
     "shell.execute_reply": "2022-06-02T13:28:19.755755Z"
    },
    "papermill": {
     "duration": 1.10929,
     "end_time": "2022-06-02T13:28:19.759147",
     "exception": false,
     "start_time": "2022-06-02T13:28:18.649857",
     "status": "completed"
    },
    "tags": []
   },
   "outputs": [
    {
     "data": {
      "image/png": "[encoded data removed]",
      "text/plain": [
       "<Figure size 432x288 with 1 Axes>"
      ]
     },
     "metadata": {
      "needs_background": "light"
     },
     "output_type": "display_data"
    }
   ],
   "source": [
    "score_list = []\n",
    "for each in range (2,15):\n",
    "    knn2 = KNeighborsClassifier(n_neighbors=each)\n",
    "    knn2.fit(x_train,y_train)\n",
    "    score_list.append(knn2.score(x_test,y_test))\n",
    "    \n",
    "plt.plot(range(2,15),score_list)\n",
    "plt.xlabel(\"k degerleri\")\n",
    "plt.ylabel(\"dogruluk skoru\")\n",
    "plt.show()"
   ]
  },
  {
   "cell_type": "markdown",
   "id": "981e4369",
   "metadata": {
    "papermill": {
     "duration": 0.038109,
     "end_time": "2022-06-02T13:28:19.836716",
     "exception": false,
     "start_time": "2022-06-02T13:28:19.798607",
     "status": "completed"
    },
    "tags": []
   },
   "source": [
    "Sınıflandırma raporu."
   ]
  },
  {
   "cell_type": "code",
   "execution_count": 52,
   "id": "c1ee1806",
   "metadata": {
    "execution": {
     "iopub.execute_input": "2022-06-02T13:28:19.915323Z",
     "iopub.status.busy": "2022-06-02T13:28:19.914913Z",
     "iopub.status.idle": "2022-06-02T13:28:19.940718Z",
     "shell.execute_reply": "2022-06-02T13:28:19.939711Z"
    },
    "papermill": {
     "duration": 0.068799,
     "end_time": "2022-06-02T13:28:19.943906",
     "exception": false,
     "start_time": "2022-06-02T13:28:19.875107",
     "status": "completed"
    },
    "tags": []
   },
   "outputs": [
    {
     "name": "stdout",
     "output_type": "stream",
     "text": [
      "              precision    recall  f1-score   support\n",
      "\n",
      "      Normal       0.93      0.88      0.91       131\n",
      "      Pahalı       0.93      0.96      0.94       113\n",
      "        Ucuz       0.90      0.91      0.91       127\n",
      "    Çok Ucuz       0.95      0.97      0.96       129\n",
      "\n",
      "    accuracy                           0.93       500\n",
      "   macro avg       0.93      0.93      0.93       500\n",
      "weighted avg       0.93      0.93      0.93       500\n",
      "\n"
     ]
    }
   ],
   "source": [
    "print(classification_report(y_test,y_pred))"
   ]
  },
  {
   "cell_type": "markdown",
   "id": "a125e72e",
   "metadata": {
    "papermill": {
     "duration": 0.038963,
     "end_time": "2022-06-02T13:28:20.023442",
     "exception": false,
     "start_time": "2022-06-02T13:28:19.984479",
     "status": "completed"
    },
    "tags": []
   },
   "source": [
    "**Kesinlik (Precision) Positive olarak tahminlediğimiz değerlerin gerçekten kaç adedinin Positive olduğunu göstermektedir.Kesinlik değerinin yüksek olması bizim için model seçiminde önemli bir kriterdir.**\n",
    "**Duyarlılık (Recall) Positive olarak tahmin etmemiz gereken işlemlerin ne kadarını Positive olarak tahmin ettiğimizi gösteren bir metriktir.Mümkün olduğunca yüksek olması gereklidir.**\n",
    "**F1 skoru değeri bize Kesinlik (Precision) ve Duyarlılık (Recall) değerlerinin harmonik ortalamasını göstermektedir.**\n",
    "**Accuracy bir modelin başarısını ölçmek için çok kullanılan ancak tek başına yeterli olmadığı görülen bir metriktir.Accuracy değeri modelde doğru tahmin ettiğimiz alanların toplam veri kümesine oranı ile hesaplanmaktadır.**"
   ]
  },
  {
   "cell_type": "markdown",
   "id": "2a3297d3",
   "metadata": {
    "papermill": {
     "duration": 0.039554,
     "end_time": "2022-06-02T13:28:20.102252",
     "exception": false,
     "start_time": "2022-06-02T13:28:20.062698",
     "status": "completed"
    },
    "tags": []
   },
   "source": [
    "GaussianNB modeli ve eğitimi ."
   ]
  },
  {
   "cell_type": "code",
   "execution_count": 53,
   "id": "1774a57f",
   "metadata": {
    "execution": {
     "iopub.execute_input": "2022-06-02T13:28:20.181645Z",
     "iopub.status.busy": "2022-06-02T13:28:20.180642Z",
     "iopub.status.idle": "2022-06-02T13:28:20.191852Z",
     "shell.execute_reply": "2022-06-02T13:28:20.190818Z"
    },
    "papermill": {
     "duration": 0.053519,
     "end_time": "2022-06-02T13:28:20.194487",
     "exception": false,
     "start_time": "2022-06-02T13:28:20.140968",
     "status": "completed"
    },
    "tags": []
   },
   "outputs": [],
   "source": [
    "nb = GaussianNB()\n",
    "nb_model = nb.fit(x_train,y_train)"
   ]
  },
  {
   "cell_type": "markdown",
   "id": "24fe6133",
   "metadata": {
    "papermill": {
     "duration": 0.03902,
     "end_time": "2022-06-02T13:28:20.271845",
     "exception": false,
     "start_time": "2022-06-02T13:28:20.232825",
     "status": "completed"
    },
    "tags": []
   },
   "source": [
    "Modelin alabileceği parametreleri görüntüleyelim."
   ]
  },
  {
   "cell_type": "code",
   "execution_count": 54,
   "id": "b4d2690c",
   "metadata": {
    "execution": {
     "iopub.execute_input": "2022-06-02T13:28:20.350093Z",
     "iopub.status.busy": "2022-06-02T13:28:20.349697Z",
     "iopub.status.idle": "2022-06-02T13:28:20.355064Z",
     "shell.execute_reply": "2022-06-02T13:28:20.354363Z"
    },
    "papermill": {
     "duration": 0.047294,
     "end_time": "2022-06-02T13:28:20.357155",
     "exception": false,
     "start_time": "2022-06-02T13:28:20.309861",
     "status": "completed"
    },
    "tags": []
   },
   "outputs": [
    {
     "data": {
      "text/plain": [
       "GaussianNB()"
      ]
     },
     "execution_count": 54,
     "metadata": {},
     "output_type": "execute_result"
    }
   ],
   "source": [
    "nb_model"
   ]
  },
  {
   "cell_type": "markdown",
   "id": "a5a06bd0",
   "metadata": {
    "papermill": {
     "duration": 0.038724,
     "end_time": "2022-06-02T13:28:20.434517",
     "exception": false,
     "start_time": "2022-06-02T13:28:20.395793",
     "status": "completed"
    },
    "tags": []
   },
   "source": [
    "Model üzerinde yazılabilecek tüm komutlar."
   ]
  },
  {
   "cell_type": "code",
   "execution_count": 55,
   "id": "b5e5dc96",
   "metadata": {
    "execution": {
     "iopub.execute_input": "2022-06-02T13:28:20.514604Z",
     "iopub.status.busy": "2022-06-02T13:28:20.513691Z",
     "iopub.status.idle": "2022-06-02T13:28:20.521154Z",
     "shell.execute_reply": "2022-06-02T13:28:20.520242Z"
    },
    "papermill": {
     "duration": 0.049295,
     "end_time": "2022-06-02T13:28:20.523152",
     "exception": false,
     "start_time": "2022-06-02T13:28:20.473857",
     "status": "completed"
    },
    "tags": []
   },
   "outputs": [
    {
     "data": {
      "text/plain": [
       "['__abstractmethods__',\n",
       " '__class__',\n",
       " '__delattr__',\n",
       " '__dict__',\n",
       " '__dir__',\n",
       " '__doc__',\n",
       " '__eq__',\n",
       " '__format__',\n",
       " '__ge__',\n",
       " '__getattribute__',\n",
       " '__getstate__',\n",
       " '__gt__',\n",
       " '__hash__',\n",
       " '__init__',\n",
       " '__init_subclass__',\n",
       " '__le__',\n",
       " '__lt__',\n",
       " '__module__',\n",
       " '__ne__',\n",
       " '__new__',\n",
       " '__reduce__',\n",
       " '__reduce_ex__',\n",
       " '__repr__',\n",
       " '__setattr__',\n",
       " '__setstate__',\n",
       " '__sizeof__',\n",
       " '__str__',\n",
       " '__subclasshook__',\n",
       " '__weakref__',\n",
       " '_abc_impl',\n",
       " '_check_X',\n",
       " '_check_feature_names',\n",
       " '_check_n_features',\n",
       " '_estimator_type',\n",
       " '_get_param_names',\n",
       " '_get_tags',\n",
       " '_joint_log_likelihood',\n",
       " '_more_tags',\n",
       " '_partial_fit',\n",
       " '_repr_html_',\n",
       " '_repr_html_inner',\n",
       " '_repr_mimebundle_',\n",
       " '_update_mean_variance',\n",
       " '_validate_data',\n",
       " 'class_count_',\n",
       " 'class_prior_',\n",
       " 'classes_',\n",
       " 'epsilon_',\n",
       " 'feature_names_in_',\n",
       " 'fit',\n",
       " 'get_params',\n",
       " 'n_features_in_',\n",
       " 'partial_fit',\n",
       " 'predict',\n",
       " 'predict_log_proba',\n",
       " 'predict_proba',\n",
       " 'priors',\n",
       " 'score',\n",
       " 'set_params',\n",
       " 'sigma_',\n",
       " 'theta_',\n",
       " 'var_',\n",
       " 'var_smoothing']"
      ]
     },
     "execution_count": 55,
     "metadata": {},
     "output_type": "execute_result"
    }
   ],
   "source": [
    "dir(nb_model)"
   ]
  },
  {
   "cell_type": "code",
   "execution_count": 56,
   "id": "ac910ffb",
   "metadata": {
    "execution": {
     "iopub.execute_input": "2022-06-02T13:28:20.603229Z",
     "iopub.status.busy": "2022-06-02T13:28:20.602659Z",
     "iopub.status.idle": "2022-06-02T13:28:20.609109Z",
     "shell.execute_reply": "2022-06-02T13:28:20.608406Z"
    },
    "papermill": {
     "duration": 0.049382,
     "end_time": "2022-06-02T13:28:20.611077",
     "exception": false,
     "start_time": "2022-06-02T13:28:20.561695",
     "status": "completed"
    },
    "tags": []
   },
   "outputs": [],
   "source": [
    "y_pred = nb_model.predict(x_test)"
   ]
  },
  {
   "cell_type": "code",
   "execution_count": 57,
   "id": "be725c06",
   "metadata": {
    "execution": {
     "iopub.execute_input": "2022-06-02T13:28:20.690248Z",
     "iopub.status.busy": "2022-06-02T13:28:20.689674Z",
     "iopub.status.idle": "2022-06-02T13:28:20.696994Z",
     "shell.execute_reply": "2022-06-02T13:28:20.696306Z"
    },
    "papermill": {
     "duration": 0.049158,
     "end_time": "2022-06-02T13:28:20.698857",
     "exception": false,
     "start_time": "2022-06-02T13:28:20.649699",
     "status": "completed"
    },
    "tags": []
   },
   "outputs": [
    {
     "data": {
      "text/plain": [
       "array(['Normal', 'Çok Ucuz', 'Pahalı', 'Ucuz', 'Normal', 'Normal',\n",
       "       'Pahalı', 'Ucuz', 'Normal', 'Ucuz', 'Ucuz', 'Normal', 'Normal',\n",
       "       'Çok Ucuz', 'Çok Ucuz', 'Çok Ucuz', 'Çok Ucuz', 'Ucuz', 'Çok Ucuz',\n",
       "       'Ucuz', 'Ucuz', 'Ucuz', 'Ucuz', 'Çok Ucuz', 'Çok Ucuz', 'Normal',\n",
       "       'Çok Ucuz', 'Normal', 'Çok Ucuz', 'Çok Ucuz', 'Ucuz', 'Çok Ucuz',\n",
       "       'Normal', 'Normal', 'Ucuz', 'Normal', 'Pahalı', 'Pahalı',\n",
       "       'Çok Ucuz', 'Çok Ucuz', 'Ucuz', 'Normal', 'Ucuz', 'Pahalı',\n",
       "       'Çok Ucuz', 'Çok Ucuz', 'Çok Ucuz', 'Çok Ucuz', 'Çok Ucuz',\n",
       "       'Pahalı', 'Pahalı', 'Pahalı', 'Pahalı', 'Normal', 'Çok Ucuz',\n",
       "       'Çok Ucuz', 'Çok Ucuz', 'Ucuz', 'Normal', 'Pahalı', 'Çok Ucuz',\n",
       "       'Ucuz', 'Normal', 'Ucuz', 'Pahalı', 'Çok Ucuz', 'Ucuz', 'Çok Ucuz',\n",
       "       'Ucuz', 'Normal', 'Ucuz', 'Pahalı', 'Çok Ucuz', 'Ucuz', 'Normal',\n",
       "       'Normal', 'Pahalı', 'Pahalı', 'Ucuz', 'Ucuz', 'Çok Ucuz',\n",
       "       'Çok Ucuz', 'Pahalı', 'Normal', 'Ucuz', 'Pahalı', 'Ucuz',\n",
       "       'Çok Ucuz', 'Çok Ucuz', 'Ucuz', 'Ucuz', 'Ucuz', 'Çok Ucuz', 'Ucuz',\n",
       "       'Pahalı', 'Normal', 'Ucuz', 'Normal', 'Ucuz', 'Normal', 'Çok Ucuz',\n",
       "       'Çok Ucuz', 'Ucuz', 'Normal', 'Normal', 'Ucuz', 'Çok Ucuz',\n",
       "       'Pahalı', 'Çok Ucuz', 'Pahalı', 'Ucuz', 'Çok Ucuz', 'Pahalı',\n",
       "       'Ucuz', 'Ucuz', 'Çok Ucuz', 'Pahalı', 'Normal', 'Çok Ucuz',\n",
       "       'Çok Ucuz', 'Pahalı', 'Pahalı', 'Pahalı', 'Ucuz', 'Ucuz', 'Pahalı',\n",
       "       'Pahalı', 'Ucuz', 'Ucuz', 'Normal', 'Normal', 'Normal', 'Çok Ucuz',\n",
       "       'Pahalı', 'Çok Ucuz', 'Ucuz', 'Normal', 'Ucuz', 'Pahalı',\n",
       "       'Çok Ucuz', 'Ucuz', 'Normal', 'Normal', 'Ucuz', 'Çok Ucuz', 'Ucuz',\n",
       "       'Pahalı', 'Çok Ucuz', 'Pahalı', 'Çok Ucuz', 'Pahalı', 'Çok Ucuz',\n",
       "       'Ucuz', 'Pahalı', 'Pahalı', 'Normal', 'Pahalı', 'Çok Ucuz',\n",
       "       'Normal', 'Çok Ucuz', 'Pahalı', 'Normal', 'Çok Ucuz', 'Çok Ucuz',\n",
       "       'Normal', 'Pahalı', 'Normal', 'Pahalı', 'Normal', 'Pahalı',\n",
       "       'Normal', 'Ucuz', 'Çok Ucuz', 'Normal', 'Pahalı', 'Ucuz',\n",
       "       'Çok Ucuz', 'Normal', 'Normal', 'Ucuz', 'Pahalı', 'Pahalı',\n",
       "       'Çok Ucuz', 'Çok Ucuz', 'Normal', 'Ucuz', 'Çok Ucuz', 'Normal',\n",
       "       'Normal', 'Pahalı', 'Çok Ucuz', 'Ucuz', 'Pahalı', 'Ucuz',\n",
       "       'Çok Ucuz', 'Normal', 'Çok Ucuz', 'Ucuz', 'Çok Ucuz', 'Ucuz',\n",
       "       'Pahalı', 'Pahalı', 'Normal', 'Çok Ucuz', 'Çok Ucuz', 'Ucuz',\n",
       "       'Çok Ucuz', 'Normal', 'Pahalı', 'Ucuz', 'Pahalı', 'Ucuz', 'Normal',\n",
       "       'Çok Ucuz', 'Çok Ucuz', 'Pahalı', 'Normal', 'Normal', 'Çok Ucuz',\n",
       "       'Ucuz', 'Pahalı', 'Pahalı', 'Pahalı', 'Normal', 'Normal', 'Pahalı',\n",
       "       'Çok Ucuz', 'Çok Ucuz', 'Normal', 'Ucuz', 'Çok Ucuz', 'Ucuz',\n",
       "       'Pahalı', 'Normal', 'Pahalı', 'Ucuz', 'Ucuz', 'Ucuz', 'Ucuz',\n",
       "       'Çok Ucuz', 'Ucuz', 'Pahalı', 'Ucuz', 'Pahalı', 'Normal',\n",
       "       'Çok Ucuz', 'Normal', 'Normal', 'Ucuz', 'Ucuz', 'Normal', 'Ucuz',\n",
       "       'Normal', 'Normal', 'Pahalı', 'Pahalı', 'Çok Ucuz', 'Pahalı',\n",
       "       'Çok Ucuz', 'Pahalı', 'Ucuz', 'Pahalı', 'Çok Ucuz', 'Pahalı',\n",
       "       'Ucuz', 'Normal', 'Çok Ucuz', 'Ucuz', 'Ucuz', 'Ucuz', 'Normal',\n",
       "       'Normal', 'Normal', 'Çok Ucuz', 'Ucuz', 'Ucuz', 'Pahalı', 'Ucuz',\n",
       "       'Pahalı', 'Pahalı', 'Pahalı', 'Çok Ucuz', 'Pahalı', 'Çok Ucuz',\n",
       "       'Ucuz', 'Ucuz', 'Pahalı', 'Çok Ucuz', 'Ucuz', 'Çok Ucuz', 'Normal',\n",
       "       'Ucuz', 'Ucuz', 'Çok Ucuz', 'Çok Ucuz', 'Çok Ucuz', 'Çok Ucuz',\n",
       "       'Ucuz', 'Pahalı', 'Ucuz', 'Çok Ucuz', 'Pahalı', 'Normal', 'Pahalı',\n",
       "       'Ucuz', 'Ucuz', 'Normal', 'Pahalı', 'Çok Ucuz', 'Çok Ucuz', 'Ucuz',\n",
       "       'Pahalı', 'Ucuz', 'Ucuz', 'Normal', 'Çok Ucuz', 'Ucuz', 'Çok Ucuz',\n",
       "       'Çok Ucuz', 'Pahalı', 'Pahalı', 'Normal', 'Pahalı', 'Pahalı',\n",
       "       'Normal', 'Pahalı', 'Normal', 'Çok Ucuz', 'Çok Ucuz', 'Normal',\n",
       "       'Çok Ucuz', 'Çok Ucuz', 'Ucuz', 'Çok Ucuz', 'Normal', 'Normal',\n",
       "       'Normal', 'Çok Ucuz', 'Normal', 'Ucuz', 'Normal', 'Ucuz', 'Pahalı',\n",
       "       'Normal', 'Pahalı', 'Pahalı', 'Ucuz', 'Ucuz', 'Çok Ucuz', 'Ucuz',\n",
       "       'Normal', 'Ucuz', 'Çok Ucuz', 'Normal', 'Normal', 'Çok Ucuz',\n",
       "       'Çok Ucuz', 'Ucuz', 'Ucuz', 'Ucuz', 'Pahalı', 'Pahalı', 'Normal',\n",
       "       'Ucuz', 'Ucuz', 'Normal', 'Çok Ucuz', 'Ucuz', 'Pahalı', 'Pahalı',\n",
       "       'Ucuz', 'Çok Ucuz', 'Ucuz', 'Ucuz', 'Normal', 'Normal', 'Normal',\n",
       "       'Ucuz', 'Pahalı', 'Normal', 'Normal', 'Pahalı', 'Çok Ucuz',\n",
       "       'Çok Ucuz', 'Normal', 'Normal', 'Çok Ucuz', 'Pahalı', 'Ucuz',\n",
       "       'Ucuz', 'Normal', 'Pahalı', 'Normal', 'Ucuz', 'Ucuz', 'Normal',\n",
       "       'Normal', 'Çok Ucuz', 'Ucuz', 'Normal', 'Çok Ucuz', 'Çok Ucuz',\n",
       "       'Ucuz', 'Normal', 'Pahalı', 'Ucuz', 'Pahalı', 'Ucuz', 'Ucuz',\n",
       "       'Çok Ucuz', 'Normal', 'Pahalı', 'Çok Ucuz', 'Pahalı', 'Pahalı',\n",
       "       'Çok Ucuz', 'Ucuz', 'Ucuz', 'Normal', 'Çok Ucuz', 'Normal',\n",
       "       'Normal', 'Pahalı', 'Normal', 'Ucuz', 'Ucuz', 'Pahalı', 'Ucuz',\n",
       "       'Çok Ucuz', 'Ucuz', 'Normal', 'Çok Ucuz', 'Ucuz', 'Çok Ucuz',\n",
       "       'Normal', 'Normal', 'Normal', 'Ucuz', 'Ucuz', 'Ucuz', 'Çok Ucuz',\n",
       "       'Normal', 'Pahalı', 'Normal', 'Ucuz', 'Pahalı', 'Normal', 'Ucuz',\n",
       "       'Çok Ucuz', 'Normal', 'Çok Ucuz', 'Normal', 'Ucuz', 'Normal',\n",
       "       'Pahalı', 'Ucuz', 'Pahalı', 'Ucuz', 'Pahalı', 'Ucuz', 'Ucuz',\n",
       "       'Pahalı', 'Pahalı', 'Ucuz', 'Pahalı', 'Çok Ucuz', 'Normal',\n",
       "       'Normal', 'Ucuz', 'Ucuz', 'Ucuz', 'Normal', 'Normal', 'Pahalı',\n",
       "       'Normal', 'Pahalı', 'Çok Ucuz', 'Ucuz', 'Pahalı', 'Pahalı',\n",
       "       'Pahalı', 'Ucuz', 'Normal', 'Ucuz', 'Normal', 'Pahalı', 'Normal',\n",
       "       'Normal', 'Normal', 'Normal', 'Ucuz', 'Çok Ucuz', 'Normal', 'Ucuz',\n",
       "       'Çok Ucuz', 'Ucuz', 'Çok Ucuz', 'Çok Ucuz', 'Pahalı', 'Normal'],\n",
       "      dtype='<U8')"
      ]
     },
     "execution_count": 57,
     "metadata": {},
     "output_type": "execute_result"
    }
   ],
   "source": [
    "y_pred "
   ]
  },
  {
   "cell_type": "code",
   "execution_count": 58,
   "id": "2a4b17a4",
   "metadata": {
    "execution": {
     "iopub.execute_input": "2022-06-02T13:28:20.778656Z",
     "iopub.status.busy": "2022-06-02T13:28:20.778060Z",
     "iopub.status.idle": "2022-06-02T13:28:20.784465Z",
     "shell.execute_reply": "2022-06-02T13:28:20.783861Z"
    },
    "papermill": {
     "duration": 0.048519,
     "end_time": "2022-06-02T13:28:20.786235",
     "exception": false,
     "start_time": "2022-06-02T13:28:20.737716",
     "status": "completed"
    },
    "tags": []
   },
   "outputs": [
    {
     "data": {
      "text/plain": [
       "1860        Ucuz\n",
       "353     Çok Ucuz\n",
       "1333      Normal\n",
       "905         Ucuz\n",
       "1289      Normal\n",
       "          ...   \n",
       "765     Çok Ucuz\n",
       "1356    Çok Ucuz\n",
       "408     Çok Ucuz\n",
       "1614      Pahalı\n",
       "694       Normal\n",
       "Name: FiyatAraligi, Length: 500, dtype: object"
      ]
     },
     "execution_count": 58,
     "metadata": {},
     "output_type": "execute_result"
    }
   ],
   "source": [
    "y_test "
   ]
  },
  {
   "cell_type": "markdown",
   "id": "08f38e6a",
   "metadata": {
    "papermill": {
     "duration": 0.038971,
     "end_time": "2022-06-02T13:28:20.864865",
     "exception": false,
     "start_time": "2022-06-02T13:28:20.825894",
     "status": "completed"
    },
    "tags": []
   },
   "source": [
    "Doğruluk skoru."
   ]
  },
  {
   "cell_type": "code",
   "execution_count": 59,
   "id": "77bd0680",
   "metadata": {
    "execution": {
     "iopub.execute_input": "2022-06-02T13:28:20.946906Z",
     "iopub.status.busy": "2022-06-02T13:28:20.946233Z",
     "iopub.status.idle": "2022-06-02T13:28:20.953592Z",
     "shell.execute_reply": "2022-06-02T13:28:20.952603Z"
    },
    "papermill": {
     "duration": 0.051931,
     "end_time": "2022-06-02T13:28:20.956034",
     "exception": false,
     "start_time": "2022-06-02T13:28:20.904103",
     "status": "completed"
    },
    "tags": []
   },
   "outputs": [
    {
     "data": {
      "text/plain": [
       "0.764"
      ]
     },
     "execution_count": 59,
     "metadata": {},
     "output_type": "execute_result"
    }
   ],
   "source": [
    "accuracy_score(y_test,y_pred) "
   ]
  },
  {
   "cell_type": "markdown",
   "id": "e76bc54d",
   "metadata": {
    "papermill": {
     "duration": 0.039793,
     "end_time": "2022-06-02T13:28:21.036179",
     "exception": false,
     "start_time": "2022-06-02T13:28:20.996386",
     "status": "completed"
    },
    "tags": []
   },
   "source": [
    "Karmaşıklık matrisini çizdirelim."
   ]
  },
  {
   "cell_type": "code",
   "execution_count": 60,
   "id": "7e00431a",
   "metadata": {
    "execution": {
     "iopub.execute_input": "2022-06-02T13:28:21.116915Z",
     "iopub.status.busy": "2022-06-02T13:28:21.116517Z",
     "iopub.status.idle": "2022-06-02T13:28:21.124007Z",
     "shell.execute_reply": "2022-06-02T13:28:21.123271Z"
    },
    "papermill": {
     "duration": 0.050392,
     "end_time": "2022-06-02T13:28:21.126095",
     "exception": false,
     "start_time": "2022-06-02T13:28:21.075703",
     "status": "completed"
    },
    "tags": []
   },
   "outputs": [
    {
     "name": "stdout",
     "output_type": "stream",
     "text": [
      "[[ 78  22  31   0]\n",
      " [ 23  89   1   0]\n",
      " [ 23   0  98   6]\n",
      " [  0   0  12 117]]\n"
     ]
    }
   ],
   "source": [
    "karmasiklik_matrisi=confusion_matrix(y_test,y_pred)\n",
    "print(karmasiklik_matrisi)"
   ]
  },
  {
   "cell_type": "markdown",
   "id": "48116b5a",
   "metadata": {
    "papermill": {
     "duration": 0.039367,
     "end_time": "2022-06-02T13:28:21.208995",
     "exception": false,
     "start_time": "2022-06-02T13:28:21.169628",
     "status": "completed"
    },
    "tags": []
   },
   "source": [
    "Sınıflandırma raporu."
   ]
  },
  {
   "cell_type": "code",
   "execution_count": 61,
   "id": "d0161f4d",
   "metadata": {
    "execution": {
     "iopub.execute_input": "2022-06-02T13:28:21.290752Z",
     "iopub.status.busy": "2022-06-02T13:28:21.290001Z",
     "iopub.status.idle": "2022-06-02T13:28:21.310464Z",
     "shell.execute_reply": "2022-06-02T13:28:21.309549Z"
    },
    "papermill": {
     "duration": 0.06336,
     "end_time": "2022-06-02T13:28:21.312707",
     "exception": false,
     "start_time": "2022-06-02T13:28:21.249347",
     "status": "completed"
    },
    "tags": []
   },
   "outputs": [
    {
     "name": "stdout",
     "output_type": "stream",
     "text": [
      "              precision    recall  f1-score   support\n",
      "\n",
      "      Normal       0.63      0.60      0.61       131\n",
      "      Pahalı       0.80      0.79      0.79       113\n",
      "        Ucuz       0.69      0.77      0.73       127\n",
      "    Çok Ucuz       0.95      0.91      0.93       129\n",
      "\n",
      "    accuracy                           0.76       500\n",
      "   macro avg       0.77      0.77      0.77       500\n",
      "weighted avg       0.77      0.76      0.76       500\n",
      "\n"
     ]
    }
   ],
   "source": [
    "print(classification_report(y_test,y_pred))"
   ]
  },
  {
   "cell_type": "markdown",
   "id": "83a378cb",
   "metadata": {
    "papermill": {
     "duration": 0.038203,
     "end_time": "2022-06-02T13:28:21.393315",
     "exception": false,
     "start_time": "2022-06-02T13:28:21.355112",
     "status": "completed"
    },
    "tags": []
   },
   "source": [
    "Kesinlik skorunu görüntüleyelim."
   ]
  },
  {
   "cell_type": "code",
   "execution_count": 62,
   "id": "a710279e",
   "metadata": {
    "execution": {
     "iopub.execute_input": "2022-06-02T13:28:21.472077Z",
     "iopub.status.busy": "2022-06-02T13:28:21.471360Z",
     "iopub.status.idle": "2022-06-02T13:28:21.482099Z",
     "shell.execute_reply": "2022-06-02T13:28:21.481055Z"
    },
    "papermill": {
     "duration": 0.053105,
     "end_time": "2022-06-02T13:28:21.484738",
     "exception": false,
     "start_time": "2022-06-02T13:28:21.431633",
     "status": "completed"
    },
    "tags": []
   },
   "outputs": [
    {
     "data": {
      "text/plain": [
       "0.7667240676143392"
      ]
     },
     "execution_count": 62,
     "metadata": {},
     "output_type": "execute_result"
    }
   ],
   "source": [
    "PrecisionScore = precision_score(y_test,y_pred,average='weighted')\n",
    "PrecisionScore"
   ]
  },
  {
   "cell_type": "markdown",
   "id": "e72fbe93",
   "metadata": {
    "papermill": {
     "duration": 0.040167,
     "end_time": "2022-06-02T13:28:21.566353",
     "exception": false,
     "start_time": "2022-06-02T13:28:21.526186",
     "status": "completed"
    },
    "tags": []
   },
   "source": [
    "Yakalama(Recall) ve Hassaslık(Sensitivity) skoru."
   ]
  },
  {
   "cell_type": "code",
   "execution_count": 63,
   "id": "150b8bc9",
   "metadata": {
    "execution": {
     "iopub.execute_input": "2022-06-02T13:28:21.649421Z",
     "iopub.status.busy": "2022-06-02T13:28:21.649011Z",
     "iopub.status.idle": "2022-06-02T13:28:21.659780Z",
     "shell.execute_reply": "2022-06-02T13:28:21.658736Z"
    },
    "papermill": {
     "duration": 0.054131,
     "end_time": "2022-06-02T13:28:21.661819",
     "exception": false,
     "start_time": "2022-06-02T13:28:21.607688",
     "status": "completed"
    },
    "tags": []
   },
   "outputs": [
    {
     "data": {
      "text/plain": [
       "0.764"
      ]
     },
     "execution_count": 63,
     "metadata": {},
     "output_type": "execute_result"
    }
   ],
   "source": [
    "RecallScore = recall_score(y_test,y_pred,average='weighted')\n",
    "RecallScore"
   ]
  },
  {
   "cell_type": "markdown",
   "id": "63c0c41d",
   "metadata": {
    "papermill": {
     "duration": 0.040049,
     "end_time": "2022-06-02T13:28:21.742526",
     "exception": false,
     "start_time": "2022-06-02T13:28:21.702477",
     "status": "completed"
    },
    "tags": []
   },
   "source": [
    "F1 skoru."
   ]
  },
  {
   "cell_type": "code",
   "execution_count": 64,
   "id": "45748449",
   "metadata": {
    "execution": {
     "iopub.execute_input": "2022-06-02T13:28:21.825356Z",
     "iopub.status.busy": "2022-06-02T13:28:21.824794Z",
     "iopub.status.idle": "2022-06-02T13:28:21.833981Z",
     "shell.execute_reply": "2022-06-02T13:28:21.833366Z"
    },
    "papermill": {
     "duration": 0.052952,
     "end_time": "2022-06-02T13:28:21.836048",
     "exception": false,
     "start_time": "2022-06-02T13:28:21.783096",
     "status": "completed"
    },
    "tags": []
   },
   "outputs": [
    {
     "data": {
      "text/plain": [
       "0.764513699197151"
      ]
     },
     "execution_count": 64,
     "metadata": {},
     "output_type": "execute_result"
    }
   ],
   "source": [
    "F1Score = f1_score(y_test,y_pred,average='weighted')\n",
    "F1Score"
   ]
  },
  {
   "cell_type": "markdown",
   "id": "121abe16",
   "metadata": {
    "papermill": {
     "duration": 0.039642,
     "end_time": "2022-06-02T13:28:21.916482",
     "exception": false,
     "start_time": "2022-06-02T13:28:21.876840",
     "status": "completed"
    },
    "tags": []
   },
   "source": [
    "DecisionTree modeli."
   ]
  },
  {
   "cell_type": "code",
   "execution_count": 65,
   "id": "74db156a",
   "metadata": {
    "execution": {
     "iopub.execute_input": "2022-06-02T13:28:22.000851Z",
     "iopub.status.busy": "2022-06-02T13:28:21.999964Z",
     "iopub.status.idle": "2022-06-02T13:28:22.023987Z",
     "shell.execute_reply": "2022-06-02T13:28:22.023068Z"
    },
    "papermill": {
     "duration": 0.06865,
     "end_time": "2022-06-02T13:28:22.026629",
     "exception": false,
     "start_time": "2022-06-02T13:28:21.957979",
     "status": "completed"
    },
    "tags": []
   },
   "outputs": [],
   "source": [
    "cart = DecisionTreeClassifier(random_state=42,criterion='entropy')\n",
    "cart_model = cart.fit(x_train,y_train)"
   ]
  },
  {
   "cell_type": "markdown",
   "id": "297543b6",
   "metadata": {
    "papermill": {
     "duration": 0.040602,
     "end_time": "2022-06-02T13:28:22.108584",
     "exception": false,
     "start_time": "2022-06-02T13:28:22.067982",
     "status": "completed"
    },
    "tags": []
   },
   "source": [
    "Model ismini yazalım."
   ]
  },
  {
   "cell_type": "code",
   "execution_count": 66,
   "id": "e7651495",
   "metadata": {
    "execution": {
     "iopub.execute_input": "2022-06-02T13:28:22.190595Z",
     "iopub.status.busy": "2022-06-02T13:28:22.190191Z",
     "iopub.status.idle": "2022-06-02T13:28:22.195561Z",
     "shell.execute_reply": "2022-06-02T13:28:22.194873Z"
    },
    "papermill": {
     "duration": 0.048783,
     "end_time": "2022-06-02T13:28:22.197668",
     "exception": false,
     "start_time": "2022-06-02T13:28:22.148885",
     "status": "completed"
    },
    "tags": []
   },
   "outputs": [
    {
     "data": {
      "text/plain": [
       "DecisionTreeClassifier(criterion='entropy', random_state=42)"
      ]
     },
     "execution_count": 66,
     "metadata": {},
     "output_type": "execute_result"
    }
   ],
   "source": [
    "cart_model"
   ]
  },
  {
   "cell_type": "markdown",
   "id": "eabd031a",
   "metadata": {
    "papermill": {
     "duration": 0.040257,
     "end_time": "2022-06-02T13:28:22.277480",
     "exception": false,
     "start_time": "2022-06-02T13:28:22.237223",
     "status": "completed"
    },
    "tags": []
   },
   "source": [
    "Bu model için tahminlerde bulunalım."
   ]
  },
  {
   "cell_type": "code",
   "execution_count": 67,
   "id": "d2ecb9d5",
   "metadata": {
    "execution": {
     "iopub.execute_input": "2022-06-02T13:28:22.360267Z",
     "iopub.status.busy": "2022-06-02T13:28:22.359416Z",
     "iopub.status.idle": "2022-06-02T13:28:22.365904Z",
     "shell.execute_reply": "2022-06-02T13:28:22.365243Z"
    },
    "papermill": {
     "duration": 0.049862,
     "end_time": "2022-06-02T13:28:22.367812",
     "exception": false,
     "start_time": "2022-06-02T13:28:22.317950",
     "status": "completed"
    },
    "tags": []
   },
   "outputs": [],
   "source": [
    "y_pred = cart_model.predict(x_test)"
   ]
  },
  {
   "cell_type": "markdown",
   "id": "0b42465a",
   "metadata": {
    "papermill": {
     "duration": 0.039561,
     "end_time": "2022-06-02T13:28:22.446770",
     "exception": false,
     "start_time": "2022-06-02T13:28:22.407209",
     "status": "completed"
    },
    "tags": []
   },
   "source": [
    "Doğruluk skorunu görüntüleyelim."
   ]
  },
  {
   "cell_type": "code",
   "execution_count": 68,
   "id": "f7abd87f",
   "metadata": {
    "execution": {
     "iopub.execute_input": "2022-06-02T13:28:22.529280Z",
     "iopub.status.busy": "2022-06-02T13:28:22.528294Z",
     "iopub.status.idle": "2022-06-02T13:28:22.535275Z",
     "shell.execute_reply": "2022-06-02T13:28:22.534602Z"
    },
    "papermill": {
     "duration": 0.050114,
     "end_time": "2022-06-02T13:28:22.537255",
     "exception": false,
     "start_time": "2022-06-02T13:28:22.487141",
     "status": "completed"
    },
    "tags": []
   },
   "outputs": [
    {
     "data": {
      "text/plain": [
       "0.836"
      ]
     },
     "execution_count": 68,
     "metadata": {},
     "output_type": "execute_result"
    }
   ],
   "source": [
    "accuracy_score(y_test,y_pred)"
   ]
  },
  {
   "cell_type": "markdown",
   "id": "b7ab5aa9",
   "metadata": {
    "papermill": {
     "duration": 0.041096,
     "end_time": "2022-06-02T13:28:22.619439",
     "exception": false,
     "start_time": "2022-06-02T13:28:22.578343",
     "status": "completed"
    },
    "tags": []
   },
   "source": [
    "****Knn model için doğruluk skoru 0.92, Gaussian modeli için 0.76, DesicionTree için ise 0.83****"
   ]
  },
  {
   "cell_type": "markdown",
   "id": "29ad3038",
   "metadata": {
    "papermill": {
     "duration": 0.039728,
     "end_time": "2022-06-02T13:28:22.699370",
     "exception": false,
     "start_time": "2022-06-02T13:28:22.659642",
     "status": "completed"
    },
    "tags": []
   },
   "source": [
    "Karmaşıklık matrisini görüntüleyelim."
   ]
  },
  {
   "cell_type": "code",
   "execution_count": 69,
   "id": "3f625fd6",
   "metadata": {
    "execution": {
     "iopub.execute_input": "2022-06-02T13:28:22.781213Z",
     "iopub.status.busy": "2022-06-02T13:28:22.780774Z",
     "iopub.status.idle": "2022-06-02T13:28:22.790800Z",
     "shell.execute_reply": "2022-06-02T13:28:22.789351Z"
    },
    "papermill": {
     "duration": 0.053811,
     "end_time": "2022-06-02T13:28:22.793425",
     "exception": false,
     "start_time": "2022-06-02T13:28:22.739614",
     "status": "completed"
    },
    "tags": []
   },
   "outputs": [
    {
     "name": "stdout",
     "output_type": "stream",
     "text": [
      "[[100  11  20   0]\n",
      " [ 19  94   0   0]\n",
      " [  7   0 110  10]\n",
      " [  0   0  15 114]]\n"
     ]
    }
   ],
   "source": [
    "karmasiklik_matrisi=confusion_matrix(y_test,y_pred)\n",
    "print(karmasiklik_matrisi)"
   ]
  },
  {
   "cell_type": "markdown",
   "id": "dff9ebcd",
   "metadata": {
    "papermill": {
     "duration": 0.079411,
     "end_time": "2022-06-02T13:28:22.914144",
     "exception": false,
     "start_time": "2022-06-02T13:28:22.834733",
     "status": "completed"
    },
    "tags": []
   },
   "source": [
    "Hedef özniteliğin değerlerine göre sınıflandırma raporu."
   ]
  },
  {
   "cell_type": "code",
   "execution_count": 70,
   "id": "7a904b2a",
   "metadata": {
    "execution": {
     "iopub.execute_input": "2022-06-02T13:28:22.997714Z",
     "iopub.status.busy": "2022-06-02T13:28:22.997274Z",
     "iopub.status.idle": "2022-06-02T13:28:23.023784Z",
     "shell.execute_reply": "2022-06-02T13:28:23.023038Z"
    },
    "papermill": {
     "duration": 0.071989,
     "end_time": "2022-06-02T13:28:23.028030",
     "exception": false,
     "start_time": "2022-06-02T13:28:22.956041",
     "status": "completed"
    },
    "tags": []
   },
   "outputs": [
    {
     "name": "stdout",
     "output_type": "stream",
     "text": [
      "              precision    recall  f1-score   support\n",
      "\n",
      "      Normal       0.79      0.76      0.78       131\n",
      "      Pahalı       0.90      0.83      0.86       113\n",
      "        Ucuz       0.76      0.87      0.81       127\n",
      "    Çok Ucuz       0.92      0.88      0.90       129\n",
      "\n",
      "    accuracy                           0.84       500\n",
      "   macro avg       0.84      0.84      0.84       500\n",
      "weighted avg       0.84      0.84      0.84       500\n",
      "\n"
     ]
    }
   ],
   "source": [
    "print(classification_report(y_test,y_pred))"
   ]
  }
 ],
 "metadata": {
  "kernelspec": {
   "display_name": "Python 3",
   "language": "python",
   "name": "python3"
  },
  "language_info": {
   "codemirror_mode": {
    "name": "ipython",
    "version": 3
   },
   "file_extension": ".py",
   "mimetype": "text/x-python",
   "name": "python",
   "nbconvert_exporter": "python",
   "pygments_lexer": "ipython3",
   "version": "3.7.12"
  },
  "papermill": {
   "default_parameters": {},
   "duration": 29.267221,
   "end_time": "2022-06-02T13:28:23.993601",
   "environment_variables": {},
   "exception": null,
   "input_path": "__notebook__.ipynb",
   "output_path": "__notebook__.ipynb",
   "parameters": {},
   "start_time": "2022-06-02T13:27:54.726380",
   "version": "2.3.4"
  }
 },
 "nbformat": 4,
 "nbformat_minor": 5
}
